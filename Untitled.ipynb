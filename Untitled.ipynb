{
 "cells": [
  {
   "cell_type": "code",
   "execution_count": null,
   "metadata": {},
   "outputs": [],
   "source": [
    "# some standard python imports #\n",
    "import numpy as np\n",
    "import copy\n",
    "import matplotlib.pyplot as plt\n",
    "%matplotlib inline"
   ]
  },
  {
   "cell_type": "code",
   "execution_count": null,
   "metadata": {},
   "outputs": [],
   "source": [
    "from lenstronomy.LensModel.lens_model import LensModel\n",
    "\n",
    "lens_model_list = ['NIE', 'SHEAR']   \n",
    "\n",
    "#the lens model class is then set up by entering in this list\n",
    "lensModel = LensModel(lens_model_list=lens_model_list)\n",
    "\n",
    "#each of the lens models needs key word arguments, which we define as separate lists\n",
    "kwargs_nie = {'theta_E': 1.1, 'e1': 0.1, 'e2': 0.1, 's_scale': 1, 'center_x': 0, 'center_y': 0}\n",
    "kwargs_shear = {'gamma1': -0.01, 'gamma2': .03}\n",
    "\n",
    "#these lists then get combined into a master list of keywords, which is fed into the calculations\n",
    "kwargs_lens = [kwargs_nie, kwargs_shear]\n",
    "\n",
    "# these are the (angular) coordinates at which the image is observed\n",
    "#presumably this would normally be a whole set of values\n",
    "theta_ra, theta_dec = 1., .5\n",
    "\n",
    "## and this uses the lens equation to trace this image back to the source which produced it\n",
    "beta_ra, beta_dec = lensModel.ray_shooting(theta_ra, theta_dec, kwargs_lens)\n",
    "\n",
    "## the Fermat potential is calculated using the image positions, source positions and lens properties. \n",
    "fermat_pot = lensModel.fermat_potential(x_image=theta_ra, y_image=theta_dec, x_source=beta_ra, y_source=beta_dec, kwargs_lens=kwargs_lens)\n",
    "\n",
    "## the magnification, calculated at specific image coordinates\n",
    "mag = lensModel.magnification(theta_ra, theta_dec, kwargs_lens)"
   ]
  },
  {
   "cell_type": "code",
   "execution_count": null,
   "metadata": {},
   "outputs": [],
   "source": [
    "# import the LightModel class\n",
    "from lenstronomy.LightModel.light_model import LightModel\n",
    "\n",
    "# quasar center (we chose a off-centered position)\n",
    "center_x = 0.02\n",
    "center_y = 0.01\n",
    "\n",
    "# quasar brightness (as measured as the sum of pixel values)\n",
    "point_amp = 10000 \n",
    "from lenstronomy.PointSource.point_source import PointSource\n",
    "point_source_list = ['UNLENSED']\n",
    "pointSource = PointSource(point_source_type_list=point_source_list)\n",
    "kwargs_ps = [{'ra_image': [center_x], 'dec_image': [center_y], 'point_amp': [point_amp]}]\n",
    "\n",
    "\n",
    "# set up the list of light models to be used \n",
    "\n",
    "# this is saying that the source has a sersic light model\n",
    "source_light_model_list = ['SERSIC']\n",
    "#this feeds the source light model into LightModel, to create the lightModel_source object\n",
    "lightModel_source = LightModel(light_model_list=source_light_model_list)\n",
    "\n",
    "#this is saying that the lens has a sersic ellipse light model\n",
    "lens_light_model_list = ['SERSIC_ELLIPSE']\n",
    "#this feeds the lens light model into LightModel, to create the lightModel_lens object\n",
    "lightModel_lens = LightModel(light_model_list=lens_light_model_list)\n",
    "\n",
    "#this defines the keyword arguments of the light source, and centers it where the source is located from previous \n",
    "kwargs_light_source = [{'amp': 100, 'R_sersic': 0.1, 'n_sersic': 1.5, 'center_x': beta_ra, 'center_y': beta_dec}]\n",
    "\n",
    "#this stuff is to do with handling the parameters which are fed into the lens light, though not sure how it works yet\n",
    "import lenstronomy.Util.param_util as param_util\n",
    "e1, e2 = param_util.phi_q2_ellipticity(phi=0.5, q=0.7)\n",
    "kwargs_light_lens = [{'amp': 1000, 'R_sersic': 0.1, 'n_sersic': 2.5, 'e1': e1, 'e2': e2, 'center_x': 0.1, 'center_y': 0}]\n",
    "\n",
    "# evaluate surface brightness at a specific position\n",
    "flux = lightModel_lens.surface_brightness(x=1, y=1, kwargs_list=kwargs_light_lens)\n"
   ]
  },
  {
   "cell_type": "code",
   "execution_count": null,
   "metadata": {},
   "outputs": [],
   "source": []
  },
  {
   "cell_type": "code",
   "execution_count": null,
   "metadata": {},
   "outputs": [],
   "source": []
  },
  {
   "cell_type": "code",
   "execution_count": null,
   "metadata": {},
   "outputs": [],
   "source": []
  },
  {
   "cell_type": "code",
   "execution_count": null,
   "metadata": {},
   "outputs": [],
   "source": []
  },
  {
   "cell_type": "code",
   "execution_count": null,
   "metadata": {},
   "outputs": [],
   "source": []
  }
 ],
 "metadata": {
  "kernelspec": {
   "display_name": "Python 3",
   "language": "python",
   "name": "python3"
  },
  "language_info": {
   "codemirror_mode": {
    "name": "ipython",
    "version": 3
   },
   "file_extension": ".py",
   "mimetype": "text/x-python",
   "name": "python",
   "nbconvert_exporter": "python",
   "pygments_lexer": "ipython3",
   "version": "3.7.4"
  }
 },
 "nbformat": 4,
 "nbformat_minor": 2
}
