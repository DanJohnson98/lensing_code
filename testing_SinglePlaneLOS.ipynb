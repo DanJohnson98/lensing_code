{
 "cells": [
  {
   "cell_type": "markdown",
   "metadata": {
    "button": false,
    "new_sheet": false,
    "run_control": {
     "read_only": false
    }
   },
   "source": [
    "# Testing the SinglePlaneLOS() class"
   ]
  },
  {
   "cell_type": "markdown",
   "metadata": {},
   "source": [
    "This notebook aims to test the features of the line-of-sight branch of lenstronomy, which includes the SinglePlaneLOS() class and the two line-of-sight models: 'LOS' and 'LOS_MINIMAL'. In particular, we check that a lens with line-of-sight corrections is equivalent to a multi-plane lens setting."
   ]
  },
  {
   "cell_type": "markdown",
   "metadata": {},
   "source": [
    "## 1. Setting up the lens models"
   ]
  },
  {
   "cell_type": "code",
   "execution_count": 24,
   "metadata": {
    "button": false,
    "new_sheet": false,
    "run_control": {
     "read_only": false
    }
   },
   "outputs": [],
   "source": [
    "import numpy as np"
   ]
  },
  {
   "cell_type": "markdown",
   "metadata": {
    "button": false,
    "new_sheet": false,
    "run_control": {
     "read_only": false
    }
   },
   "source": [
    "### Shears Model\n",
    "\n",
    "Define a lens with line-of-sight shear using the standard approach of lenstronomy, i.e. add 3 shear planes to the main lens, here modelled as an elliptical power law (EPL)."
   ]
  },
  {
   "cell_type": "code",
   "execution_count": 25,
   "metadata": {},
   "outputs": [],
   "source": [
    "lens_model_list_shears = ['EPL', 'SHEAR', 'SHEAR', 'SHEAR']\n",
    "\n",
    "# Parameters of the main lens\n",
    "# We define its centre as the line of sight\n",
    "kwargs_epl = {'theta_E': 0.8,\n",
    "               'gamma': 1.95,\n",
    "               'center_x': 0,\n",
    "               'center_y': 0,\n",
    "               'e1': .07,\n",
    "               'e2': -0.03}\n",
    "\n",
    "# LOS (linear) shears\n",
    "gamma_od = np.array([0.05, -0.1])\n",
    "gamma_os = np.array([0.02, 0.1])\n",
    "gamma_ds = np.array([0., 0.03])\n",
    "\n",
    "# Cosmology (we need it for the distances that are involved in the relations between shears above)\n",
    "from astropy.cosmology import default_cosmology\n",
    "cosmo = default_cosmology.get()\n",
    "\n",
    "# Lensing setup to generate the 'true' (mock) image:\n",
    "# a main lens (EPL) and three shear planes\n",
    "z_s = 2\n",
    "z_d = 0.5 # redshift of dominant lens\n",
    "z_f = z_d/2 # redshift of foreground shear plane\n",
    "z_b = (z_s + z_d)/2 # redshift of background shear plane\n",
    "lens_redshift_list_shear = [z_d, z_f, z_d, z_b]\n",
    "\n",
    "# Convert line-of-sight shears into lenstronomy shears\n",
    "gamma_f = gamma_od*(\n",
    "    cosmo.angular_diameter_distance_z1z2(0, z_d)\n",
    "    * cosmo.angular_diameter_distance_z1z2(z_f, z_s)\n",
    "    / cosmo.angular_diameter_distance_z1z2(0, z_s)\n",
    "    / cosmo.angular_diameter_distance_z1z2(z_f, z_d))\n",
    "gamma_b = gamma_ds*(\n",
    "    cosmo.angular_diameter_distance_z1z2(0, z_b)\n",
    "    * cosmo.angular_diameter_distance_z1z2(z_d, z_s)\n",
    "    / cosmo.angular_diameter_distance_z1z2(0, z_s)\n",
    "    / cosmo.angular_diameter_distance_z1z2(z_d, z_b))\n",
    "gamma_d = gamma_os - gamma_f - gamma_b\n",
    "           \n",
    "kwargs_gamma_f = {'gamma1': float(gamma_f[0]), 'gamma2': float(gamma_f[1])}\n",
    "kwargs_gamma_d = {'gamma1': float(gamma_d[0]), 'gamma2': float(gamma_d[1])}\n",
    "kwargs_gamma_b = {'gamma1': float(gamma_b[0]), 'gamma2': float(gamma_b[1])}\n",
    "# I used float() here because otherwise astropy complains about units\n",
    "\n",
    "# Generate the complete lens model\n",
    "kwargs_lens_shears = [kwargs_epl,\n",
    "                      kwargs_gamma_f,\n",
    "                      kwargs_gamma_d,\n",
    "                      kwargs_gamma_b]\n",
    "from lenstronomy.LensModel.lens_model import LensModel\n",
    "lens_model_class_shears = LensModel(\n",
    "    lens_model_list_shears,\n",
    "    lens_redshift_list=lens_redshift_list_shear,\n",
    "    z_lens=z_d,\n",
    "    z_source=z_s,\n",
    "    multi_plane=True)"
   ]
  },
  {
   "cell_type": "markdown",
   "metadata": {
    "button": false,
    "new_sheet": false,
    "run_control": {
     "read_only": false
    }
   },
   "source": [
    "### LOS Model\n",
    "\n",
    "Define an EPL with line-of-sight shear corrections."
   ]
  },
  {
   "cell_type": "markdown",
   "metadata": {},
   "source": [
    "<div class=\"alert alert-block alert-info\">\n",
    "    \n",
    "Importantly, in the EPL + 3 shear planes defined above, there are non-linear couplings between the shear planes which lead effectively to second-order convergence and rotation terms in the line-of-sight corrections. These must be taken into account.\n",
    "    \n",
    "Let's call $\\boldsymbol{\\Gamma}_f, \\boldsymbol{\\Gamma}_d, \\boldsymbol{\\Gamma}_b$ the three shear matrices in the foreground, dominant, and background planes. The exact displacement angle in that case reads\n",
    "$$\n",
    "\\boldsymbol{\\alpha}(\\boldsymbol{\\theta})\n",
    "=\n",
    "\\boldsymbol{\\Gamma}_{os}\\boldsymbol{\\theta}\n",
    "+ (1-\\boldsymbol{\\Gamma}_{ds})\n",
    "    \\boldsymbol{\\alpha}_{ods}[(1-\\boldsymbol{\\Gamma}_{od})\\boldsymbol{\\theta}]\n",
    "$$\n",
    "with\n",
    "\\begin{align}\n",
    "\\boldsymbol{\\Gamma}_{od}\n",
    "&= \\boldsymbol{\\Gamma}_{ofd}\n",
    "= \\frac{D_{fd}D_{os}}{D_{od}D_{fs}} \\boldsymbol{\\Gamma}_{f}\n",
    "\\\\\n",
    "\\boldsymbol{\\Gamma}_{ds}\n",
    "&= \\boldsymbol{\\Gamma}_{dbs}\n",
    "= \\frac{D_{os}D_{db}}{D_{ob}D_{ds}} \\boldsymbol{\\Gamma}_{b}\n",
    "\\\\\n",
    "\\boldsymbol{\\Gamma}_{ofb}\n",
    "&= \\frac{D_{os}D_{fb}}{D_{ob}D_{fs}} \\boldsymbol{\\Gamma}_{f}\n",
    "\\\\\n",
    "\\boldsymbol{\\Gamma}_{odb}\n",
    "&= \\frac{D_{os}D_{db}}{D_{ob}D_{ds}} \\boldsymbol{\\Gamma}_{d}\n",
    "\\\\\n",
    "\\boldsymbol{\\Gamma}_{os}\n",
    "&= \\boldsymbol{\\Gamma}_{f} + \\boldsymbol{\\Gamma}_{d} + \\boldsymbol{\\Gamma}_{b}\n",
    "    - \\left[\n",
    "        \\boldsymbol{\\Gamma}_{d} \\boldsymbol{\\Gamma}_{od}\n",
    "        + \\boldsymbol{\\Gamma}_{b} \\boldsymbol{\\Gamma}_{ofb}\n",
    "        + \\boldsymbol{\\Gamma}_{b} \\boldsymbol{\\Gamma}_{odb} (1-\\boldsymbol{\\Gamma}_{od})\n",
    "        \\right]\n",
    "\\end{align}"
   ]
  },
  {
   "cell_type": "code",
   "execution_count": 26,
   "metadata": {
    "button": false,
    "new_sheet": false,
    "run_control": {
     "read_only": false
    }
   },
   "outputs": [
    {
     "name": "stdout",
     "output_type": "stream",
     "text": [
      "------\n",
      "For reference, the non-linear convergence and rotation are:\n",
      "kappa_os = 0.02571553336450699\n",
      "omega_os = -0.006100000000000001\n",
      "while the non-linear corrections to the shear are:\n",
      "gamma_os - (gamma_f + gamma_d + gamma_b) = [ 0.00015415 -0.00080625]\n",
      "------\n",
      "Adding LOS to the main lens.\n"
     ]
    }
   ],
   "source": [
    "lens_model_list_los = ['EPL', 'LOS']\n",
    "\n",
    "# The (od) and (ds) corrections are the ones that we have entered first:\n",
    "kwargs_los = {\n",
    "    'kappa_od': 0, 'kappa_ds': 0,\n",
    "    'omega_od': 0, 'omega_ds': 0,\n",
    "    'gamma1_od': gamma_od[0], 'gamma2_od': gamma_od[1],\n",
    "    'gamma1_ds': gamma_ds[0], 'gamma2_ds': gamma_ds[1]}\n",
    "\n",
    "# but the (os) perturbations are affected by non-linear couplings\n",
    "Id = np.array([[1, 0],\n",
    "               [0, 1]])\n",
    "Gamma_f = np.array([[float(gamma_f[0]), float(gamma_f[1])],\n",
    "                    [float(gamma_f[1]), -float(gamma_f[0])]])\n",
    "Gamma_d = np.array([[float(gamma_d[0]), float(gamma_d[1])],\n",
    "                    [float(gamma_d[1]), -float(gamma_d[0])]])\n",
    "Gamma_b = np.array([[float(gamma_b[0]), float(gamma_b[1])],\n",
    "                    [float(gamma_b[1]), -float(gamma_b[0])]])\n",
    "Gamma_od = np.array([[gamma_od[0], gamma_od[1]],\n",
    "                     [gamma_od[1], -gamma_od[0]]])\n",
    "Gamma_ofb = float(cosmo.angular_diameter_distance_z1z2(0, z_s)\n",
    "                 * cosmo.angular_diameter_distance_z1z2(z_f, z_b)\n",
    "                 / cosmo.angular_diameter_distance_z1z2(0, z_b)\n",
    "                 / cosmo.angular_diameter_distance_z1z2(z_f, z_s)) * np.array(Gamma_f)\n",
    "Gamma_odb = float(cosmo.angular_diameter_distance_z1z2(0, z_s)\n",
    "                 * cosmo.angular_diameter_distance_z1z2(z_d, z_b)\n",
    "                 / cosmo.angular_diameter_distance_z1z2(0, z_b)\n",
    "                 / cosmo.angular_diameter_distance_z1z2(z_d, z_s)) * np.array(Gamma_d)\n",
    "\n",
    "Gamma_os = (Gamma_f + Gamma_d + Gamma_b\n",
    "            - np.matmul(Gamma_d, Gamma_od)\n",
    "            - np.matmul(Gamma_b, Gamma_ofb + np.matmul(Gamma_odb, Id - Gamma_od))\n",
    "           )\n",
    "\n",
    "kappa_os = (Gamma_os[0,0] + Gamma_os[1,1]) / 2\n",
    "gamma1_os = (Gamma_os[0,0] - Gamma_os[1,1]) / 2\n",
    "gamma2_os = (Gamma_os[0,1] + Gamma_os[1,0]) / 2\n",
    "omega_os = (Gamma_os[1,0] - Gamma_os[0,1]) / 2\n",
    "\n",
    "kwargs_los.update({'kappa_os': 0, 'omega_os': 0,\n",
    "                   'gamma1_os': float(gamma_os[0]), 'gamma2_os': float(gamma_os[1])})\n",
    "\n",
    "kwargs_los.update({'kappa_os': kappa_os, 'omega_os': omega_os,\n",
    "                   'gamma1_os': gamma1_os, 'gamma2_os': gamma2_os})\n",
    "\n",
    "print(\"\"\"------\n",
    "For reference, the non-linear convergence and rotation are:\n",
    "kappa_os = {}\n",
    "omega_os = {}\n",
    "while the non-linear corrections to the shear are:\n",
    "gamma_os - (gamma_f + gamma_d + gamma_b) = {}\n",
    "------\"\"\".format(\n",
    "    kappa_os, omega_os,\n",
    "    np.array([gamma1_os, gamma2_os]) - gamma_f - gamma_d - gamma_b))\n",
    "\n",
    "# Generate the full model\n",
    "kwargs_lens_los = [kwargs_epl, kwargs_los]\n",
    "from lenstronomy.LensModel.lens_model import LensModel\n",
    "lens_model_class_los = LensModel(lens_model_list_los,\n",
    "    z_lens=z_d,\n",
    "    z_source=z_s)"
   ]
  },
  {
   "cell_type": "markdown",
   "metadata": {},
   "source": [
    "## 2. Test of the ray-shooting function\n",
    "\n",
    "I've kept the ray-shooting and Hessian tests just as confirmation that my lens models are in fact initialised correctly"
   ]
  },
  {
   "cell_type": "code",
   "execution_count": 27,
   "metadata": {
    "button": false,
    "new_sheet": false,
    "run_control": {
     "read_only": false
    }
   },
   "outputs": [
    {
     "name": "stdout",
     "output_type": "stream",
     "text": [
      "\n",
      "For a list of images with coordinates:\n",
      "x = [3]\n",
      "y = [2]\n",
      "The sources computed with multi-plane lensing are:\n",
      "beta_x = [2.01372567]\n",
      "beta_y = [1.15719699]\n",
      "and the ones from a single plane with LOS corrections are:\n",
      "beta_x = [2.01372567]\n",
      "beta_y = [1.15719699]\n",
      "\n",
      "The difference is:\n",
      "delta beta_x = [-4.4408921e-16]\n",
      "delta beta_y = [-2.22044605e-16]\n",
      "\n"
     ]
    }
   ],
   "source": [
    "# List of positions in the image plane\n",
    "x, y = np.array([3,4,5]), np.array([2,1,0])\n",
    "x, y = np.array([3]), np.array([2])\n",
    "\n",
    "# Apply ray shooting to get the associated sources\n",
    "beta_x_shears, beta_y_shears = lens_model_class_shears.ray_shooting(x, y, kwargs_lens_shears)\n",
    "beta_x_los, beta_y_los = lens_model_class_los.ray_shooting(x, y, kwargs_lens_los)\n",
    "\n",
    "print(\"\"\"\n",
    "For a list of images with coordinates:\n",
    "x = {}\n",
    "y = {}\n",
    "The sources computed with multi-plane lensing are:\n",
    "beta_x = {}\n",
    "beta_y = {}\n",
    "and the ones from a single plane with LOS corrections are:\n",
    "beta_x = {}\n",
    "beta_y = {}\n",
    "\n",
    "The difference is:\n",
    "delta beta_x = {}\n",
    "delta beta_y = {}\n",
    "\"\"\".format(x, y, beta_x_shears, beta_y_shears, beta_x_los, beta_y_los,\n",
    "           beta_x_shears - beta_x_los, beta_y_shears - beta_y_los\n",
    "))"
   ]
  },
  {
   "cell_type": "markdown",
   "metadata": {},
   "source": [
    "The difference is thus machine-precision level."
   ]
  },
  {
   "cell_type": "markdown",
   "metadata": {},
   "source": [
    "## 3. Test of the Hessian matrix function"
   ]
  },
  {
   "cell_type": "code",
   "execution_count": 28,
   "metadata": {
    "button": false,
    "new_sheet": false,
    "run_control": {
     "read_only": false
    }
   },
   "outputs": [
    {
     "name": "stdout",
     "output_type": "stream",
     "text": [
      "\n",
      "For a list of images with coordinates:\n",
      "x = [3 4 5]\n",
      "y = [2 1 0]\n",
      "The Hessian matrices computed with multi-plane lensing are:\n",
      "H_xx = [0.12383605 0.07363234 0.05429661]\n",
      "H_xy = [0.00429612 0.03318208 0.08036052]\n",
      "H_yx = [0.00902487 0.0481959  0.09400629]\n",
      "H_yy = [0.14547454 0.20085891 0.20657697]\n",
      "and the ones from a single plane with LOS corrections are:\n",
      "H_xx = [0.12383607 0.07363238 0.05429655]\n",
      "H_xy = [0.00429611 0.0331821  0.08036043]\n",
      "H_yx = [0.00902492 0.04819587 0.0940063 ]\n",
      "H_yy = [0.14547461 0.2008589  0.20657696]\n",
      "\n",
      "The difference is:\n",
      "delta H_xx = [-1.63872994e-08 -3.39644950e-08  5.69407330e-08]\n",
      "delta H_xy = [ 5.17911217e-09 -1.58417897e-08  9.10747397e-08]\n",
      "delta H_yx = [-5.02853696e-08  3.67822338e-08 -4.05713098e-09]\n",
      "delta H_yy = [-6.63006960e-08  1.19082240e-08  7.69328762e-09]\n",
      "\n"
     ]
    }
   ],
   "source": [
    "# List of positions in the image plane\n",
    "x, y = np.array([3,4,5]), np.array([2,1,0])\n",
    "\n",
    "# Apply the Hessian matrix\n",
    "H_xx_shears, H_xy_shears, H_yx_shears, H_yy_shears = lens_model_class_shears.hessian(x, y, kwargs_lens_shears)\n",
    "H_xx_los, H_xy_los, H_yx_los, H_yy_los = lens_model_class_los.hessian(x, y, kwargs_lens_los)\n",
    "\n",
    "print(\"\"\"\n",
    "For a list of images with coordinates:\n",
    "x = {}\n",
    "y = {}\n",
    "The Hessian matrices computed with multi-plane lensing are:\n",
    "H_xx = {}\n",
    "H_xy = {}\n",
    "H_yx = {}\n",
    "H_yy = {}\n",
    "and the ones from a single plane with LOS corrections are:\n",
    "H_xx = {}\n",
    "H_xy = {}\n",
    "H_yx = {}\n",
    "H_yy = {}\n",
    "\n",
    "The difference is:\n",
    "delta H_xx = {}\n",
    "delta H_xy = {}\n",
    "delta H_yx = {}\n",
    "delta H_yy = {}\n",
    "\"\"\".format(x, y,\n",
    "           H_xx_shears, H_xy_shears, H_yx_shears, H_yy_shears,\n",
    "           H_xx_los, H_xy_los, H_yx_los, H_yy_los,\n",
    "           H_xx_shears - H_xx_los, H_xy_shears - H_xy_los,\n",
    "           H_yx_shears - H_yx_los, H_yy_shears - H_yy_los\n",
    "))"
   ]
  },
  {
   "cell_type": "markdown",
   "metadata": {},
   "source": [
    "The difference is slightly larger than in the ray-shooting case, but still very small."
   ]
  },
  {
   "cell_type": "markdown",
   "metadata": {},
   "source": [
    "## 4. Test of the Fermat Potential and Time Delays"
   ]
  },
  {
   "cell_type": "markdown",
   "metadata": {},
   "source": [
    "### Solving the Lens Equation"
   ]
  },
  {
   "cell_type": "code",
   "execution_count": 29,
   "metadata": {},
   "outputs": [],
   "source": [
    "ra_source, dec_source = 0.05, 0.02\n",
    "\n",
    "from lenstronomy.LensModel.Solver.lens_equation_solver import LensEquationSolver\n",
    "\n",
    "lensEquationSolver_shears = LensEquationSolver(lens_model_class_shears)\n",
    "x_image_shears, y_image_shears = lensEquationSolver_shears.findBrightImage(ra_source, dec_source, kwargs_lens_shears, numImages=4)\n",
    "\n",
    "lensEquationSolver_los = LensEquationSolver(lens_model_class_los)\n",
    "x_image_los, y_image_los = lensEquationSolver_los.findBrightImage(ra_source, dec_source, kwargs_lens_los, numImages=4)\n"
   ]
  },
  {
   "cell_type": "markdown",
   "metadata": {},
   "source": [
    "### Fermat Potential and Time Delays"
   ]
  },
  {
   "cell_type": "code",
   "execution_count": 30,
   "metadata": {},
   "outputs": [
    {
     "name": "stdout",
     "output_type": "stream",
     "text": [
      "\n",
      "For a list of images with coordinates:\n",
      "x = [ 0.62566472 -0.41057627  0.58696047 -0.65282766]\n",
      "y = [ 0.73020599 -0.73823951 -0.50705019  0.31286012]\n",
      "The relative time delays computed with multi-plane lensing are:\n",
      "dt_days = [ 8.01818853 14.50376897 18.01811095]\n",
      "and the ones from a single plane with LOS corrections are:\n",
      "dt_days = [ 8.01818853 14.50376897 18.01811095]\n",
      "\n",
      "The difference is:\n",
      "delta dt_days = [ 4.82884843e-11 -9.82751658e-11  5.80122617e-11]\n",
      "\n"
     ]
    }
   ],
   "source": [
    "#Testing time delays\n",
    "\n",
    "t_days_shears = lens_model_class_shears.arrival_time(x_image_shears, y_image_shears,kwargs_lens_shears)\n",
    "dt_days_shears =  t_days_shears[1:] - t_days_shears[0]\n",
    "\n",
    "t_days_los = lens_model_class_los.arrival_time(x_image_los, y_image_los,kwargs_lens_los)\n",
    "dt_days_los =  t_days_los[1:] - t_days_los[0]\n",
    "\n",
    "print(\"\"\"\n",
    "For a list of images with coordinates:\n",
    "x = {}\n",
    "y = {}\n",
    "The relative time delays computed with multi-plane lensing are:\n",
    "dt_days = {}\n",
    "and the ones from a single plane with LOS corrections are:\n",
    "dt_days = {}\n",
    "\n",
    "The difference is:\n",
    "delta dt_days = {}\n",
    "\"\"\".format(x_image_shears, y_image_shears, dt_days_shears, dt_days_los,\n",
    "           dt_days_shears - dt_days_los\n",
    "))"
   ]
  },
  {
   "cell_type": "markdown",
   "metadata": {},
   "source": [
    "The agreement is excellent"
   ]
  },
  {
   "cell_type": "markdown",
   "metadata": {},
   "source": [
    "## 5. Test of LOS_Minimal"
   ]
  },
  {
   "cell_type": "markdown",
   "metadata": {},
   "source": [
    "The line-of-sight model 'LOS_MINIMAL' inherits from 'LOS' with the following correspondance:\n",
    "\\begin{align}\n",
    "\\boldsymbol{\\Gamma}_{\\rm LOS} &= \\boldsymbol{\\Gamma}_{os}\n",
    "\\\\\n",
    "\\boldsymbol{\\Gamma}_{od} &= \\boldsymbol{\\Gamma}_{ds}\n",
    "\\end{align}\n",
    "Here we test whether 'LOS_MINIMAL' has the expected behaviour."
   ]
  },
  {
   "cell_type": "code",
   "execution_count": 31,
   "metadata": {},
   "outputs": [
    {
     "name": "stdout",
     "output_type": "stream",
     "text": [
      "Adding LOS to the main lens.\n",
      "Adding LOS_MINIMAL to the main lens.\n"
     ]
    }
   ],
   "source": [
    "# Define the two lens models, one with LOS_MINIMAL and one with LOS such that\n",
    "# Gamma_ds = Gamma_od\n",
    "\n",
    "kwargs_epl = {'theta_E': 0.8,\n",
    "               'gamma': 1.95,\n",
    "               'center_x': 0,\n",
    "               'center_y': 0,\n",
    "               'e1': .07,\n",
    "               'e2': -0.03}\n",
    "\n",
    "kappa_od = -0.05\n",
    "omega_od = 0.02\n",
    "gamma_od = np.array([0.05, 0])\n",
    "kappa_los = 0.1\n",
    "omega_los = 0.03\n",
    "gamma_los = np.array([0.02, 0.1])\n",
    "kappa_os, omega_os, gamma_os = kappa_los, omega_los, gamma_los\n",
    "kappa_ds, omega_ds, gamma_ds = kappa_od, omega_od, gamma_od\n",
    "\n",
    "kwargs_los = {\n",
    "    'kappa_od': kappa_od, 'kappa_os': kappa_os, 'kappa_ds': kappa_ds,\n",
    "    'omega_od': omega_od, 'omega_os': omega_os, 'omega_ds': omega_ds,\n",
    "    'gamma1_od': gamma_od[0], 'gamma2_od': gamma_od[1],\n",
    "    'gamma1_os': gamma_os[0], 'gamma2_os': gamma_os[1],\n",
    "    'gamma1_ds': gamma_ds[0], 'gamma2_ds': gamma_ds[1]}\n",
    "\n",
    "kwargs_minimal = {\n",
    "    'kappa_od': kappa_od, 'kappa_los': kappa_los,\n",
    "    'omega_od': omega_od, 'omega_los': omega_los,\n",
    "    'gamma1_od': gamma_od[0], 'gamma2_od': gamma_od[1],\n",
    "    'gamma1_los': gamma_os[0], 'gamma2_los': gamma_os[1]}\n",
    "\n",
    "kwargs_lens_los = [kwargs_epl, kwargs_los]\n",
    "kwargs_lens_minimal = [kwargs_epl, kwargs_minimal]\n",
    "\n",
    "from lenstronomy.LensModel.lens_model import LensModel\n",
    "lens_model_class_los = LensModel(['EPL', 'LOS'])\n",
    "lens_model_class_minimal = LensModel(['EPL', 'LOS_MINIMAL'],\n",
    "    z_source=z_s)"
   ]
  },
  {
   "cell_type": "markdown",
   "metadata": {},
   "source": [
    "### Testing ray shooting, Hessian and Fermat potential"
   ]
  },
  {
   "cell_type": "code",
   "execution_count": 32,
   "metadata": {
    "scrolled": false
   },
   "outputs": [
    {
     "name": "stdout",
     "output_type": "stream",
     "text": [
      "\n",
      "For a list of images with coordinates:\n",
      "x = [3 4 5]\n",
      "y = [2 1 0]\n",
      "\n",
      "The sources computed with 'LOS' are:\n",
      "beta_x = [1.80846439 2.62770739 3.54705468]\n",
      "beta_y = [ 0.87584129  0.14657496 -0.63299205]\n",
      "and the ones from a 'LOS_MINIMAL' are:\n",
      "beta_x = [1.80846439 2.62770739 3.54705468]\n",
      "beta_y = [ 0.87584129  0.14657496 -0.63299205]\n",
      "The difference is:\n",
      "delta beta_x = [0. 0. 0.]\n",
      "delta beta_y = [0. 0. 0.]\n",
      "\n",
      "The Hessian matrix computed with 'LOS' is\n",
      "H_xx = [0.20333813 0.14260435 0.12852945]\n",
      "H_xy = [-0.03771881  0.02069722  0.07845606]\n",
      "H_yx = [0.01198476 0.07070373 0.12982992]\n",
      "H_yy = [0.27137682 0.32985634 0.30775012]\n",
      "while the Hessian matrix computed with 'LOS_MINIMAL is':\n",
      "H_xx = [0.20333813 0.14260435 0.12852945]\n",
      "H_xy = [-0.03771881  0.02069722  0.07845606]\n",
      "H_yx = [0.01198476 0.07070373 0.12982992]\n",
      "H_yy = [0.27137682 0.32985634 0.30775012]\n",
      "The difference is:\n",
      "delta H_xx = [0. 0. 0.]\n",
      "delta H_xy = [0. 0. 0.]\n",
      "delta H_yx = [0. 0. 0.]\n",
      "delta H_yy = [0. 0. 0.]\n",
      "\n",
      "The Fermat potentials computed with 'LOS' are:\n",
      "T = [-2.5535596  -2.91578877 -3.64318544]\n",
      "and the ones from a 'LOS_MINIMAL' are:\n",
      "T = [-2.5535596  -2.91578877 -3.64318544]\n",
      "The difference is:\n",
      "delta T = [0. 0. 0.]\n",
      "\n",
      "\n",
      "\n",
      "\n"
     ]
    }
   ],
   "source": [
    "# List of positions in the image plane\n",
    "x, y = np.array([3,4,5]), np.array([2,1,0])\n",
    "\n",
    "# Apply ray shooting to get the associated sources\n",
    "beta_x_los, beta_y_los = lens_model_class_los.ray_shooting(x, y, kwargs_lens_los)\n",
    "beta_x_minimal, beta_y_minimal = lens_model_class_minimal.ray_shooting(x, y, kwargs_lens_minimal)\n",
    "\n",
    "# Hessian matrices\n",
    "H_xx_los, H_xy_los, H_yx_los, H_yy_los = lens_model_class_los.hessian(x, y, kwargs_lens_los)\n",
    "H_xx_minimal, H_xy_minimal, H_yx_minimal, H_yy_minimal = lens_model_class_minimal.hessian(x, y, kwargs_lens_minimal)\n",
    "\n",
    "#time delays\n",
    "fermat_pot_los = lens_model_class_los.fermat_potential(x, y, kwargs_lens_los)\n",
    "fermat_pot_minimal = lens_model_class_minimal.fermat_potential(x, y, kwargs_lens_minimal)\n",
    "\n",
    "print(\"\"\"\n",
    "For a list of images with coordinates:\n",
    "x = {}\n",
    "y = {}\n",
    "\n",
    "The sources computed with 'LOS' are:\n",
    "beta_x = {}\n",
    "beta_y = {}\n",
    "and the ones from a 'LOS_MINIMAL' are:\n",
    "beta_x = {}\n",
    "beta_y = {}\n",
    "The difference is:\n",
    "delta beta_x = {}\n",
    "delta beta_y = {}\n",
    "\n",
    "The Hessian matrix computed with 'LOS' is\n",
    "H_xx = {}\n",
    "H_xy = {}\n",
    "H_yx = {}\n",
    "H_yy = {}\n",
    "while the Hessian matrix computed with 'LOS_MINIMAL is':\n",
    "H_xx = {}\n",
    "H_xy = {}\n",
    "H_yx = {}\n",
    "H_yy = {}\n",
    "The difference is:\n",
    "delta H_xx = {}\n",
    "delta H_xy = {}\n",
    "delta H_yx = {}\n",
    "delta H_yy = {}\n",
    "\n",
    "The Fermat potentials computed with 'LOS' are:\n",
    "T = {}\n",
    "and the ones from a 'LOS_MINIMAL' are:\n",
    "T = {}\n",
    "The difference is:\n",
    "delta T = {}\n",
    "\n",
    "\n",
    "\n",
    "\"\"\".format(x, y, beta_x_los, beta_y_los, beta_x_minimal, beta_y_minimal,\n",
    "           beta_x_los - beta_x_minimal, beta_y_los - beta_y_minimal,\n",
    "           H_xx_los, H_xy_los, H_yx_los, H_yy_los,\n",
    "           H_xx_minimal, H_xy_minimal, H_yx_minimal, H_yy_minimal,\n",
    "           H_xx_los - H_xx_minimal, H_xy_los - H_xy_minimal,\n",
    "           H_yx_los - H_yx_minimal, H_yy_los - H_yy_minimal, \n",
    "           fermat_pot_los, fermat_pot_minimal,\n",
    "           fermat_pot_los - fermat_pot_minimal\n",
    "))"
   ]
  },
  {
   "cell_type": "markdown",
   "metadata": {},
   "source": []
  }
 ],
 "metadata": {
  "kernelspec": {
   "display_name": "Python 3",
   "language": "python",
   "name": "python3"
  },
  "language_info": {
   "codemirror_mode": {
    "name": "ipython",
    "version": 3
   },
   "file_extension": ".py",
   "mimetype": "text/x-python",
   "name": "python",
   "nbconvert_exporter": "python",
   "pygments_lexer": "ipython3",
   "version": "3.7.4"
  }
 },
 "nbformat": 4,
 "nbformat_minor": 5
}
