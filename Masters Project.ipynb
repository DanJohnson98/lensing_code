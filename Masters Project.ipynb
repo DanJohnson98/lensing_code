{
 "cells": [
  {
   "cell_type": "code",
   "execution_count": null,
   "metadata": {},
   "outputs": [],
   "source": []
  },
  {
   "cell_type": "code",
   "execution_count": 1,
   "metadata": {},
   "outputs": [
    {
     "data": {
      "text/plain": [
       "<Figure size 640x480 with 2 Axes>"
      ]
     },
     "metadata": {},
     "output_type": "display_data"
    }
   ],
   "source": [
    "\n",
    "import math\n",
    "import numpy as np\n",
    "import matplotlib.pyplot as plt\n",
    "from matplotlib import figure\n",
    "from ipywidgets import interact\n",
    "import matplotlib.gridspec as gridspec\n",
    "\n",
    "plt.rc('font', size=15)         \n",
    "plt.rc('axes', labelsize=20)\n",
    "\n",
    "def muplus(beta):\n",
    "    return 0.25*(1+np.sqrt(1+4/(beta**2)))*(1+beta/np.sqrt(beta**2+4))\n",
    "\n",
    "def muminus(beta):\n",
    "    return 0.25*(1-np.sqrt(1+4/(beta**2)))*(1-beta/np.sqrt(beta**2+4))\n",
    "\n",
    "def thetaplus(beta):\n",
    "    return 0.5*(beta+np.sqrt(beta**2+4))\n",
    "\n",
    "def thetaminus(beta):\n",
    "    return 0.5*(beta-np.sqrt(beta**2+4))\n",
    "\n",
    "\n",
    "def graphs(b):\n",
    "\n",
    "    betas = np.linspace(0.1,10,1000)\n",
    "\n",
    "    mup = muplus(betas*b)\n",
    "    mum = muminus(betas*b)\n",
    "    \n",
    "    plt.figure(1)\n",
    "    gs = gridspec.GridSpec(2, 1,height_ratios=[1,1])\n",
    "\n",
    "    ax1=plt.subplot(gs[0])\n",
    "    line1 = plt.plot(betas,thetaplus(betas*b),'r',label=r'$\\mu+$')\n",
    "    line2 = plt.plot(betas,thetaminus(betas*b),'b',label=r'$\\mu-$')\n",
    "    plt.xticks([])\n",
    "    plt.legend()\n",
    "    plt.ylabel(r'$\\theta$')\n",
    "\n",
    "    ax2=plt.subplot(gs[1])\n",
    "    line1=plt.plot(betas,mup,'r',label=r'$\\mu+$')\n",
    "    line2=plt.plot(betas,mum,'b',label=r'$\\mu-$')\n",
    "    plt.xlabel(r'$\\frac{\\beta}{\\theta_E}$')\n",
    "    plt.ylabel(r'$\\mu$')\n",
    "    plt.legend()\n",
    "    plt.show()\n",
    "    \n",
    "graphs(1)"
   ]
  },
  {
   "cell_type": "code",
   "execution_count": null,
   "metadata": {},
   "outputs": [],
   "source": []
  },
  {
   "cell_type": "code",
   "execution_count": 2,
   "metadata": {
    "scrolled": false
   },
   "outputs": [
    {
     "data": {
      "application/vnd.jupyter.widget-view+json": {
       "model_id": "5d86186924ba4946bda0b90fbaccdc48",
       "version_major": 2,
       "version_minor": 0
      },
      "text/plain": [
       "interactive(children=(Dropdown(description='fineness', index=4, options=(10, 20, 50, 70, 100, 200, 500, 1000),…"
      ]
     },
     "metadata": {},
     "output_type": "display_data"
    }
   ],
   "source": [
    "import math\n",
    "import numpy as np\n",
    "import matplotlib.pyplot as plt\n",
    "from matplotlib import figure\n",
    "from ipywidgets import interact\n",
    "from scipy.interpolate import Rbf\n",
    "from scipy.interpolate import griddata\n",
    "import matplotlib.gridspec as gridspec\n",
    "from scipy.interpolate import LinearNDInterpolator\n",
    "\n",
    "plt.rcParams['figure.figsize'] = [10, 10]\n",
    "\n",
    "#source brightness distribution profiles\n",
    "def rad(x,y,s,f):\n",
    "    return 1.5*s/(np.sqrt(x**2+y**2)+0.1)\n",
    "\n",
    "def radsqr(x,y,s,f):\n",
    "    return 2*s/(x**2+y**2+0.1)\n",
    "\n",
    "def exp(x,y,s,f):\n",
    "    return 15*np.exp(-(3*s*np.sqrt(x**2+y**2))+0.1)\n",
    "\n",
    "def twopoints(x,y,s,f):\n",
    "    return 1.5/(np.sqrt((x-s)**2+(y)**2))+1.5/(np.sqrt((x+s)**2+(y)**2)+0.01)\n",
    "\n",
    "def multipoint(x,y,nn,centt_x,centt_y,peak):\n",
    "    \n",
    "    bri = np.zeros(nn)\n",
    "    \n",
    "    for i in range(nn):\n",
    "        bri[i] = peak[i]/((x-centt_x[i])**2+(y-centt_y[i])**2+0.01)\n",
    "    \n",
    "    bb = np.sum(bri)\n",
    "                       \n",
    "    return bb\n",
    "\n",
    "def point(x,y,s,f):\n",
    "    if x**2 + y**2 < 0.1*s:\n",
    "        return 10\n",
    "    else:\n",
    "        return 0\n",
    "\n",
    "#xi_1 will be x\n",
    "#xi_2 will be y\n",
    "    \n",
    "def ellipse(x,y,s,f,angle):\n",
    "    xnew = x*np.cos(angle)-y*np.sin(angle)\n",
    "    ynew = x*np.sin(angle)+y*np.cos(angle)\n",
    "    return np.sqrt(f)*3*s*(1/np.sqrt(xnew**2+(f**2)*ynew**2)) \n",
    "    \n",
    "#alphas\n",
    "\n",
    "def alpha_point(x,y,f):\n",
    "    theta = np.sqrt(x**2+y**2)\n",
    "    phi = math.atan2(y,x)\n",
    "    r = 1/theta\n",
    "    xx = r*np.cos(phi)\n",
    "    yy = r*np.sin(phi)\n",
    "    return (xx,yy)    \n",
    "\n",
    "def alpha_SIS(x,y,f):\n",
    "    theta = np.sqrt(x**2+y**2)\n",
    "    phi = math.atan2(y,x)\n",
    "    r = theta/np.abs(theta)\n",
    "    xx = r*np.cos(phi)\n",
    "    yy = r*np.sin(phi)\n",
    "    return (xx,yy) \n",
    "\n",
    "def alpha_SIE(x,y,f):\n",
    "    if x == y == 0:\n",
    "        phi = 0\n",
    "    else:\n",
    "        phi = math.atan2(y,x)\n",
    "        \n",
    "    xx = np.sqrt(f/(1-f**2))*np.arcsinh(np.sqrt(1-f**2)*np.cos(phi)/f)   \n",
    "    yy = np.sqrt(f/(1-f**2))*np.arcsin(np.sqrt(1-f**2)*np.sin(phi))\n",
    "    \n",
    "    return (xx,yy) \n",
    "\n",
    "\n",
    "def delta(phi,ff):\n",
    "    return np.sqrt((np.cos(phi))**2+(ff**2)*(np.sin(phi))**2)\n",
    "\n",
    "#the random positions of all the points in multipoint\n",
    "cent_x = np.random.uniform(low=-4.0, high=4.0, size=100)\n",
    "cent_y = np.random.uniform(low=-2.0, high=2.0, size=100)\n",
    "peaks = np.random.uniform(low=0.0, high=0.1, size=100)\n",
    "\n",
    "\n",
    "#x and y coordinates for plotting the Einstein radius\n",
    "xcircle = np.linspace(-1,1,100)\n",
    "ycircle = np.sqrt(1-xcircle**2)\n",
    "ycircle2 = -np.sqrt(1-xcircle**2)\n",
    "\n",
    "\n",
    "#plotting an interactive graph\n",
    "def graph(fineness=100, profile='rad',lens='point mass',lens_visibility='opaque',s_parameter=2,f_lens=0.5,f_source=0.5,angle_source=0,centre_x=0.0,centre_y=0.0):\n",
    "    \n",
    "    f = f_lens\n",
    "    \n",
    "    if profile == 'rad':\n",
    "        prof = rad\n",
    "    elif profile == 'radsqr':\n",
    "        prof = radsqr\n",
    "    elif profile == 'exp':\n",
    "        prof = exp\n",
    "    elif profile =='two points':\n",
    "        prof = twopoints\n",
    "    elif profile=='multiple points':\n",
    "        prof = multipoint\n",
    "    elif profile=='point':\n",
    "        prof = point\n",
    "    elif profile=='ellipse':\n",
    "        prof = ellipse\n",
    "        \n",
    "    if lens == 'point mass':\n",
    "        alpha = alpha_point\n",
    "        lens_profile = point\n",
    "        \n",
    "    elif lens == 'SIS':\n",
    "        alpha = alpha_SIS\n",
    "        lens_profile = radsqr\n",
    "        \n",
    "    elif lens == 'SIE':\n",
    "        alpha = alpha_SIE\n",
    "        lens_profile = ellipse\n",
    "    \n",
    "    #max X and Y values out to which we plot the brightness distribution \n",
    "    maxx = 3\n",
    "    \n",
    "    #the x and y coordinates of all points in the source\n",
    "    x = np.linspace(-maxx,maxx,fineness)\n",
    "    y = np.linspace(-maxx,maxx,fineness)\n",
    "    \n",
    "    #we need to turn this into a grid, and so\n",
    "    X,Y  = np.meshgrid(x,y)\n",
    "    \n",
    "    #creating an array to hold the values of brightness\n",
    "    source_brightnesses = np.zeros(X.shape)\n",
    "    source_brightnesses = np.zeros(X.shape)\n",
    "    image_brightnesses = np.zeros(X.shape)\n",
    "    lensb = np.zeros(X.shape)\n",
    "    \n",
    "    #calculating the brightnesses for the choice of profile\n",
    "    if profile == 'multiple points':\n",
    "    \n",
    "        n = int(round(20*s_parameter))\n",
    "\n",
    "        for i in range(len(x)):\n",
    "            for j in range(len(y)):\n",
    "                xs = X[i][j]-centre_x\n",
    "                ys = Y[i][j]-centre_y\n",
    "                source_brightnesses[i][j] = prof(xs,ys,n,cent_x,cent_y,peaks)\n",
    "                image_brightnesses[i][j] = prof(xs-alpha(X[i][j],Y[i][j],f)[0],ys-alpha(X[i][j],Y[i][j],f)[1],n,cent_x,cent_y,peaks)\n",
    "    \n",
    "    elif profile == 'ellipse':\n",
    "        for i in range(len(x)):\n",
    "            for j in range(len(y)):\n",
    "                xs = X[i][j]-centre_x\n",
    "                ys = Y[i][j]-centre_y\n",
    "                source_brightnesses[i][j] = ellipse(xs,ys,0.5*s_parameter,f_source,angle_source)            \n",
    "                image_brightnesses[i][j] = prof(xs-alpha(X[i][j],Y[i][j],f)[0],ys-alpha(X[i][j],Y[i][j],f)[1],0.5*s_parameter,f_source,angle_source)         \n",
    "    \n",
    "    else:\n",
    "        for i in range(len(x)):\n",
    "            for j in range(len(y)):\n",
    "                xs = X[i][j]-centre_x\n",
    "                ys = Y[i][j]-centre_y\n",
    "                source_brightnesses[i][j] = prof(xs,ys,0.5*s_parameter,f)            \n",
    "                image_brightnesses[i][j] = prof(xs-alpha(X[i][j],Y[i][j],f)[0],ys-alpha(X[i][j],Y[i][j],f)[1],0.5*s_parameter,f) \n",
    "    \n",
    "    if lens=='SIE':\n",
    "        for i in range(len(x)):\n",
    "            for j in range(len(y)):\n",
    "                lensb[i][j] = lens_profile(X[i][j],Y[i][j],0.5,f,0)        \n",
    "    else:\n",
    "        for i in range(len(x)):\n",
    "            for j in range(len(y)):\n",
    "                lensb[i][j] = lens_profile(X[i][j],Y[i][j],0.5,f)\n",
    "    \n",
    "    #calculating the critical curve\n",
    "    if lens == 'SIE':\n",
    "        phis = np.linspace(0,2*np.pi,1000)\n",
    "        r = np.zeros(len(phis))\n",
    "        crit_x = np.zeros(len(phis))\n",
    "        crit_y = np.zeros(len(phis))      \n",
    "        caust_x = np.zeros(len(phis))\n",
    "        caust_y = np.zeros(len(phis))  \n",
    "        for i in range(len(phis)):\n",
    "            r[i] = np.sqrt(f)/np.sqrt((np.cos(phis[i]))**2+(f**2)*(np.sin(phis[i]))**2)\n",
    "            crit_x[i] = r[i]*np.cos(phis[i])\n",
    "            crit_y[i] = r[i]*np.sin(phis[i])\n",
    "            caust_x[i] = crit_x[i] - alpha(crit_x[i],crit_y[i],f)[0]\n",
    "            caust_y[i] = crit_y[i] - alpha(crit_x[i],crit_y[i],f)[1]\n",
    "    \n",
    "\n",
    "    #sets the colour gradients\n",
    "    levlist = np.arange(0,11,0.2)\n",
    "    lenslev1 = np.arange(8,18,1)\n",
    "    lenslev2 = np.arange(3,18,1)\n",
    "    \n",
    "    plt.figure(1)\n",
    "    gs = gridspec.GridSpec(2, 1,height_ratios=[1,1])\n",
    "\n",
    "    ax1=plt.subplot(gs[0])\n",
    "    plt.title('Source Plane')\n",
    "    line1 = plt.contourf(X,Y,source_brightnesses,levels=levlist,cmap=plt.get_cmap('hot'))\n",
    "    line2 = plt.plot(0,0,'bx')\n",
    "    if lens == 'SIE':\n",
    "        line4 = plt.plot(caust_x,caust_y,'g--')    \n",
    "    elif lens == 'point mass' or 'SIS':\n",
    "        line4 = plt.plot(xcircle,ycircle,'b--')\n",
    "        line5 = plt.plot(xcircle,ycircle2,'b--')\n",
    "    plt.xlim(-3,3)\n",
    "    plt.ylim(-1.5,1.5)\n",
    "    plt.gca().set_aspect('equal')\n",
    "    plt.colorbar()\n",
    "    \n",
    "    #X_edges, Y_edges = np.meshgrid(edges, edges)\n",
    "    \n",
    "    ax2=plt.subplot(gs[1])\n",
    "    plt.title('Image Plane')\n",
    "    line1 = plt.contourf(X,Y,image_brightnesses,levels=levlist, cmap=plt.get_cmap('hot'))\n",
    "    line3 = plt.plot(0,0,'bx')\n",
    "    if lens == 'SIE':\n",
    "        line4 = plt.plot(crit_x,crit_y,'g--')    \n",
    "    elif lens == 'point mass' or 'SIS':\n",
    "        line4 = plt.plot(xcircle,ycircle,'b--')\n",
    "        line5 = plt.plot(xcircle,ycircle2,'b--')\n",
    "    plt.colorbar()\n",
    "    if lens_visibility=='opaque':\n",
    "        line6 = plt.contourf(X,Y,lensb,levels=lenslev1, cmap=plt.get_cmap('Blues_r'),alpha = 0.9,extend='max')  \n",
    "        line7 = plt.contourf(X,Y,lensb,levels=lenslev2, cmap=plt.get_cmap('Blues_r'),alpha = 0.5,extend='max')\n",
    "    plt.xlim(-3,3)\n",
    "    plt.ylim(-1.5,1.5)\n",
    "    plt.gca().set_aspect('equal')\n",
    "\n",
    "\n",
    "\n",
    "interact(graph, fineness = [10,20,50,70,100,200,500,1000],profile=['rad','radsqr','exp','two points','multiple points','point','ellipse'],lens=['point mass','SIS','SIE'],lens_visibility=['opaque','transparent'], s_parameter = (0,5,0.2), f_lens=(0.1,0.99,0.05), f_source=(0.1,0.99,0.05), angle_source=(0.0,np.pi,0.05), centre_x=(-3,3,0.05),centre_y=(-3,3,0.05))\n",
    "plt.show()"
   ]
  },
  {
   "cell_type": "markdown",
   "metadata": {},
   "source": [
    "Standard imports"
   ]
  },
  {
   "cell_type": "code",
   "execution_count": null,
   "metadata": {
    "scrolled": false
   },
   "outputs": [],
   "source": [
    "# some standard python imports #\n",
    "import numpy as np\n",
    "import copy\n",
    "import matplotlib.pyplot as plt\n",
    "%matplotlib inline\n",
    "\n",
    "# import the LensModel class #\n",
    "from lenstronomy.LensModel.lens_model import LensModel"
   ]
  },
  {
   "cell_type": "markdown",
   "metadata": {},
   "source": [
    "LensModel\n",
    "\n",
    "The LensModel package executes everything which is purely lensing related. Ray-shooting, solving the lens equation, arrival time computation and non-linear solers to optimize lens models for specific image configuration.\n",
    "\n",
    "LensModel is a class. When setting up a lens model, we define an item of that class, which is classified according to a list of lens models.\n",
    "\n",
    "The default setting for LensModel is single plane lensing. Any lens models entered into the list will be super-imposed on one another.\n",
    "\n",
    "The lens models can be found at: https://lenstronomy.readthedocs.io/en/latest/lenstronomy.LensModel.Profiles.html\n",
    "\n",
    "The base_profile class \"acts as the base class of all lens model functions and indicates raise statements and default outputs if these functions are not defined in the specific lens model class\"\n",
    "\n",
    "There's also an explanation for flexion, F flexion and G flexion, the Hessian distortion, and the numerical deflections module, which allows any lens profile to be incorporated into lenstronomy, and calculated numerically\n",
    "\n",
    "the rest of it just lists the module, presumably the inputs are the same as for the base_profile class\n",
    "\n",
    "Note, for LensModel, you specify the type of lens model which you are working with, but must then further specify the keyword arguments when using attributes of LensModel.\n",
    "\n",
    "*note, while a redshift for the lens or source is not specified, this kind of information is contained within the specification of the Einstein radius"
   ]
  },
  {
   "cell_type": "code",
   "execution_count": null,
   "metadata": {},
   "outputs": [],
   "source": [
    "#firstly, we stick all the lens models we're going to use in a list, as follows\n",
    "\n",
    "lens_model_list = ['EPL', 'SHEAR']   \n",
    "\n",
    "#the lens model class is then set up by entering in this list\n",
    "lensModel = LensModel(lens_model_list=lens_model_list)\n",
    "\n",
    "#each of the lens models needs key word arguments, which we define as separate lists\n",
    "kwargs_epl = {'theta_E': 1.1, 'e1': 0.1, 'e2': 0.1, 'gamma': 2., 'center_x': 0.1, 'center_y': 0}\n",
    "kwargs_shear = {'gamma1': -0.01, 'gamma2': .03}\n",
    "\n",
    "#these lists then get combined into a master list of keywords, which is fed into the calculations\n",
    "kwargs_lens = [kwargs_epl, kwargs_shear]\n",
    "\n",
    "# these are the (angular) coordinates at which the image is observed\n",
    "#presumably this would normally be a whole set of values\n",
    "theta_ra, theta_dec = 1., .5\n",
    "\n",
    "## and this uses the lens equation to trace this image back to the source which produced it\n",
    "beta_ra, beta_dec = lensModel.ray_shooting(theta_ra, theta_dec, kwargs_lens)\n",
    "\n",
    "## the Fermat potential is calculated using the image positions, source positions and lens properties. \n",
    "fermat_pot = lensModel.fermat_potential(x_image=theta_ra, y_image=theta_dec, x_source=beta_ra, y_source=beta_dec, kwargs_lens=kwargs_lens)\n",
    "\n",
    "## the magnification, calculated at specific image coordinates\n",
    "mag = lensModel.magnification(theta_ra, theta_dec, kwargs_lens)\n",
    "\n"
   ]
  },
  {
   "cell_type": "markdown",
   "metadata": {},
   "source": [
    "Multi-Plane Lensing\n",
    "\n",
    "Instead of having all the lenses in a single plane, they can instead be separated out by specifying different redshifts\n",
    "\n",
    "*now, we have to specify the redshift of all the planes, including the source\n",
    "\n",
    "Notice that the lensModel class which is defined then has e.g. .ray_shooting or .magnification put at the end to get those values from the model. These things take right ascension and declinations as "
   ]
  },
  {
   "cell_type": "code",
   "execution_count": null,
   "metadata": {},
   "outputs": [],
   "source": [
    "#the source redshift\n",
    "z_source = 1.5\n",
    "\n",
    "#the redshifts of the planes. Note that the external shear is given the same redshift as the primary lens \n",
    "redshift_list = [0.5, 0.5, .1]\n",
    "\n",
    "#Once again, we put in a list of lens models, but this time, we feed the redshifts into the lensmodel function as well\n",
    "#you also need to set multi_plane to be true\n",
    "lens_model_list_mp = ['EPL', 'SHEAR', 'SIS']\n",
    "lensModel_mp = LensModel(lens_model_list=lens_model_list_mp, z_source=z_source, lens_redshift_list=redshift_list, multi_plane=True)\n",
    "\n",
    "#we use the same parameters for EPL and SHEAR, but now add SIS parameters\n",
    "kwargs_sis = {'theta_E': 0.1, 'center_x': 1., 'center_y': -0.1}\n",
    "kwargs_lens_mp = [kwargs_epl, kwargs_shear, kwargs_sis]\n",
    "\n",
    "# source plane coordinate\n",
    "beta_ra, beta_dec = lensModel_mp.ray_shooting(theta_ra, theta_dec, kwargs_lens_mp)\n",
    "\n",
    "# Magnification\n",
    "mag = lensModel_mp.magnification(theta_ra, theta_dec, kwargs_lens_mp)\n",
    "\n",
    "# arrival time relative to a straight path through (0,0) \n",
    "dt = lensModel_mp.arrival_time(theta_ra, theta_dec, kwargs_lens_mp)\n"
   ]
  },
  {
   "cell_type": "markdown",
   "metadata": {},
   "source": [
    "Lens Equation Solver\n",
    "\n",
    "Instead of solving for the source positions given the image positions (\"ray tracing\"), we can determine which images would be produced by a certain source using LensEquationSolver"
   ]
  },
  {
   "cell_type": "code",
   "execution_count": null,
   "metadata": {},
   "outputs": [],
   "source": [
    "# import the lens equation solver class \n",
    "from lenstronomy.LensModel.Solver.lens_equation_solver import LensEquationSolver\n",
    "\n",
    "# specifiy the lens model class to deal with #\n",
    "solver = LensEquationSolver(lensModel)\n",
    "\n",
    "# solve for image positions provided a lens model and the source position #\n",
    "theta_ra, theta_dec = solver.image_position_from_source(beta_ra, beta_dec, kwargs_lens)\n",
    "\n",
    "# the magnification of the point source images #\n",
    "mag = lensModel.magnification(theta_ra, theta_dec, kwargs_lens)\n",
    "\n",
    "##trying the same with multi-plane lensing\n",
    "\n",
    "# specifiy the lens model class to deal with #\n",
    "solver_mp = LensEquationSolver(lensModel_mp)\n",
    "\n",
    "# solve for image positions provided a lens model and the source position #\n",
    "theta_ra, theta_dec = solver.image_position_from_source(beta_ra, beta_dec, kwargs_lens_mp)\n",
    "\n",
    "# the magnification of the point source images #\n",
    "mag = lensModel.magnification(theta_ra, theta_dec, kwargs_lens_mp)\n",
    "\n"
   ]
  },
  {
   "cell_type": "markdown",
   "metadata": {},
   "source": [
    "Illustration of lens models\n",
    "\n",
    "In gray-scale is the convergence map of the lens models,\n",
    "\n",
    "Red lines correspond to the critical curve,\n",
    "\n",
    "Green lines correspond to the caustics,\n",
    "\n",
    "The star is the source position,\n",
    "\n",
    "The diamonds are the corresponding image positions"
   ]
  },
  {
   "cell_type": "code",
   "execution_count": null,
   "metadata": {
    "scrolled": false
   },
   "outputs": [],
   "source": [
    "\n",
    "from ipywidgets import interact\n",
    "from lenstronomy.Plots import lens_plot\n",
    "\n",
    "#plotting an interactive graph\n",
    "def graph(sourceposx=0,sourceposy=0,thetaE=0.1,centrex=0.5,centrey=0.5):\n",
    "    kwargs_sis_int = {'theta_E': thetaE, 'center_x': centrex, 'center_y': centrey}\n",
    "    kwargs_lens_mp_int = [kwargs_epl, kwargs_shear, kwargs_sis_int]\n",
    "    f, axex = plt.subplots(1, 2, figsize=(10, 5), sharex=False, sharey=False)\n",
    "    lens_plot.lens_model_plot(axex[0], lensModel=lensModel, kwargs_lens=kwargs_lens, sourcePos_x=sourceposx, sourcePos_y=sourceposy, point_source=True, with_caustics=True, fast_caustic=True, coord_inverse=False)\n",
    "    lens_plot.lens_model_plot(axex[1], lensModel=lensModel_mp, kwargs_lens=kwargs_lens_mp_int, sourcePos_x=sourceposx, sourcePos_y=sourceposy, point_source=True, with_caustics=True, fast_caustic=True, coord_inverse=False)\n",
    "\n",
    "interact(graph,sourceposx=(-2,2,0.1),sourceposy=(-2,2,0.1),thetaE=(0.1,2,0.1),centrex=(-2,2,0.1),centrey=(-2,2,0.1)) \n",
    "\n",
    "#does the convergence map of the background lens change because the foreground lens is changing?"
   ]
  },
  {
   "cell_type": "markdown",
   "metadata": {},
   "source": [
    "LightModel Module\n",
    "\n",
    "This one also has some info: https://lenstronomy.readthedocs.io/en/latest/lenstronomy.LightModel.Profiles.html\n",
    "\n",
    "It basically allows galaxy surface brightnesses to be described. Up to this point, what we have been plotting is just the convergence maps etc of a lens, and what happens to a point source. We now want to plot what happens to a distribution of light, and so we use this module. Note this allows us to determine the light of the lens and the source.\n",
    "\n",
    "flux then determines the surface brightness at a specific position"
   ]
  },
  {
   "cell_type": "code",
   "execution_count": 8,
   "metadata": {},
   "outputs": [
    {
     "data": {
      "text/plain": [
       "<matplotlib.colorbar.Colorbar at 0x21f755fdac8>"
      ]
     },
     "execution_count": 8,
     "metadata": {},
     "output_type": "execute_result"
    },
    {
     "data": {
      "image/png": "[encoded data removed]",
      "text/plain": [
       "<Figure size 432x288 with 2 Axes>"
      ]
     },
     "metadata": {
      "needs_background": "light"
     },
     "output_type": "display_data"
    },
    {
     "data": {
      "image/png": "[encoded data removed]",
      "text/plain": [
       "<Figure size 432x288 with 2 Axes>"
      ]
     },
     "metadata": {
      "needs_background": "light"
     },
     "output_type": "display_data"
    }
   ],
   "source": [
    "# import the LightModel class\n",
    "from lenstronomy.LightModel.light_model import LightModel\n",
    "\n",
    "# set up the list of light models to be used \n",
    "\n",
    "# this is saying that the source has a sersic light model\n",
    "source_light_model_list = ['SERSIC']\n",
    "#this feeds the source light model into LightModel, to create the lightModel_source object\n",
    "lightModel_source = LightModel(light_model_list=source_light_model_list)\n",
    "\n",
    "#this is saying that the lens has a sersic ellipse light model\n",
    "lens_light_model_list = ['SERSIC_ELLIPSE']\n",
    "#this feeds the lens light model into LightModel, to create the lightModel_lens object\n",
    "lightModel_lens = LightModel(light_model_list=lens_light_model_list)\n",
    "\n",
    "#this defines the keyword arguments of the light source, and centers it where the source is located from previous \n",
    "kwargs_light_source = [{'amp': 100, 'R_sersic': 0.1, 'n_sersic': 1.5, 'center_x': beta_ra, 'center_y': beta_dec}]\n",
    "\n",
    "#this stuff is to do with handling the parameters which are fed into the lens light, though not sure how it works yet\n",
    "import lenstronomy.Util.param_util as param_util\n",
    "e1, e2 = param_util.phi_q2_ellipticity(phi=0.5, q=0.7)\n",
    "kwargs_light_lens = [{'amp': 1000, 'R_sersic': 0.1, 'n_sersic': 2.5, 'e1': e1, 'e2': e2, 'center_x': 0.1, 'center_y': 0}]\n",
    "\n",
    "# evaluate surface brightness at a specific position\n",
    "flux = lightModel_lens.surface_brightness(x=1, y=1, kwargs_list=kwargs_light_lens)\n",
    "\n",
    "#so this seems to only be evaluating the flux from the lens. Not sure what the point is of all this then. \n",
    "#I guess it happens with image simulation? Mass distribution and light distribution aren't the same\n",
    "\n",
    "\n",
    "#my own thing\n",
    "\n",
    "levlist = np.arange(0,20,1)\n",
    "maxx = 5\n",
    "fineness = 100\n",
    "\n",
    "#the x and y coordinates of all points in the source\n",
    "x = np.linspace(-maxx,maxx,fineness)\n",
    "y = np.linspace(-maxx,maxx,fineness)\n",
    "    \n",
    "#we need to turn this into a grid, and so\n",
    "X,Y  = np.meshgrid(x,y)\n",
    "source_brightnesses = np.zeros(X.shape)\n",
    "lens_brightnesses = np.zeros(X.shape)\n",
    "\n",
    "for i in range(len(x)):\n",
    "    for j in range(len(y)):\n",
    "            xs = X[i][j]\n",
    "            ys = Y[i][j]\n",
    "            source_brightnesses[i][j] = lightModel_source.surface_brightness(x=xs,y=ys,kwargs_list=kwargs_light_source)\n",
    "            lens_brightnesses[i][j] = lightModel_lens.surface_brightness(x=xs,y=ys,kwargs_list=kwargs_light_lens)\n",
    "            \n",
    "plt.figure(1)\n",
    "plt.title('Source Plane')\n",
    "line1 = plt.contourf(X,Y,source_brightnesses,levels=levlist,cmap=plt.get_cmap('hot'))\n",
    "line2 = plt.plot(0,0,'bx')\n",
    "plt.xlim(-3,3)\n",
    "plt.ylim(-1.5,1.5)\n",
    "plt.gca().set_aspect('equal')\n",
    "plt.colorbar()\n",
    "\n",
    "plt.figure(2)\n",
    "plt.title('Lens Plane')\n",
    "line1 = plt.contourf(X,Y,lens_brightnesses,levels=levlist,cmap=plt.get_cmap('hot'))\n",
    "line2 = plt.plot(0,0,'bx')\n",
    "plt.xlim(-3,3)\n",
    "plt.ylim(-1.5,1.5)\n",
    "plt.gca().set_aspect('equal')\n",
    "plt.colorbar()"
   ]
  },
  {
   "cell_type": "markdown",
   "metadata": {},
   "source": [
    "*Point Source Module*\n",
    "\n",
    "The point source model list has two options:\n",
    "\n",
    "'Source Position' allows one to enter the positions in source (beta) coordinates\n",
    "\n",
    "'Image Position' allows one to enter the image coordinates. Note that, if there are multiple images, you enter an array of coordinates\n",
    "\n",
    "In the arguments of PointSource, you enter the point_source_type_list, which is one of the above two options, as well as the lens model, and whether a fixed magnification list is used. \n",
    "\n",
    "If 'Source_Position' is used, then fixed_magnification_list must be True\n",
    "\n",
    "If 'Lensed_Position' is used, then fixed magnification list must be False\n",
    "\n",
    "Point Source can then be used to return the image and source positions and amplitudes\n",
    "\n",
    "Also contains info at: https://lenstronomy.readthedocs.io/en/latest/lenstronomy.PointSource.html\n",
    "\n"
   ]
  },
  {
   "cell_type": "code",
   "execution_count": 9,
   "metadata": {},
   "outputs": [],
   "source": [
    "# import the PointSource class #\n",
    "from lenstronomy.PointSource.point_source import PointSource\n",
    "\n",
    "# unlensed source positon #\n",
    "point_source_model_list = ['SOURCE_POSITION']\n",
    "pointSource = PointSource(point_source_type_list=point_source_model_list, lensModel=lensModel, fixed_magnification_list=[True])\n",
    "kwargs_ps = [{'ra_source': beta_ra, 'dec_source': beta_dec, 'source_amp': 1}]\n",
    "# return image positions and amplitudes #\n",
    "x_pos, y_pos = pointSource.image_position(kwargs_ps=kwargs_ps, kwargs_lens=kwargs_lens)\n",
    "point_amp = pointSource.image_amplitude(kwargs_ps=kwargs_ps, kwargs_lens=kwargs_lens)\n",
    "\n",
    "# lensed image positions (solution of the lens equation) #\n",
    "point_source_model_list = ['LENSED_POSITION']\n",
    "pointSource = PointSource(point_source_type_list=point_source_model_list, lensModel=lensModel, fixed_magnification_list=[False])\n",
    "kwargs_ps = [{'ra_image': theta_ra, 'dec_image': theta_dec, 'point_amp': 1}]\n",
    "# return image positions and amplitudes #\n",
    "x_pos, y_pos = pointSource.image_position(kwargs_ps=kwargs_ps, kwargs_lens=kwargs_lens)\n",
    "point_amp = pointSource.image_amplitude(kwargs_ps=kwargs_ps, kwargs_lens=kwargs_lens)"
   ]
  },
  {
   "cell_type": "markdown",
   "metadata": {},
   "source": [
    "Data module\n",
    "\n",
    "This basically manages the coordinate frame and coordinate-to-pixel transformation necessary for image simulation. \n",
    "\n",
    "PSF handles the point spread function convolution\n",
    "\n",
    "Also possible to manage data specific quantities like pixel values and noise properties that are required when fitting models to data to estimate the likelihood of the data given a model.\n",
    "\n",
    "*note that what is called Data in the guide should actually be ImageData"
   ]
  },
  {
   "cell_type": "code",
   "execution_count": 10,
   "metadata": {
    "scrolled": true
   },
   "outputs": [],
   "source": [
    "# import the PixelGrid() class #\n",
    "from lenstronomy.Data.pixel_grid import PixelGrid\n",
    "deltaPix = 0.05  # size of pixel in angular coordinates #\n",
    "\n",
    "# setup the keyword arguments to create the Data() class #\n",
    "ra_at_xy_0, dec_at_xy_0 = -2.5, -2.5 # coordinate in angles (RA/DEC) at the position of the pixel edge (0,0)\n",
    "transform_pix2angle = np.array([[1, 0], [0, 1]]) * deltaPix  # linear translation matrix of a shift in pixel in a shift in coordinates\n",
    "kwargs_pixel = {'nx': 100, 'ny': 100,  # number of pixels per axis\n",
    "                'ra_at_xy_0': ra_at_xy_0,  # RA at pixel (0,0)\n",
    "                'dec_at_xy_0': dec_at_xy_0,  # DEC at pixel (0,0)\n",
    "                'transform_pix2angle': transform_pix2angle} \n",
    "pixel_grid = PixelGrid(**kwargs_pixel)\n",
    "\n",
    "# return the list of pixel coordinates #\n",
    "x_coords, y_coords = pixel_grid.pixel_coordinates\n",
    "# compute pixel value of a coordinate position #\n",
    "x_pos, y_pos = pixel_grid.map_coord2pix(ra=0, dec=0)\n",
    "# compute the coordinate value of a pixel position #\n",
    "ra_pos, dec_pos = pixel_grid.map_pix2coord(x=20, y=10)\n",
    "\n",
    "# import the PSF() class #\n",
    "from lenstronomy.Data.psf import PSF\n",
    "kwargs_psf = {'psf_type': 'GAUSSIAN',  # type of PSF model (supports 'GAUSSIAN' and 'PIXEL')\n",
    "              'fwhm': 0.1,  # full width at half maximum of the Gaussian PSF (in angular units)\n",
    "              'pixel_size': deltaPix  # angular scale of a pixel (required for a Gaussian PSF to translate the FWHM into a pixel scale)\n",
    "             }\n",
    "psf = PSF(**kwargs_psf)\n",
    "# return the pixel kernel corresponding to a point source # \n",
    "kernel = psf.kernel_point_source"
   ]
  },
  {
   "cell_type": "markdown",
   "metadata": {},
   "source": [
    "Image Simulation\n",
    "\n",
    "Here, we combine LensModel, LightModel, PointSource and Data to model images.\n",
    "\n",
    "LightModel can model both the lens light, which is unlensed, and the source light, which is lensed (test whether lens light can be lensed in multi-plane lensing). It says ImSim supports all the functionalities of those components, so I guess it would?\n",
    "\n"
   ]
  },
  {
   "cell_type": "code",
   "execution_count": 11,
   "metadata": {},
   "outputs": [
    {
     "name": "stderr",
     "output_type": "stream",
     "text": [
      "c:\\users\\daniel johnson\\appdata\\local\\programs\\python\\python37\\lib\\site-packages\\ipykernel_launcher.py:26: RuntimeWarning: invalid value encountered in log10\n"
     ]
    },
    {
     "data": {
      "image/png": "[encoded data removed]",
      "text/plain": [
       "<Figure size 576x288 with 2 Axes>"
      ]
     },
     "metadata": {
      "needs_background": "light"
     },
     "output_type": "display_data"
    }
   ],
   "source": [
    "# import the ImageModel class #\n",
    "from lenstronomy.ImSim.image_model import ImageModel\n",
    "# define the numerics #\n",
    "kwargs_numerics = {'supersampling_factor': 1, # each pixel gets super-sampled (in each axis direction) \n",
    "                  'supersampling_convolution': False}\n",
    "# initialize the Image model class by combining the modules we created above #\n",
    "imageModel = ImageModel(data_class=pixel_grid, psf_class=psf, lens_model_class=lensModel,\n",
    "                        source_model_class=lightModel_source,\n",
    "                        lens_light_model_class=lightModel_lens,\n",
    "                        point_source_class=None, # in this example, we do not simulate point source.\n",
    "                        kwargs_numerics=kwargs_numerics)\n",
    "# simulate image with the parameters we have defined above #\n",
    "image = imageModel.image(kwargs_lens=kwargs_lens, kwargs_source=kwargs_light_source,\n",
    "                         kwargs_lens_light=kwargs_light_lens, kwargs_ps=kwargs_ps)\n",
    "\n",
    "# we can also add noise #\n",
    "import lenstronomy.Util.image_util as image_util\n",
    "exp_time = 100  # exposure time to quantify the Poisson noise level\n",
    "background_rms = 0.1  # background rms value\n",
    "poisson = image_util.add_poisson(image, exp_time=exp_time)\n",
    "bkg = image_util.add_background(image, sigma_bkd=background_rms)\n",
    "image_noisy = image + bkg + poisson\n",
    "\n",
    "f, axes = plt.subplots(1, 2, figsize=(8, 4), sharex=False, sharey=False)\n",
    "axes[0].matshow(np.log10(image), origin='lower')\n",
    "axes[1].matshow(np.log10(image_noisy), origin='lower')\n",
    "f.tight_layout()\n",
    "plt.show()"
   ]
  },
  {
   "cell_type": "markdown",
   "metadata": {},
   "source": [
    "Linear Inversion\n",
    "\n",
    "Parameters which correspond to an amplitude of surface brightness distribution (i.e. how intrinsically bright the object being viewed is, post lensing) are linearly related to the predicted flux values of pixels (i.e. the brighter the thing being viewed, the higher the flux received in a pixel). Because of this, it is possible to infer these parameters by a alinear minimization (linear inversion), via lenstronomy.\n",
    "\n",
    "The linear parameters are those relating to amplitudes. In this example, there are the 4 point source amplitudes, and the amplitudes of the Sersic profiles of the lens and source.\n",
    "\n",
    "Amplitude is \"surface brightness/amplitude value at the half light radius\"\n",
    "\n",
    "In order to perform the linear inversion, noise properties of the data must be assumed or kown"
   ]
  },
  {
   "cell_type": "code",
   "execution_count": 12,
   "metadata": {},
   "outputs": [],
   "source": [
    "from lenstronomy.Data.imaging_data import ImageData\n",
    "# update the data with the noisy image and its noise properties #\n",
    "kwargs_data = {'image_data': image_noisy,\n",
    "               'background_rms': background_rms,\n",
    "               'exposure_time': exp_time,\n",
    "               'ra_at_xy_0': ra_at_xy_0,  \n",
    "               'dec_at_xy_0': dec_at_xy_0,\n",
    "               'transform_pix2angle': transform_pix2angle} \n",
    "\n",
    "data_class = ImageData(**kwargs_data)\n",
    "\n",
    "from lenstronomy.ImSim.image_linear_solve import ImageLinearFit\n",
    "image_linear_fit = ImageLinearFit(data_class=data_class, psf_class=psf, lens_model_class=lensModel,\n",
    "                        source_model_class=lightModel_source,\n",
    "                        lens_light_model_class=lightModel_lens,\n",
    "                        point_source_class=pointSource, \n",
    "                        kwargs_numerics=kwargs_numerics)\n",
    "\n",
    "# we do not require the knowledge of the linear parameters #\n",
    "del kwargs_light_source[0]['amp']\n",
    "# apply the linear inversion to fit for the noisy image #\n",
    "image_reconstructed, _, _, _ = image_linear_fit.image_linear_solve(kwargs_lens=kwargs_lens, kwargs_source=kwargs_light_source, \n",
    "                              kwargs_lens_light=kwargs_light_lens, kwargs_ps=kwargs_ps)"
   ]
  },
  {
   "cell_type": "code",
   "execution_count": 13,
   "metadata": {},
   "outputs": [
    {
     "name": "stdout",
     "output_type": "stream",
     "text": [
      "-1.0121376542320824 reduced X^2 of all evaluated imaging data combined.\n",
      "reduced chi^2 of data  0 =  1.0121376542320824\n"
     ]
    },
    {
     "name": "stderr",
     "output_type": "stream",
     "text": [
      "c:\\users\\daniel johnson\\appdata\\local\\programs\\python\\python37\\lib\\site-packages\\lenstronomy\\Plots\\model_band_plot.py:82: RuntimeWarning: invalid value encountered in log10\n",
      "  im = ax.matshow(np.log10(self._data), origin='lower',\n"
     ]
    },
    {
     "data": {
      "image/png": "[encoded data removed]",
      "text/plain": [
       "<Figure size 576x288 with 4 Axes>"
      ]
     },
     "metadata": {
      "needs_background": "light"
     },
     "output_type": "display_data"
    }
   ],
   "source": [
    "# illustrate fit #\n",
    "from lenstronomy.Plots.model_plot import ModelPlot\n",
    "kwargs_model = {'lens_model_list': lens_model_list, 'source_light_model_list': source_light_model_list,\n",
    "               'lens_light_model_list': lens_light_model_list} #, 'point_source_model_list': point_source_model_list}\n",
    "kwargs_params = {'kwargs_lens': kwargs_lens, 'kwargs_source': kwargs_light_source,\n",
    "                 'kwargs_lens_light': kwargs_light_lens, 'kwargs_ps': kwargs_ps}\n",
    "lensPlot = ModelPlot([[kwargs_data, kwargs_psf, kwargs_numerics]], kwargs_model, kwargs_params, arrow_size=0.02)\n",
    "\n",
    "f, axes = plt.subplots(1, 2, figsize=(8, 4), sharex=False, sharey=False)\n",
    "lensPlot.data_plot(ax=axes[0])\n",
    "lensPlot.model_plot(ax=axes[1])\n",
    "f.tight_layout()\n",
    "plt.show()"
   ]
  },
  {
   "cell_type": "markdown",
   "metadata": {},
   "source": [
    "Sampling Module\n",
    "\n",
    "Param class"
   ]
  },
  {
   "cell_type": "code",
   "execution_count": 14,
   "metadata": {},
   "outputs": [
    {
     "name": "stdout",
     "output_type": "stream",
     "text": [
      "The following model options are chosen:\n",
      "Lens models: ['EPL', 'SHEAR']\n",
      "Source models: ['SERSIC']\n",
      "Lens light models: ['SERSIC_ELLIPSE']\n",
      "Point source models: []\n",
      "===================\n",
      "The following parameters are being fixed:\n",
      "Lens: [{'gamma': 2.0, 'center_x': 0, 'center_y': 0}, {'ra_0': 0, 'dec_0': 0}, {}]\n",
      "Source: [{'amp': 1}]\n",
      "Lens light: [{'amp': 1}]\n",
      "Point source: []\n",
      "===================\n",
      "Joint parameters for different models\n",
      "Joint lens with lens: []\n",
      "Joint lens light with lens light: []\n",
      "Joint source with source: []\n",
      "Joint lens with light: [[0, 0, ['center_x', 'center_y']]]\n",
      "Joint source with point source: []\n",
      "Joint lens light with point source: []\n",
      "===================\n",
      "Number of non-linear parameters being sampled:  15\n",
      "Parameters being sampled:  ['theta_E_lens0', 'e1_lens0', 'e2_lens0', 'gamma1_lens1', 'gamma2_lens1', 'R_sersic_source_light0', 'n_sersic_source_light0', 'center_x_source_light0', 'center_y_source_light0', 'R_sersic_lens_light0', 'n_sersic_lens_light0', 'e1_lens_light0', 'e2_lens_light0', 'center_x_lens_light0', 'center_y_lens_light0']\n",
      "Number of linear parameters being solved for:  2\n",
      "===================\n",
      "The log10 of following parameters is being sampled:\n",
      "Lens: [[], []]\n"
     ]
    }
   ],
   "source": [
    "# import the parameter handling class #\n",
    "from lenstronomy.Sampling.parameters import Param\n",
    "# set options for constraint parameters #\n",
    "# Here we join the position of the lens light and mass center. \n",
    "# There are more options available in the Param() class.\n",
    "kwargs_constraints = {'joint_lens_with_light': [[0, 0, ['center_x', 'center_y']]]}\n",
    "\n",
    "# list fixed parameters #\n",
    "kwargs_fixed_lens = [{'gamma': 2.}, {'ra_0': 0, 'dec_0': 0}, {}]\n",
    "kwargs_fixed_source = [{}]\n",
    "kwargs_fixed_lens_light = [{}]\n",
    "\n",
    "# optional: list lower and upper bounds in parameter space, otherwise it will be using lenstronomy default values! #\n",
    "# list lower bounds in parameter space #\n",
    "kwargs_lower_lens = [{'theta_E': 0, 'e1': -0.5, 'e2': -0.5, 'gamma': 1.5, 'center_x': -10., 'center_y': -10},\n",
    "                     {'gamma1': -0.5, 'gamma2': -0.5}]\n",
    "kwargs_lower_source = [{'R_sersic': 0.001, 'n_sersic': .5, 'center_x': -10, 'center_y': -10}]\n",
    "kwargs_lower_lens_light = [{'R_sersic': 0.001, 'n_sersic': 0.5, 'e1': -0.5, 'e2': -0.5, 'center_x': -10, 'center_y': -10}]\n",
    "kwargs_lower_ps = None\n",
    "\n",
    "# list upper bounds in parameter space #\n",
    "kwargs_upper_lens = [{'theta_E': 10, 'e1': 0.5, 'e2': 0.5, 'gamma': 2.5, 'center_x': 10., 'center_y': 10},\n",
    "                     {'gamma1': 0.5, 'gamma2': 0.5}]\n",
    "kwargs_upper_source = [{'R_sersic': 10, 'n_sersic': 5., 'center_x': 10, 'center_y': 10}]\n",
    "kwargs_upper_lens_light = [{'R_sersic': 10, 'n_sersic': 5., 'e1': 0.5, 'e2': 0.5, 'center_x': 10, 'center_y': 10}]\n",
    "kwargs_upper_ps = None\n",
    "\n",
    "# make instance of parameter class with given model options, constraints and fixed parameters #\n",
    "param = Param(kwargs_model, kwargs_fixed_lens, kwargs_fixed_source,\n",
    "              kwargs_fixed_lens_light, kwargs_fixed_ps=None, \n",
    "              kwargs_lower_lens=kwargs_lower_lens, kwargs_lower_source=kwargs_lower_source,\n",
    "              kwargs_lower_lens_light=kwargs_lower_lens_light, kwargs_lower_ps=kwargs_lower_ps,\n",
    "              kwargs_upper_lens=kwargs_upper_lens, kwargs_upper_source=kwargs_upper_source,\n",
    "              kwargs_upper_lens_light=kwargs_upper_lens_light, kwargs_upper_ps=kwargs_upper_ps,\n",
    "              kwargs_lens_init=kwargs_lens, **kwargs_constraints)\n",
    "\n",
    "# the number of non-linear parameters and their names #\n",
    "num_param, param_list = param.num_param()\n",
    "\n",
    "# parameter array for fitting routine #\n",
    "param_array = param.kwargs2args(kwargs_lens, kwargs_light_source, kwargs_light_lens, kwargs_ps)\n",
    "\n",
    "# recover keyword arguments list for lenstronomy from a parameter array of the fitting routine #\n",
    "kwargs_out = param.args2kwargs(param_array)\n",
    "\n",
    "# print settings #\n",
    "param.print_setting()"
   ]
  },
  {
   "cell_type": "markdown",
   "metadata": {},
   "source": [
    "Likelihood Class"
   ]
  },
  {
   "cell_type": "code",
   "execution_count": 17,
   "metadata": {},
   "outputs": [],
   "source": [
    "kwargs_likelihood = {'source_marg': False,\n",
    "                    'check_matched_source_position': True,\n",
    "                    'source_position_tolerance': 0.001,}\n",
    "single_band = [[kwargs_data, kwargs_psf, kwargs_numerics]]\n",
    "kwargs_data_joint = {'multi_band_list': single_band, 'multi_band_type': 'multi-linear'}\n",
    "\n",
    "from lenstronomy.Sampling.likelihood import LikelihoodModule\n",
    "likelihoodModule = LikelihoodModule(kwargs_data_joint, kwargs_model, param_class=param, **kwargs_likelihood)\n",
    "\n",
    "logL = likelihoodModule.logL(args=param_array)"
   ]
  },
  {
   "cell_type": "markdown",
   "metadata": {},
   "source": [
    "Sampler Class"
   ]
  },
  {
   "cell_type": "code",
   "execution_count": 21,
   "metadata": {},
   "outputs": [
    {
     "name": "stderr",
     "output_type": "stream",
     "text": [
      "c:\\users\\daniel johnson\\appdata\\local\\programs\\python\\python37\\lib\\site-packages\\lenstronomy\\LensModel\\Profiles\\epl.py:272: RuntimeWarning: invalid value encountered in true_divide\n",
      "  R_omega = Z*hyp2f1(1, t/2, 2-t/2, -(1-q)/(1+q)*(Z/Z.conj()))\n",
      "c:\\users\\daniel johnson\\appdata\\local\\programs\\python\\python37\\lib\\site-packages\\lenstronomy\\LensModel\\Profiles\\epl.py:275: RuntimeWarning: divide by zero encountered in true_divide\n",
      "  alpha = 2/(1+q)*(b/R)**t*R_omega\n",
      "c:\\users\\daniel johnson\\appdata\\local\\programs\\python\\python37\\lib\\site-packages\\lenstronomy\\LensModel\\Profiles\\epl.py:275: RuntimeWarning: invalid value encountered in multiply\n",
      "  alpha = 2/(1+q)*(b/R)**t*R_omega\n"
     ]
    },
    {
     "name": "stdout",
     "output_type": "stream",
     "text": [
      "Computing the PSO ...\n",
      "10\n",
      "Max iteration reached! Stopping.\n",
      "-2.7342386864709827 reduced X^2 of best position\n",
      "-13647.95240351991 logL\n",
      "9983 effective number of data points\n",
      "[{'theta_E': 1.0019280322423871, 'gamma': 2.0, 'e1': 0.3510873293457243, 'e2': 0.17430258115875003, 'center_x': 0.11519475591105506, 'center_y': 0.0035762101241599217}, {'gamma1': -0.07032807402500182, 'gamma2': 0.011444892063348007, 'ra_0': 0, 'dec_0': 0}] lens result\n",
      "[{'amp': 1, 'R_sersic': 0.042394074270285236, 'n_sersic': 0.8926523910890714, 'center_x': -0.004800123520841686, 'center_y': -0.03152834110374986}] source result\n",
      "[{'amp': 1, 'R_sersic': 0.0117700969774313, 'n_sersic': 1.403759050790645, 'e1': -0.10358290254868757, 'e2': -0.2466805958711472, 'center_x': 0.11519475591105506, 'center_y': 0.0035762101241599217}] lens light result\n",
      "[] point source result\n",
      "{} special param result\n",
      "1.18839430809021 time used for  PSO\n",
      "===================\n"
     ]
    }
   ],
   "source": [
    "# initial guess of non-linear parameters, we chose different starting parameters than the truth #\n",
    "kwargs_lens_init = [{'theta_E': 1.2, 'e1': 0, 'e2': 0, 'gamma': 2., 'center_x': 0., 'center_y': 0},\n",
    "                    {'gamma1': 0, 'gamma2': 0}]\n",
    "kwargs_source_init = [{'R_sersic': 0.03, 'n_sersic': 1., 'center_x': 0, 'center_y': 0}]\n",
    "kwargs_lens_light_init = [{'R_sersic': 0.1, 'n_sersic': 1, 'e1': 0, 'e2': 0, 'center_x': 0, 'center_y': 0}]\n",
    "\n",
    "# initial spread in parameter estimation #\n",
    "kwargs_lens_sigma = [{'theta_E': 0.3, 'e1': 0.5, 'e2': 0.5, 'gamma': .2, 'center_x': 0.1, 'center_y': 0.1},\n",
    "                     {'gamma1': 0.05, 'gamma2': 0.05}]\n",
    "kwargs_source_sigma = [{'R_sersic': 0.1, 'n_sersic': .5, 'center_x': .1, 'center_y': 0.1}]\n",
    "kwargs_lens_light_sigma = [{'R_sersic': 0.1, 'n_sersic': 0.2, 'e1': 0.2, 'e2': 0.2, 'center_x': .1, 'center_y': 0.1}]\n",
    "\n",
    "param_init = param.kwargs2args(kwargs_lens_init, kwargs_source_init, kwargs_lens_light_init, kwargs_ps=None)\n",
    "param_sigma = param.kwargs2args(kwargs_lens_sigma, kwargs_source_sigma, kwargs_lens_light_sigma, kwargs_ps=None)\n",
    "\n",
    "upper_start = np.array(param_init) + np.array(param_sigma)\n",
    "lower_start = np.array(param_init) - np.array(param_sigma)\n",
    "\n",
    "from lenstronomy.Sampling.sampler import Sampler\n",
    "sampler = Sampler(likelihoodModule=likelihoodModule)\n",
    "\n",
    "result, chain_properties = sampler.pso(n_particles=10, n_iterations=10, lower_start=lower_start, upper_start=upper_start)\n",
    "\n",
    "kwargs_result = param.args2kwargs(result)"
   ]
  },
  {
   "cell_type": "markdown",
   "metadata": {},
   "source": [
    "Workflow Module\n",
    "\n",
    "FittingSequence class"
   ]
  },
  {
   "cell_type": "code",
   "execution_count": null,
   "metadata": {},
   "outputs": [
    {
     "name": "stdout",
     "output_type": "stream",
     "text": [
      "Computing the PSO ...\n",
      "10\n",
      "20\n",
      "30\n",
      "40\n",
      "50\n",
      "60\n",
      "70\n",
      "80\n",
      "90\n",
      "100\n",
      "Max iteration reached! Stopping.\n",
      "-1.0130957401871554 reduced X^2 of best position\n",
      "-5056.867387144186 logL\n",
      "9983 effective number of data points\n",
      "[{'theta_E': 1.099330528137744, 'gamma': 2.0, 'e1': 0.08559356931392144, 'e2': 0.08716758891713033, 'center_x': 0.10203164733251709, 'center_y': 0.00016839717005139883}, {'gamma1': -0.014067214164256612, 'gamma2': 0.02377167452896808, 'ra_0': 0, 'dec_0': 0}] lens result\n",
      "[{'amp': 1, 'R_sersic': 0.10263021091309771, 'n_sersic': 1.6839391175119687, 'center_x': 0.056933594556039045, 'center_y': -0.0748091682518641}] source result\n",
      "[{'amp': 1, 'R_sersic': 0.09258076189418381, 'n_sersic': 2.5785031753408836, 'e1': 0.07955087758079825, 'e2': 0.1616132149774179, 'center_x': 0.10203164733251709, 'center_y': 0.00016839717005139883}] lens light result\n",
      "[] point source result\n",
      "{} special param result\n",
      "120.31998991966248 time used for  PSO\n",
      "===================\n"
     ]
    },
    {
     "name": "stderr",
     "output_type": "stream",
     "text": [
      "You must install the tqdm library to use progress indicators with emcee\n"
     ]
    }
   ],
   "source": [
    "lens_params = [kwargs_lens_init, kwargs_lens_sigma, kwargs_fixed_lens, kwargs_lower_lens, kwargs_upper_lens]\n",
    "source_params = [kwargs_source_init, kwargs_source_sigma, kwargs_fixed_source, kwargs_lower_source, kwargs_upper_source]\n",
    "lens_light_params = [kwargs_light_lens, kwargs_lens_light_sigma, kwargs_fixed_lens_light, kwargs_lower_lens_light, kwargs_upper_lens_light]\n",
    "\n",
    "kwargs_params = {'lens_model': lens_params,\n",
    "                'source_model': source_params,\n",
    "                'lens_light_model': lens_light_params}\n",
    "\n",
    "band_list = [kwargs_data, kwargs_psf, kwargs_numerics]\n",
    "multi_band_list = []\n",
    "multi_band_list.append(band_list)\n",
    "\n",
    "\n",
    "from lenstronomy.Workflow.fitting_sequence import FittingSequence\n",
    "fitting_seq = FittingSequence(kwargs_data_joint, kwargs_model, kwargs_constraints, kwargs_likelihood, kwargs_params, mpi=False)\n",
    "\n",
    "fitting_kwargs_list = [['PSO', {'sigma_scale': 1, 'n_particles': 100, 'n_iterations': 100, 'threadCount': 1}],\n",
    "                       ['MCMC', {'n_burn': 200, 'n_run': 200, 'walkerRatio': 10, 'sigma_scale': .01, 'threadCount': 1}]]\n",
    "\n",
    "chain_list = fitting_seq.fit_sequence(fitting_kwargs_list)\n",
    "kwargs_result = fitting_seq.best_fit()"
   ]
  },
  {
   "cell_type": "markdown",
   "metadata": {},
   "source": [
    "LensModelPlot class"
   ]
  },
  {
   "cell_type": "code",
   "execution_count": null,
   "metadata": {},
   "outputs": [],
   "source": [
    "modelPlot = ModelPlot([[kwargs_data, kwargs_psf, kwargs_numerics]], kwargs_model, kwargs_result, arrow_size=0.02, cmap_string=\"gist_heat\")\n",
    "    \n",
    "f, axes = plt.subplots(2, 3, figsize=(16, 8), sharex=False, sharey=False)\n",
    "\n",
    "modelPlot.data_plot(ax=axes[0,0])\n",
    "modelPlot.model_plot(ax=axes[0,1])\n",
    "modelPlot.normalized_residual_plot(ax=axes[0,2], v_min=-6, v_max=6)\n",
    "modelPlot.source_plot(ax=axes[1, 0], deltaPix_source=0.01, numPix=100)\n",
    "modelPlot.convergence_plot(ax=axes[1, 1], v_max=1)\n",
    "modelPlot.magnification_plot(ax=axes[1, 2])\n",
    "f.tight_layout()\n",
    "f.subplots_adjust(left=None, bottom=None, right=None, top=None, wspace=0., hspace=0.05)\n",
    "plt.show()\n",
    "\n",
    "f, axes = plt.subplots(2, 3, figsize=(16, 8), sharex=False, sharey=False)\n",
    "\n",
    "modelPlot.decomposition_plot(ax=axes[0,0], text='Lens light', lens_light_add=True, unconvolved=True)\n",
    "modelPlot.decomposition_plot(ax=axes[1,0], text='Lens light convolved', lens_light_add=True)\n",
    "modelPlot.decomposition_plot(ax=axes[0,1], text='Source light', source_add=True, unconvolved=True)\n",
    "modelPlot.decomposition_plot(ax=axes[1,1], text='Source light convolved', source_add=True)\n",
    "modelPlot.decomposition_plot(ax=axes[0,2], text='All components', source_add=True, lens_light_add=True, unconvolved=True)\n",
    "modelPlot.decomposition_plot(ax=axes[1,2], text='All components convolved', source_add=True, lens_light_add=True, point_source_add=True)\n",
    "f.tight_layout()\n",
    "f.subplots_adjust(left=None, bottom=None, right=None, top=None, wspace=0., hspace=0.05)\n",
    "plt.show()\n",
    "print(kwargs_result)"
   ]
  },
  {
   "cell_type": "code",
   "execution_count": null,
   "metadata": {},
   "outputs": [],
   "source": [
    "from lenstronomy.Plots import chain_plot\n",
    "\n",
    "for i in range(len(chain_list)):\n",
    "    chain_plot.plot_chain_list(chain_list, i)\n",
    "    \n",
    "sampler_type, samples_mcmc, param_mcmc, dist_mcmc  = chain_list[1]\n",
    "print(\"number of non-linear parameters in the MCMC process: \", len(param_mcmc))\n",
    "print(\"parameters in order: \", param_mcmc)\n",
    "print(\"number of evaluations in the MCMC process: \", np.shape(samples_mcmc)[0])\n",
    "\n",
    "import corner  # pip install corner  (if you have not installed it)\n",
    "if not samples_mcmc == []:\n",
    "        n, num_param = np.shape(samples_mcmc)\n",
    "        plot = corner.corner(samples_mcmc[:,:8], labels=param_mcmc[:8], show_titles=True)\n",
    "        plot.show()\n",
    "        plot = corner.corner(samples_mcmc[:,8:], labels=param_mcmc[8:], show_titles=True)\n",
    "        plot.show()"
   ]
  },
  {
   "cell_type": "code",
   "execution_count": null,
   "metadata": {},
   "outputs": [],
   "source": []
  },
  {
   "cell_type": "code",
   "execution_count": null,
   "metadata": {},
   "outputs": [],
   "source": []
  }
 ],
 "metadata": {
  "kernelspec": {
   "display_name": "Python 3",
   "language": "python",
   "name": "python3"
  },
  "language_info": {
   "codemirror_mode": {
    "name": "ipython",
    "version": 3
   },
   "file_extension": ".py",
   "mimetype": "text/x-python",
   "name": "python",
   "nbconvert_exporter": "python",
   "pygments_lexer": "ipython3",
   "version": "3.7.4"
  }
 },
 "nbformat": 4,
 "nbformat_minor": 2
}
