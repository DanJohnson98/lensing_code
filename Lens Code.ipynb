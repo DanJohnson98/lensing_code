{
 "cells": [
  {
   "cell_type": "markdown",
   "metadata": {},
   "source": [
    "Standard imports"
   ]
  },
  {
   "cell_type": "code",
   "execution_count": 5,
   "metadata": {},
   "outputs": [],
   "source": [
    "# some standard python imports #\n",
    "import numpy as np\n",
    "import copy\n",
    "import matplotlib.pyplot as plt\n",
    "%matplotlib inline\n"
   ]
  },
  {
   "cell_type": "markdown",
   "metadata": {},
   "source": [
    "Lens Model"
   ]
  },
  {
   "cell_type": "code",
   "execution_count": 10,
   "metadata": {
    "scrolled": false
   },
   "outputs": [
    {
     "data": {
      "application/vnd.jupyter.widget-view+json": {
       "model_id": "92630678cf5745429fc29358a5d5095e",
       "version_major": 2,
       "version_minor": 0
      },
      "text/plain": [
       "interactive(children=(IntSlider(value=2, description='theta_E', max=6, min=-2), FloatSlider(value=-0.099999999…"
      ]
     },
     "metadata": {},
     "output_type": "display_data"
    },
    {
     "data": {
      "text/plain": [
       "<function __main__.function(theta_E, e1, e2, ext_shear_g1, ext_shear_g2, theta_E_sis, centre_x_sis, centre_y_sis, pert_redshift, amp_source, amp_nie, beta_r, beta_d, PlotImages, PlotLensMap)>"
      ]
     },
     "execution_count": 10,
     "metadata": {},
     "output_type": "execute_result"
    }
   ],
   "source": [
    "# imports #\n",
    "from lenstronomy.LensModel.lens_model import LensModel\n",
    "from ipywidgets import interact\n",
    "from lenstronomy.Plots import lens_plot\n",
    "from lenstronomy.LightModel.light_model import LightModel\n",
    "from lenstronomy.PointSource.point_source import PointSource\n",
    "from lenstronomy.Data.pixel_grid import PixelGrid\n",
    "from lenstronomy.ImSim.image_model import ImageModel\n",
    "import lenstronomy.Util.image_util as image_util\n",
    "import warnings\n",
    "warnings.filterwarnings(\"ignore\")\n",
    "\n",
    "#the source redshift\n",
    "z_source = 1.5\n",
    "\n",
    "#creating the list of models to be used #\n",
    "\n",
    "lens_model_list = ['NIE', 'SHEAR', 'SIS']\n",
    "\n",
    "#the light models\n",
    "source_light_model_list = ['SERSIC']\n",
    "lightModel_source = LightModel(light_model_list=source_light_model_list)\n",
    "    \n",
    "lens_light_model_list = ['NIE','SERSIC']\n",
    "lightModel_lens = LightModel(light_model_list=lens_light_model_list)\n",
    "\n",
    "#the point source model\n",
    "point_source_model_list = ['SOURCE_POSITION']\n",
    "\n",
    "\n",
    "#the data\n",
    "deltaPix = 0.05  # size of pixel in angular coordinates #\n",
    "\n",
    "ra_at_xy_0, dec_at_xy_0 = -2.5, -2.5 # coordinate in angles (RA/DEC) at the position of the pixel edge (0,0)\n",
    "transform_pix2angle = np.array([[1, 0], [0, 1]]) * deltaPix  # linear translation matrix of a shift in pixel in a shift in coordinates\n",
    "kwargs_pixel = {'nx': 100, 'ny': 100,  # number of pixels per axis\n",
    "            'ra_at_xy_0': ra_at_xy_0,  # RA at pixel (0,0)\n",
    "            'dec_at_xy_0': dec_at_xy_0,  # DEC at pixel (0,0)\n",
    "            'transform_pix2angle': transform_pix2angle} \n",
    "pixel_grid = PixelGrid(**kwargs_pixel)\n",
    "    \n",
    "from lenstronomy.Data.psf import PSF\n",
    "kwargs_psf = {'psf_type': 'GAUSSIAN',  # type of PSF model (supports 'GAUSSIAN' and 'PIXEL')\n",
    "                'fwhm': 0.1,  # full width at half maximum of the Gaussian PSF (in angular units)\n",
    "                'pixel_size': deltaPix  # angular scale of a pixel (required for a Gaussian PSF to translate the FWHM into a pixel scale)\n",
    "                 }\n",
    "psf = PSF(**kwargs_psf)\n",
    "\n",
    "\n",
    "#numerics for image\n",
    "kwargs_numerics = {'supersampling_factor': 1, 'supersampling_convolution': False}\n",
    "\n",
    "#interactive function\n",
    "def function(theta_E, e1, e2, ext_shear_g1, ext_shear_g2,theta_E_sis,centre_x_sis,centre_y_sis,pert_redshift,amp_source,amp_nie,beta_r,beta_d,PlotImages,PlotLensMap):\n",
    "    \n",
    "    #the lens model\n",
    "    redshift_list = [0.8,0.8,pert_redshift]\n",
    "    lensModel = LensModel(lens_model_list=lens_model_list,z_source=z_source, lens_redshift_list=redshift_list, multi_plane=True)\n",
    "    kwargs_nie = {'theta_E': theta_E, 'e1': e1, 'e2': e2, 's_scale': 1, 'center_x': 0, 'center_y': 0}\n",
    "    kwargs_shear = {'gamma1': ext_shear_g1, 'gamma2': ext_shear_g2}\n",
    "    kwargs_sis = {'theta_E': theta_E_sis, 'center_x': centre_x_sis, 'center_y': centre_y_sis}\n",
    "    \n",
    "    kwargs_lens = [kwargs_nie, kwargs_shear, kwargs_sis]\n",
    "    \n",
    "    #the light model\n",
    "    kwargs_light_source = [{'amp': amp_source*100, 'R_sersic': 0.1, 'n_sersic': 1.5, 'center_x': beta_r, 'center_y': beta_d}]\n",
    "    \n",
    "    kwargs_light_nie = {'amp': amp_nie*theta_E*150, 'e1': e1, 'e2': e2,'s_scale': 1, 'center_x': 0, 'center_y': 0}\n",
    "    kwargs_light_sis = {'amp': theta_E_sis*100, 'R_sersic': 0.05, 'n_sersic': 1, 'center_x': centre_x_sis, 'center_y': centre_y_sis}\n",
    "    \n",
    "    kwargs_light_lens = [kwargs_light_nie,kwargs_light_sis]\n",
    "    \n",
    "    #the point source model\n",
    "    pointSource = PointSource(point_source_type_list=point_source_model_list, lensModel=lensModel, fixed_magnification_list=[True])\n",
    "    kwargs_ps = [{'ra_source': beta_r, 'dec_source': beta_d, 'source_amp': 1}]\n",
    "\n",
    "    #the image model\n",
    "\n",
    "    imageModel = ImageModel(data_class=pixel_grid, psf_class=psf, lens_model_class=lensModel,\n",
    "                        source_model_class=lightModel_source,\n",
    "                        lens_light_model_class=lightModel_lens,\n",
    "                        point_source_class=None, # in this example, we do not simulate point source.\n",
    "                        kwargs_numerics=kwargs_numerics)\n",
    "\n",
    "    # simulate image with the parameters we have defined above #\n",
    "\n",
    "    image = imageModel.image(kwargs_lens=kwargs_lens, kwargs_source=kwargs_light_source,\n",
    "                         kwargs_lens_light=kwargs_light_lens, kwargs_ps=kwargs_ps)\n",
    "\n",
    "\n",
    "    # we can also add noise #\n",
    "\n",
    "    exp_time = 100  # exposure time to quantify the Poisson noise level\n",
    "\n",
    "    background_rms = 0.1  # background rms value\n",
    "\n",
    "    poisson = image_util.add_poisson(image, exp_time=exp_time)\n",
    "\n",
    "    bkg = image_util.add_background(image, sigma_bkd=background_rms)\n",
    "\n",
    "    image_noisy = image + bkg + poisson\n",
    "\n",
    "    if PlotImages:\n",
    "        f, axes = plt.subplots(1, 2, figsize=(8, 4), sharex=False, sharey=False)\n",
    "\n",
    "        axes[0].matshow(np.log10(image), origin='lower',cmap='hot')\n",
    "\n",
    "        axes[1].matshow(np.log10(image_noisy), origin='lower',cmap='Blues')\n",
    "\n",
    "        f.tight_layout()\n",
    "    \n",
    "    #the lens mapping plot\n",
    "    if PlotLensMap:\n",
    "        f, axes = plt.subplots(1, 1, figsize=(6, 6), sharex=False, sharey=False)\n",
    "        lens_plot.lens_model_plot(axes, lensModel=lensModel, kwargs_lens=kwargs_lens, sourcePos_x=beta_r, sourcePos_y=beta_d, point_source=True, with_caustics=True, fast_caustic=True, coord_inverse=False)\n",
    "\n",
    "    \n",
    "interact(function,theta_E=2,theta_E_sis=(0,1,0.1), e1=(-0.5,0.5,0.2), e2=(-0.5,0.5,0.2), ext_shear_g1=(-0.1,0.1,0.02), ext_shear_g2=(-0.1,0.1,0.02),centre_x_sis=(-2,2,0.05),centre_y_sis=(-2,2,0.05),pert_redshift=(0.1,1.4,0.1),amp_source = (0,10,1),amp_nie = (0,10,1), beta_r=(-2,2,0.05),beta_d=(-2,2,0.05),PlotImages=True,PlotLensMap=False)"
   ]
  },
  {
   "cell_type": "code",
   "execution_count": null,
   "metadata": {},
   "outputs": [],
   "source": []
  }
 ],
 "metadata": {
  "kernelspec": {
   "display_name": "Python 3",
   "language": "python",
   "name": "python3"
  },
  "language_info": {
   "codemirror_mode": {
    "name": "ipython",
    "version": 3
   },
   "file_extension": ".py",
   "mimetype": "text/x-python",
   "name": "python",
   "nbconvert_exporter": "python",
   "pygments_lexer": "ipython3",
   "version": "3.7.4"
  }
 },
 "nbformat": 4,
 "nbformat_minor": 2
}
