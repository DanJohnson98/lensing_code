{
 "cells": [
  {
   "cell_type": "markdown",
   "metadata": {},
   "source": [
    "## Testing Models of Time Delay Function\n",
    "\n",
    "Here, I want to test some simple analytical models, to see if my time delay function is making sense"
   ]
  },
  {
   "cell_type": "code",
   "execution_count": 6,
   "metadata": {},
   "outputs": [],
   "source": [
    "import numpy as np"
   ]
  },
  {
   "cell_type": "markdown",
   "metadata": {},
   "source": [
    "## Setting up the lens model\n",
    "\n",
    "I take a simple point mass lens with line of sight effects"
   ]
  },
  {
   "cell_type": "code",
   "execution_count": 7,
   "metadata": {},
   "outputs": [
    {
     "name": "stdout",
     "output_type": "stream",
     "text": [
      "No line-of-sight effects being added.\n",
      "Adding LOS to the main lens.\n"
     ]
    }
   ],
   "source": [
    "from lenstronomy.LensModel.lens_model import LensModel\n",
    "\n",
    "# the lens model\n",
    "\n",
    "lens_model_list = ['POINT_MASS', 'LOS']\n",
    "lens_model_base = ['POINT_MASS']\n",
    "\n",
    "kwargs_PM = {'theta_E': 2, 'center_x': 0, 'center_y': 0}\n",
    "kwargs_LOS = {\n",
    "    'kappa_od': 0.09, 'kappa_os': -0.1, 'kappa_ds': 0.08,\n",
    "    'omega_od': 0.02, 'omega_os': -0.01, 'omega_ds': 0.01,\n",
    "    'gamma1_od': 0.1, 'gamma2_od': -0.05,\n",
    "    'gamma1_os': -0.1, 'gamma2_os': 0.03,\n",
    "    'gamma1_ds': -0.02, 'gamma2_ds': 0.09}\n",
    "kwargs_lens = [kwargs_PM, kwargs_LOS]\n",
    "kwargs_base = [kwargs_PM]\n",
    "\n",
    "lens_model_base = LensModel(lens_model_list=lens_model_base)\n",
    "lens_model_class = LensModel(lens_model_list=lens_model_list)"
   ]
  },
  {
   "cell_type": "markdown",
   "metadata": {},
   "source": [
    "## Time Delays\n",
    "\n",
    "In what follows, I want to examine whether my time delay function produces the same results which are determined analytically "
   ]
  },
  {
   "cell_type": "code",
   "execution_count": 8,
   "metadata": {},
   "outputs": [
    {
     "name": "stdout",
     "output_type": "stream",
     "text": [
      "kappa_od =  0.09\n",
      "omega_od =  0.02\n",
      "gamma1_od =  0.1\n",
      "gamma2_od =  -0.05\n",
      "\n",
      "kappa_ds =  0.08\n",
      "omega_ds =  0.01\n",
      "gamma1_ds =  -0.02\n",
      "gamma2_ds =  0.09\n",
      "\n",
      "kappa_os =  -0.1\n",
      "omega_os =  -0.01\n",
      "gamma1_os =  -0.1\n",
      "gamma2_os =  0.03\n"
     ]
    }
   ],
   "source": [
    "#First check - ensuring that the kappas etc are inputted correctly\n",
    "\n",
    "print(\"kappa_od = \", kwargs_LOS['kappa_od'])\n",
    "print(\"omega_od = \", kwargs_LOS['omega_od'])\n",
    "print(\"gamma1_od = \", kwargs_LOS['gamma1_od'])\n",
    "print(\"gamma2_od = \", kwargs_LOS['gamma2_od'])\n",
    "print('')\n",
    "print(\"kappa_ds = \", kwargs_LOS['kappa_ds'])\n",
    "print(\"omega_ds = \", kwargs_LOS['omega_ds'])\n",
    "print(\"gamma1_ds = \", kwargs_LOS['gamma1_ds'])\n",
    "print(\"gamma2_ds = \", kwargs_LOS['gamma2_ds'])\n",
    "print('')\n",
    "print(\"kappa_os = \", kwargs_LOS['kappa_os'])\n",
    "print(\"omega_os = \", kwargs_LOS['omega_os'])\n",
    "print(\"gamma1_os = \", kwargs_LOS['gamma1_os'])\n",
    "print(\"gamma2_os = \", kwargs_LOS['gamma2_os'])\n"
   ]
  },
  {
   "cell_type": "code",
   "execution_count": 9,
   "metadata": {},
   "outputs": [
    {
     "name": "stdout",
     "output_type": "stream",
     "text": [
      "A_od_tsp =  [[0.81 0.03]\n",
      " [0.07 1.01]]\n",
      "A_ds_inv =  [[1.07398568 0.09546539]\n",
      " [0.11933174 1.12171838]]\n",
      "A_os_inv =  [[0.83388926 0.03335557]\n",
      " [0.01667779 1.00066711]]\n",
      "\n",
      "A_LOS =  [[1.04599045 0.07603819]\n",
      " [0.21205251 1.13178998]]\n"
     ]
    }
   ],
   "source": [
    "#checking that my matrices are returned correctly\n",
    "\n",
    "A_od = np.array([[1-kwargs_LOS['kappa_od']-kwargs_LOS['gamma1_od'],-kwargs_LOS['gamma2_od']+kwargs_LOS['omega_od']],[-kwargs_LOS['gamma2_od']-kwargs_LOS['omega_od'],1-kwargs_LOS['kappa_od']+kwargs_LOS['gamma1_od']]])\n",
    "A_os = np.array([[1-kwargs_LOS['kappa_os']-kwargs_LOS['gamma1_os'],-kwargs_LOS['gamma2_os']+kwargs_LOS['omega_os']],[-kwargs_LOS['gamma2_os']-kwargs_LOS['omega_os'],1-kwargs_LOS['kappa_os']+kwargs_LOS['gamma1_os']]])\n",
    "A_ds = np.array([[1-kwargs_LOS['kappa_ds']-kwargs_LOS['gamma1_ds'],-kwargs_LOS['gamma2_ds']+kwargs_LOS['omega_ds']],[-kwargs_LOS['gamma2_ds']-kwargs_LOS['omega_ds'],1-kwargs_LOS['kappa_ds']+kwargs_LOS['gamma1_ds']]])\n",
    "\n",
    "A_od_tsp = np.transpose(A_od)\n",
    "A_ds_inv = np.linalg.inv(A_ds)\n",
    "A_os_inv = np.linalg.inv(A_os)\n",
    "\n",
    "print(\"A_od_tsp = \", A_od_tsp)\n",
    "print(\"A_ds_inv = \", A_ds_inv)\n",
    "print(\"A_os_inv = \", A_os_inv)\n",
    "print('')\n",
    "\n",
    "A_LOS = np.dot(np.dot(A_od_tsp,A_ds_inv),A_os)\n",
    "\n",
    "print(\"A_LOS = \", A_LOS)"
   ]
  },
  {
   "cell_type": "markdown",
   "metadata": {},
   "source": [
    "This is perfectly consistent with my by-hand calculations"
   ]
  },
  {
   "cell_type": "code",
   "execution_count": 10,
   "metadata": {},
   "outputs": [
    {
     "name": "stdout",
     "output_type": "stream",
     "text": [
      "position at which the light leaves the lens plane =  0.74 -0.98\n"
     ]
    }
   ],
   "source": [
    "#next, checking that I arrive at the same distorted position\n",
    "x_d, y_d = lens_model_class.lens_model.los.distort_vector(1,-1,\n",
    "                                           kappa=kwargs_LOS['kappa_od'],\n",
    "                                           omega=kwargs_LOS['omega_od'],\n",
    "                                           gamma1=kwargs_LOS['gamma1_od'],\n",
    "                                           gamma2=kwargs_LOS['gamma2_od'])\n",
    "\n",
    "print('position at which the light leaves the lens plane = ', x_d, y_d)"
   ]
  },
  {
   "cell_type": "markdown",
   "metadata": {},
   "source": [
    "Once again matches my calculations"
   ]
  },
  {
   "cell_type": "code",
   "execution_count": 11,
   "metadata": {},
   "outputs": [
    {
     "name": "stdout",
     "output_type": "stream",
     "text": [
      "effective potential =  0.8215685391715289\n"
     ]
    }
   ],
   "source": [
    "#checking that the lensing potential is calculated correctly\n",
    "\n",
    "psi_eff = lens_model_base.potential(x_d, y_d,kwargs_base)              #evaluating the potential at the distorted position\n",
    "\n",
    "print(\"effective potential = \", psi_eff)"
   ]
  },
  {
   "cell_type": "markdown",
   "metadata": {},
   "source": [
    "Matches my calculations"
   ]
  },
  {
   "cell_type": "code",
   "execution_count": 12,
   "metadata": {},
   "outputs": [
    {
     "name": "stdout",
     "output_type": "stream",
     "text": [
      "alpha =  1.8130503978779835 -2.515809018567638\n",
      "beta =  -0.8130503978779835 1.515809018567638\n"
     ]
    }
   ],
   "source": [
    "#checking that the los deflection angle and source position are calculated correctly\n",
    "\n",
    "alpha_x, alpha_y = lens_model_class.alpha(1,-1,kwargs_lens)\n",
    "x_source, y_source = lens_model_class.ray_shooting(1,-1,kwargs_lens)\n",
    "\n",
    "print(\"alpha = \", alpha_x, alpha_y)\n",
    "print(\"beta = \", x_source, y_source)"
   ]
  },
  {
   "cell_type": "markdown",
   "metadata": {},
   "source": [
    "Matches my calculations"
   ]
  },
  {
   "cell_type": "code",
   "execution_count": 13,
   "metadata": {},
   "outputs": [
    {
     "name": "stdout",
     "output_type": "stream",
     "text": [
      "A_os_inv*beta =  -0.6274333198259489 1.503260352171119\n"
     ]
    }
   ],
   "source": [
    "#checking that the source position modified by A_os_inv is calculated correctly\n",
    "\n",
    "b_x = A_os_inv[0][0]*x_source + A_os_inv[0][1]*y_source\n",
    "b_y = A_os_inv[1][0]*x_source + A_os_inv[1][1]*y_source\n",
    "\n",
    "print(\"A_os_inv*beta = \", b_x, b_y)"
   ]
  },
  {
   "cell_type": "markdown",
   "metadata": {},
   "source": [
    "Matches my calculations"
   ]
  },
  {
   "cell_type": "code",
   "execution_count": 14,
   "metadata": {},
   "outputs": [
    {
     "name": "stdout",
     "output_type": "stream",
     "text": [
      "alpha' =  1.6274333198259487 -2.503260352171119\n"
     ]
    }
   ],
   "source": [
    "#checking that the displacement angle is calculated correctly\n",
    "\n",
    "f_x = 1 - b_x\n",
    "f_y = -1 - b_y \n",
    "\n",
    "print(\"alpha' = \", f_x, f_y)"
   ]
  },
  {
   "cell_type": "markdown",
   "metadata": {},
   "source": [
    "Matches my calculations"
   ]
  },
  {
   "cell_type": "code",
   "execution_count": 15,
   "metadata": {},
   "outputs": [
    {
     "name": "stdout",
     "output_type": "stream",
     "text": [
      "Gamma_LOS*alpha =  1.511936339522546 -2.4880636604774518\n"
     ]
    }
   ],
   "source": [
    "#checking that the displacement angle modified by Gamma_LOS is calculated correctly\n",
    "a_x = A_LOS[0][0]*f_x + A_LOS[0][1]*f_y\n",
    "a_y = A_LOS[1][0]*f_x + A_LOS[1][1]*f_y\n",
    "\n",
    "print(\"Gamma_LOS*alpha = \", a_x, a_y)"
   ]
  },
  {
   "cell_type": "markdown",
   "metadata": {},
   "source": [
    "Matches my calculations"
   ]
  },
  {
   "cell_type": "code",
   "execution_count": 16,
   "metadata": {
    "scrolled": true
   },
   "outputs": [
    {
     "name": "stdout",
     "output_type": "stream",
     "text": [
      "Fermat Potential 1 =  3.5228548065012806\n",
      "Fermat Potential 2 =  3.5228548065012806\n"
     ]
    }
   ],
   "source": [
    "#testing the Fermat Potential function itself\n",
    "\n",
    "geometry = (f_x*a_x + f_y*a_y) / 2\n",
    "\n",
    "fermat_1 = geometry - psi_eff\n",
    "print(\"Fermat Potential 1 = \", fermat_1)\n",
    "\n",
    "fermat_pot_test2 = lens_model_class.fermat_potential(1,-1,kwargs_lens)\n",
    "print(\"Fermat Potential 2 = \", fermat_pot_test2)"
   ]
  },
  {
   "cell_type": "markdown",
   "metadata": {},
   "source": [
    "Matches my calculations"
   ]
  }
 ],
 "metadata": {
  "kernelspec": {
   "display_name": "Python 3",
   "language": "python",
   "name": "python3"
  },
  "language_info": {
   "codemirror_mode": {
    "name": "ipython",
    "version": 3
   },
   "file_extension": ".py",
   "mimetype": "text/x-python",
   "name": "python",
   "nbconvert_exporter": "python",
   "pygments_lexer": "ipython3",
   "version": "3.7.4"
  }
 },
 "nbformat": 4,
 "nbformat_minor": 2
}
