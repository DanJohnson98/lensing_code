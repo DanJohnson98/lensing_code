{
 "cells": [
  {
   "cell_type": "markdown",
   "metadata": {},
   "source": [
    "## Testing Models of Time Delay Function (after edits to lenstronomy again)\n",
    "\n",
    "Here, I want to test some simple analytical models, to see if my time delay function is making sense"
   ]
  },
  {
   "cell_type": "code",
   "execution_count": 1,
   "metadata": {},
   "outputs": [],
   "source": [
    "# some standard python imports #\n",
    "import numpy as np\n",
    "import os\n",
    "import time\n",
    "import corner\n",
    "import astropy.io.fits as pyfits\n",
    "from mpl_toolkits.axes_grid1 import make_axes_locatable\n",
    "import matplotlib.pyplot as plt\n",
    "%matplotlib inline"
   ]
  },
  {
   "cell_type": "code",
   "execution_count": 2,
   "metadata": {},
   "outputs": [],
   "source": [
    "#lenstronomy imports\n",
    "#from lenstronomy.Sampling.parameters import Param"
   ]
  },
  {
   "cell_type": "markdown",
   "metadata": {},
   "source": [
    "## Simulation Cosmology Choices"
   ]
  },
  {
   "cell_type": "code",
   "execution_count": 3,
   "metadata": {},
   "outputs": [],
   "source": [
    "# define lens configuration and cosmology (not for lens modelling)\n",
    "z_lens = 0.0394\n",
    "z_source = 1.695\n",
    "\n",
    "from astropy.cosmology import FlatLambdaCDM\n",
    "H_0 = 70\n",
    "omega_mm = 0.3\n",
    "cosmo = FlatLambdaCDM(H0=70, Om0=0.3, Ob0=0.)"
   ]
  },
  {
   "cell_type": "markdown",
   "metadata": {},
   "source": [
    "## Data Stuff "
   ]
  },
  {
   "cell_type": "code",
   "execution_count": 4,
   "metadata": {},
   "outputs": [],
   "source": [
    "import lenstronomy.Util.simulation_util as sim_util\n",
    "from lenstronomy.Data.imaging_data import ImageData\n",
    "from lenstronomy.Data.psf import PSF\n",
    "\n",
    "# properties of the data and PSF\n",
    "\n",
    "background_rms = .05  # background noise per pixel\n",
    "exp_time = 100.  # exposure time (arbitrary units, flux per pixel is in units #photons/exp_time unit)\n",
    "numPix = 100  # cutout pixel size\n",
    "deltaPix = 0.05  # pixel size in arcsec (area per pixel = deltaPix**2)\n",
    "fwhm = 0.1  # full width half max of PSF\n",
    "\n",
    "kwargs_data = sim_util.data_configure_simple(numPix, deltaPix, exp_time, background_rms)\n",
    "\n",
    "data_class = ImageData(**kwargs_data)\n",
    "\n",
    "kwargs_psf = {'psf_type': 'GAUSSIAN', 'fwhm': fwhm, 'pixel_size': deltaPix, 'truncation': 5}\n",
    "psf_class = PSF(**kwargs_psf)"
   ]
  },
  {
   "cell_type": "markdown",
   "metadata": {},
   "source": [
    "## Setting up the lens model\n",
    "\n",
    "I take a simple SIS lens with line of sight effects"
   ]
  },
  {
   "cell_type": "code",
   "execution_count": 5,
   "metadata": {},
   "outputs": [
    {
     "name": "stdout",
     "output_type": "stream",
     "text": [
      "No line-of-sight effects being added.\n",
      "Adding LOS to the main lens.\n"
     ]
    }
   ],
   "source": [
    "from lenstronomy.LensModel.lens_model import LensModel\n",
    "\n",
    "# the lens model\n",
    "\n",
    "lens_model_list = ['POINT_MASS', 'LOS']\n",
    "lens_model_base = ['POINT_MASS']\n",
    "\n",
    "kwargs_PM = {'theta_E': 2, 'center_x': 0, 'center_y': 0}\n",
    "kwargs_LOS = {\n",
    "    'kappa_od': 0, 'kappa_os': 0, 'kappa_ds': 0,\n",
    "    'omega_od': 0, 'omega_os': 0, 'omega_ds': 0,\n",
    "    'gamma1_od': 0.1, 'gamma2_od': -0.05,\n",
    "    'gamma1_os': -0.1, 'gamma2_os': 0.03,\n",
    "    'gamma1_ds': -0.02, 'gamma2_ds': 0.09}\n",
    "kwargs_lens = [kwargs_PM, kwargs_LOS]\n",
    "kwargs_base = [kwargs_PM]\n",
    "\n",
    "lens_model_base = LensModel(lens_model_list=lens_model_base, z_lens=z_lens, z_source=z_source, cosmo=cosmo)\n",
    "lens_model_class = LensModel(lens_model_list=lens_model_list, z_lens=z_lens, z_source=z_source, cosmo=cosmo)"
   ]
  },
  {
   "cell_type": "markdown",
   "metadata": {},
   "source": [
    "## Light Profiles\n"
   ]
  },
  {
   "cell_type": "code",
   "execution_count": 6,
   "metadata": {},
   "outputs": [],
   "source": [
    "from lenstronomy.LightModel.light_model import LightModel\n",
    "\n",
    "# Source model\n",
    "source_model_list = ['SERSIC_ELLIPSE']\n",
    "ra_source, dec_source = 0, 0\n",
    "kwargs_sersic = {'amp': 1600, 'R_sersic': 0.03, 'n_sersic': 1,\n",
    "                 'e1': 0.3,'e2': 0, 'center_x': 0.1, 'center_y': 0.1}\n",
    "kwargs_source = [kwargs_sersic]\n",
    "source_model_class = LightModel(source_model_list)\n",
    "# for this example, we ignore the presence of deflector light\n",
    "lens_light_model_list = []\n",
    "kwargs_lens_light = []\n",
    "\n",
    "lens_light_model_class = LightModel(light_model_list=lens_light_model_list)"
   ]
  },
  {
   "cell_type": "markdown",
   "metadata": {},
   "source": [
    "## Solving the Lens Equation\n",
    "\n",
    "In this case, we want to identify the 2 images with the highest magnifications"
   ]
  },
  {
   "cell_type": "code",
   "execution_count": 7,
   "metadata": {},
   "outputs": [],
   "source": [
    "from lenstronomy.LensModel.Solver.lens_equation_solver import LensEquationSolver\n",
    "\n",
    "lensEquationSolver = LensEquationSolver(lens_model_class)\n",
    "x_image, y_image = lensEquationSolver.findBrightImage(ra_source, dec_source, kwargs_lens, numImages=4,\n",
    "                                                      min_distance=deltaPix, search_window=numPix * deltaPix)\n",
    "\n"
   ]
  },
  {
   "cell_type": "markdown",
   "metadata": {},
   "source": [
    "## Computing and Perturbing the Magnifications\n",
    "\n",
    "Iin this case, because I want an exact comparison, I don't perturb the magnifications\n"
   ]
  },
  {
   "cell_type": "code",
   "execution_count": 8,
   "metadata": {},
   "outputs": [],
   "source": [
    "# compute lensing magnification at image positions\n",
    "\n",
    "mag = lens_model_class.magnification(x_image, y_image, kwargs=kwargs_lens)\n",
    "mag = np.abs(mag)  # ignore the sign of the magnification"
   ]
  },
  {
   "cell_type": "markdown",
   "metadata": {},
   "source": [
    "## Setting Up the PointSource Class"
   ]
  },
  {
   "cell_type": "code",
   "execution_count": 9,
   "metadata": {},
   "outputs": [],
   "source": [
    "from lenstronomy.PointSource.point_source import PointSource\n",
    "\n",
    "point_amp = mag * 100  # multiply by intrinsic quasar brightness (in counts/s)\n",
    "kwargs_ps = [{'ra_image': x_image, 'dec_image': y_image,\n",
    "                           'point_amp': point_amp}]  # quasar point source position in the lens plane and intrinsic brightness\n",
    "\n",
    "\n",
    "point_source_list = ['LENSED_POSITION']\n",
    "point_source_class = PointSource(point_source_type_list=point_source_list, fixed_magnification_list=[False])"
   ]
  },
  {
   "cell_type": "markdown",
   "metadata": {},
   "source": [
    "## Creating the Image\n",
    "\n",
    "Here, I omit all the perturbations, because I want to make an exact image comparison"
   ]
  },
  {
   "cell_type": "code",
   "execution_count": 10,
   "metadata": {
    "scrolled": false
   },
   "outputs": [
    {
     "name": "stderr",
     "output_type": "stream",
     "text": [
      "c:\\users\\daniel johnson\\appdata\\local\\programs\\python\\python37\\lib\\site-packages\\ipykernel_launcher.py:36: RuntimeWarning: invalid value encountered in log10\n"
     ]
    },
    {
     "data": {
      "image/png": "[encoded data removed]",
      "text/plain": [
       "<Figure size 432x432 with 1 Axes>"
      ]
     },
     "metadata": {
      "needs_background": "light"
     },
     "output_type": "display_data"
    }
   ],
   "source": [
    "from lenstronomy.ImSim.image_model import ImageModel\n",
    "\n",
    "kwargs_numerics = {'supersampling_factor': 1, 'supersampling_convolution': False}\n",
    "\n",
    "cmap_string = 'gray'\n",
    "cmap = plt.get_cmap(cmap_string)\n",
    "cmap.set_bad(color='k', alpha=1.)\n",
    "cmap.set_under('k')\n",
    "\n",
    "v_min = -4\n",
    "v_max = 2\n",
    "\n",
    "imageModel = ImageModel(data_class, psf_class, lens_model_class, source_model_class,\n",
    "                                lens_light_model_class,\n",
    "                                point_source_class, kwargs_numerics=kwargs_numerics)\n",
    "\n",
    "import lenstronomy.Util.image_util as image_util\n",
    "\n",
    "image_sim = imageModel.image(kwargs_lens, kwargs_source, kwargs_lens_light, kwargs_ps)\n",
    "poisson = image_util.add_poisson(image_sim, exp_time=exp_time)\n",
    "bkg = image_util.add_background(image_sim, sigma_bkd=background_rms)\n",
    "image_sim = image_sim + bkg + poisson\n",
    "\n",
    "\n",
    "kwargs_data['image_data'] = image_sim\n",
    "data_class.update_data(image_sim)\n",
    "\n",
    "kwargs_model = {'lens_model_list': lens_model_list, \n",
    "                 'lens_light_model_list': lens_light_model_list,\n",
    "                 'source_light_model_list': source_model_list,\n",
    "                'point_source_model_list': point_source_list\n",
    "                 }\n",
    "\n",
    "f, axes = plt.subplots(1, 1, figsize=(6, 6), sharex=False, sharey=False)\n",
    "ax = axes\n",
    "im = ax.matshow(np.log10(image_sim), origin='lower', vmin=v_min, vmax=v_max, cmap=cmap, extent=[0, 0.2, 0, 0.2])\n",
    "plt.show()\n",
    "\n",
    "\n"
   ]
  },
  {
   "cell_type": "markdown",
   "metadata": {},
   "source": [
    "## Time Delays\n",
    "\n",
    "In what follows, I want to examine whether my time delay function produces the same results which are determined analytically "
   ]
  },
  {
   "cell_type": "code",
   "execution_count": 11,
   "metadata": {},
   "outputs": [
    {
     "name": "stdout",
     "output_type": "stream",
     "text": [
      "kappa_od =  0\n",
      "kappa_od =  0\n",
      "kappa_od =  0\n",
      "omega_od =  0\n",
      "omega_os =  0\n",
      "omega_ds =  0\n",
      "\n",
      "gamma1_od =  0.1\n",
      "gamma2_od =  -0.05\n",
      "\n",
      "gamma1_os =  -0.1\n",
      "gamma2_os =  0.03\n",
      "\n",
      "gamma1_ds =  -0.02\n",
      "gamma2_ds =  0.09\n",
      "\n"
     ]
    }
   ],
   "source": [
    "#First check - ensuring that the kappas etc are inputted correctly\n",
    "\n",
    "print(\"kappa_od = \", kwargs_LOS['kappa_od'])\n",
    "print(\"kappa_od = \", kwargs_LOS['kappa_os'])\n",
    "print(\"kappa_od = \", kwargs_LOS['kappa_ds'])\n",
    "print(\"omega_od = \", kwargs_LOS['omega_od'])\n",
    "print(\"omega_os = \", kwargs_LOS['omega_os'])\n",
    "print(\"omega_ds = \", kwargs_LOS['omega_ds'])\n",
    "print('')\n",
    "print(\"gamma1_od = \", kwargs_LOS['gamma1_od'])\n",
    "print(\"gamma2_od = \", kwargs_LOS['gamma2_od'])\n",
    "print('')\n",
    "print(\"gamma1_os = \", kwargs_LOS['gamma1_os'])\n",
    "print(\"gamma2_os = \", kwargs_LOS['gamma2_os'])\n",
    "print('')\n",
    "print(\"gamma1_ds = \", kwargs_LOS['gamma1_ds'])\n",
    "print(\"gamma2_ds = \", kwargs_LOS['gamma2_ds'])\n",
    "print('')\n"
   ]
  },
  {
   "cell_type": "code",
   "execution_count": 12,
   "metadata": {},
   "outputs": [
    {
     "name": "stdout",
     "output_type": "stream",
     "text": [
      "A_LOS =  [[0.97951589 0.09299546]\n",
      " [0.13011094 1.01806354]]\n"
     ]
    }
   ],
   "source": [
    "#checking that my gamma_LOS matrix is returned correctly\n",
    "\n",
    "A_od = np.array([[1-kwargs_LOS['kappa_od']-kwargs_LOS['gamma1_od'],-kwargs_LOS['gamma2_od']+kwargs_LOS['omega_od']],[-kwargs_LOS['gamma2_od']-kwargs_LOS['omega_od'],1-kwargs_LOS['kappa_od']+kwargs_LOS['gamma1_od']]])\n",
    "A_os = np.array([[1-kwargs_LOS['kappa_os']-kwargs_LOS['gamma1_os'],-kwargs_LOS['gamma2_os']+kwargs_LOS['omega_os']],[-kwargs_LOS['gamma2_os']-kwargs_LOS['omega_os'],1-kwargs_LOS['kappa_os']+kwargs_LOS['gamma1_os']]])\n",
    "A_ds = np.array([[1-kwargs_LOS['kappa_ds']-kwargs_LOS['gamma1_ds'],-kwargs_LOS['gamma2_ds']+kwargs_LOS['omega_ds']],[-kwargs_LOS['gamma2_ds']-kwargs_LOS['omega_ds'],1-kwargs_LOS['kappa_ds']+kwargs_LOS['gamma1_ds']]])\n",
    "\n",
    "A_ds_inv = np.linalg.inv(A_ds)\n",
    "\n",
    "A_LOS = np.dot(np.dot(A_od,A_ds_inv),A_os)\n",
    "\n",
    "print(\"A_LOS = \", A_LOS)"
   ]
  },
  {
   "cell_type": "code",
   "execution_count": 13,
   "metadata": {},
   "outputs": [
    {
     "name": "stdout",
     "output_type": "stream",
     "text": [
      "position at which the light leaves the lens plane =  0.85 -1.05\n"
     ]
    }
   ],
   "source": [
    "#next, checking that I arrive at the same distorted position\n",
    "x_d, y_d = lens_model_class.lens_model.los.distort_vector(1,-1,\n",
    "                                           kappa=kwargs_LOS['kappa_od'],\n",
    "                                           omega=kwargs_LOS['omega_od'],\n",
    "                                           gamma1=kwargs_LOS['gamma1_od'],\n",
    "                                           gamma2=kwargs_LOS['gamma2_od'])\n",
    "\n",
    "print('position at which the light leaves the lens plane = ', x_d, y_d)"
   ]
  },
  {
   "cell_type": "code",
   "execution_count": 14,
   "metadata": {},
   "outputs": [
    {
     "name": "stdout",
     "output_type": "stream",
     "text": [
      "effective potential 1 =  1.2031599740689096\n",
      "effective potential 2 =  1.2031599740689096\n"
     ]
    }
   ],
   "source": [
    "#checking that the lensing potential is calculated correctly\n",
    "\n",
    "psi_eff_1 = lens_model_base.potential(x_d, y_d,kwargs_base)              #evaluating the potential at the distorted position\n",
    "psi_eff_2 = lens_model_class.lens_model.effective_potential(1,-1,kwargs_lens) #evaluating the effective potential from the code\n",
    "\n",
    "print(\"effective potential 1 = \", psi_eff_1)\n",
    "print(\"effective potential 2 = \", psi_eff_2)"
   ]
  },
  {
   "cell_type": "code",
   "execution_count": 19,
   "metadata": {},
   "outputs": [
    {
     "name": "stdout",
     "output_type": "stream",
     "text": [
      "alpha at lensed position =  1.863013698630137 -2.3013698630136985\n",
      "alpha_prime_1 =  1.852054794520548 -2.5972602739726027\n",
      "alpha_prime_2 =  (2.1183561643835622, -2.1271232876712327)\n"
     ]
    }
   ],
   "source": [
    "#checking that the displacement angles are calculated correctly\n",
    "\n",
    "#firstly, alpha at the lensed position\n",
    "alpha_dist_1, alpha_dist_2 = lens_model_base.alpha(x_d, y_d, kwargs_base)\n",
    "print(\"alpha at lensed position = \", alpha_dist_1, alpha_dist_2)\n",
    "\n",
    "#next, alpha distorted once again by 1 + Gamma_os - Gamma_ds\n",
    "a_xd, a_yd = lens_model_class.lens_model.los.distort_vector(alpha_dist_1, alpha_dist_2,\n",
    "                                           kappa=kwargs_LOS['kappa_ds']-kwargs_LOS['kappa_os'],\n",
    "                                           omega=kwargs_LOS['omega_ds']-kwargs_LOS['omega_os'],\n",
    "                                           gamma1=kwargs_LOS['gamma1_ds']-kwargs_LOS['gamma1_os'],\n",
    "                                           gamma2=kwargs_LOS['gamma2_ds']-kwargs_LOS['gamma2_os'])\n",
    "\n",
    "print('alpha_prime_1 = ', a_xd, a_yd)\n",
    "print('alpha_prime_2 = ', lens_model_class.lens_model.alpha_prime(1,-1, kwargs_lens))\n",
    "\n",
    "#next, alpha distorted once again by 1 - Gamma_ds\n",
    "#a_xd, a_yd = lens_model_class.lens_model.los.distort_vector(alpha_dist_1, alpha_dist_2,\n",
    "#                                           kappa=kwargs_LOS['kappa_ds'],\n",
    "#                                           omega=kwargs_LOS['omega_ds'],\n",
    "#                                           gamma1=kwargs_LOS['gamma1_ds'],\n",
    "#                                           gamma2=kwargs_LOS['gamma2_ds'])\n",
    "\n",
    "#print(\"(1-Gamma_ds)*alpha_ods[(1-Gamma_od)theta] = \", a_xd, a_yd)\n",
    "\n",
    "#then, the image position distorted by Gamma_os\n",
    "#theta_dx, theta_dy = lens_model_class.lens_model.los.distort_vector(1, -1,\n",
    "#                                           kappa=-kwargs_LOS['kappa_os'],\n",
    "#                                           omega=-kwargs_LOS['omega_os'],\n",
    "#                                           gamma1=-kwargs_LOS['gamma1_os'],\n",
    "#                                           gamma2=-kwargs_LOS['gamma2_os'])\n",
    "\n",
    "#theta_dx -= 1\n",
    "#theta_dy -= -1\n",
    "\n",
    "#print(\"Gamma_os*theta = \", theta_dx, theta_dy)\n",
    "\n",
    "#finally, the full displacement angle\n",
    "#alph_1x = a_xd + theta_dx\n",
    "#alph_1y = a_yd + theta_dy\n",
    "\n",
    "#alph_2x, alph_2y = lens_model_class.alpha(1,-1,kwargs_lens)\n",
    "\n",
    "#print(\"alpha 1 = \", alph_1x, alph_1y)\n",
    "#print(\"alpha 2 = \", alph_2x, alph_2y)"
   ]
  },
  {
   "cell_type": "code",
   "execution_count": 20,
   "metadata": {},
   "outputs": [
    {
     "name": "stdout",
     "output_type": "stream",
     "text": [
      "Gamma_LOS*alpha =  [[ 1.57258367]\n",
      " [-2.40320339]]\n"
     ]
    }
   ],
   "source": [
    "#checking that the displacement angle modified by Gamma_LOS is calculated correctly\n",
    "\n",
    "alpha = np.array([[a_xd],[a_yd]])\n",
    "\n",
    "Gamma_LOS_alpha = np.dot(A_LOS,alpha)\n",
    "\n",
    "print(\"Gamma_LOS*alpha = \", Gamma_LOS_alpha)\n"
   ]
  },
  {
   "cell_type": "code",
   "execution_count": 21,
   "metadata": {
    "scrolled": true
   },
   "outputs": [
    {
     "name": "stdout",
     "output_type": "stream",
     "text": [
      "Fermat Potential 1 =  3.3739679438772825\n",
      "Fermat Potential 2 =  2.795129013942626\n"
     ]
    }
   ],
   "source": [
    "#testing the Fermat Potential function itself\n",
    "\n",
    "geometry = (a_xd* Gamma_LOS_alpha[0][0] + a_yd* Gamma_LOS_alpha[1][0]) / 2\n",
    "\n",
    "fermat_1 = geometry - psi_eff_2\n",
    "\n",
    "print(\"Fermat Potential 1 = \", fermat_1)\n",
    "\n",
    "fermat_pot_test2 = lens_model_class.fermat_potential(1,-1,kwargs_lens)\n",
    "print(\"Fermat Potential 2 = \", fermat_pot_test2)"
   ]
  },
  {
   "cell_type": "code",
   "execution_count": null,
   "metadata": {},
   "outputs": [],
   "source": []
  }
 ],
 "metadata": {
  "kernelspec": {
   "display_name": "Python 3",
   "language": "python",
   "name": "python3"
  },
  "language_info": {
   "codemirror_mode": {
    "name": "ipython",
    "version": 3
   },
   "file_extension": ".py",
   "mimetype": "text/x-python",
   "name": "python",
   "nbconvert_exporter": "python",
   "pygments_lexer": "ipython3",
   "version": "3.7.4"
  }
 },
 "nbformat": 4,
 "nbformat_minor": 2
}
