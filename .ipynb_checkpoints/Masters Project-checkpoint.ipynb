{
 "cells": [
  {
   "cell_type": "code",
   "execution_count": null,
   "metadata": {},
   "outputs": [],
   "source": []
  },
  {
   "cell_type": "code",
   "execution_count": 1,
   "metadata": {},
   "outputs": [
    {
     "data": {
      "text/plain": [
       "<Figure size 640x480 with 2 Axes>"
      ]
     },
     "metadata": {},
     "output_type": "display_data"
    }
   ],
   "source": [
    "\n",
    "import math\n",
    "import numpy as np\n",
    "import matplotlib.pyplot as plt\n",
    "from matplotlib import figure\n",
    "from ipywidgets import interact\n",
    "import matplotlib.gridspec as gridspec\n",
    "\n",
    "plt.rc('font', size=15)         \n",
    "plt.rc('axes', labelsize=20)\n",
    "\n",
    "def muplus(beta):\n",
    "    return 0.25*(1+np.sqrt(1+4/(beta**2)))*(1+beta/np.sqrt(beta**2+4))\n",
    "\n",
    "def muminus(beta):\n",
    "    return 0.25*(1-np.sqrt(1+4/(beta**2)))*(1-beta/np.sqrt(beta**2+4))\n",
    "\n",
    "def thetaplus(beta):\n",
    "    return 0.5*(beta+np.sqrt(beta**2+4))\n",
    "\n",
    "def thetaminus(beta):\n",
    "    return 0.5*(beta-np.sqrt(beta**2+4))\n",
    "\n",
    "\n",
    "def graphs(b):\n",
    "\n",
    "    betas = np.linspace(0.1,10,1000)\n",
    "\n",
    "    mup = muplus(betas*b)\n",
    "    mum = muminus(betas*b)\n",
    "    \n",
    "    plt.figure(1)\n",
    "    gs = gridspec.GridSpec(2, 1,height_ratios=[1,1])\n",
    "\n",
    "    ax1=plt.subplot(gs[0])\n",
    "    line1 = plt.plot(betas,thetaplus(betas*b),'r',label=r'$\\mu+$')\n",
    "    line2 = plt.plot(betas,thetaminus(betas*b),'b',label=r'$\\mu-$')\n",
    "    plt.xticks([])\n",
    "    plt.legend()\n",
    "    plt.ylabel(r'$\\theta$')\n",
    "\n",
    "    ax2=plt.subplot(gs[1])\n",
    "    line1=plt.plot(betas,mup,'r',label=r'$\\mu+$')\n",
    "    line2=plt.plot(betas,mum,'b',label=r'$\\mu-$')\n",
    "    plt.xlabel(r'$\\frac{\\beta}{\\theta_E}$')\n",
    "    plt.ylabel(r'$\\mu$')\n",
    "    plt.legend()\n",
    "    plt.show()\n",
    "    \n",
    "graphs(1)"
   ]
  },
  {
   "cell_type": "code",
   "execution_count": null,
   "metadata": {},
   "outputs": [],
   "source": []
  },
  {
   "cell_type": "code",
   "execution_count": 2,
   "metadata": {
    "scrolled": true
   },
   "outputs": [
    {
     "data": {
      "application/vnd.jupyter.widget-view+json": {
       "model_id": "775f51e9943f4f149b230f4e9d6a7f9a",
       "version_major": 2,
       "version_minor": 0
      },
      "text/plain": [
       "interactive(children=(Dropdown(description='fineness', index=4, options=(10, 20, 50, 70, 100, 200, 500, 1000),…"
      ]
     },
     "metadata": {},
     "output_type": "display_data"
    }
   ],
   "source": [
    "import math\n",
    "import numpy as np\n",
    "import matplotlib.pyplot as plt\n",
    "from matplotlib import figure\n",
    "from ipywidgets import interact\n",
    "from scipy.interpolate import Rbf\n",
    "from scipy.interpolate import griddata\n",
    "import matplotlib.gridspec as gridspec\n",
    "from scipy.interpolate import LinearNDInterpolator\n",
    "\n",
    "plt.rcParams['figure.figsize'] = [10, 10]\n",
    "\n",
    "#source brightness distribution profiles\n",
    "def rad(x,y,s,f):\n",
    "    return 1.5*s/(np.sqrt(x**2+y**2)+0.1)\n",
    "\n",
    "def radsqr(x,y,s,f):\n",
    "    return 2*s/(x**2+y**2+0.1)\n",
    "\n",
    "def exp(x,y,s,f):\n",
    "    return 15*np.exp(-(3*s*np.sqrt(x**2+y**2))+0.1)\n",
    "\n",
    "def twopoints(x,y,s,f):\n",
    "    return 1.5/(np.sqrt((x-s)**2+(y)**2))+1.5/(np.sqrt((x+s)**2+(y)**2)+0.01)\n",
    "\n",
    "def multipoint(x,y,nn,centt_x,centt_y,peak):\n",
    "    \n",
    "    bri = np.zeros(nn)\n",
    "    \n",
    "    for i in range(nn):\n",
    "        bri[i] = peak[i]/((x-centt_x[i])**2+(y-centt_y[i])**2+0.01)\n",
    "    \n",
    "    bb = np.sum(bri)\n",
    "                       \n",
    "    return bb\n",
    "\n",
    "def point(x,y,s,f):\n",
    "    if x**2 + y**2 < 0.1*s:\n",
    "        return 10\n",
    "    else:\n",
    "        return 0\n",
    "\n",
    "#xi_1 will be x\n",
    "#xi_2 will be y\n",
    "    \n",
    "def ellipse(x,y,s,f,angle):\n",
    "    xnew = x*np.cos(angle)-y*np.sin(angle)\n",
    "    ynew = x*np.sin(angle)+y*np.cos(angle)\n",
    "    return np.sqrt(f)*3*s*(1/np.sqrt(xnew**2+(f**2)*ynew**2)) \n",
    "    \n",
    "#alphas\n",
    "\n",
    "def alpha_point(x,y,f):\n",
    "    theta = np.sqrt(x**2+y**2)\n",
    "    phi = math.atan2(y,x)\n",
    "    r = 1/theta\n",
    "    xx = r*np.cos(phi)\n",
    "    yy = r*np.sin(phi)\n",
    "    return (xx,yy)    \n",
    "\n",
    "def alpha_SIS(x,y,f):\n",
    "    theta = np.sqrt(x**2+y**2)\n",
    "    phi = math.atan2(y,x)\n",
    "    r = theta/np.abs(theta)\n",
    "    xx = r*np.cos(phi)\n",
    "    yy = r*np.sin(phi)\n",
    "    return (xx,yy) \n",
    "\n",
    "def alpha_SIE(x,y,f):\n",
    "    if x == y == 0:\n",
    "        phi = 0\n",
    "    else:\n",
    "        phi = math.atan2(y,x)\n",
    "        \n",
    "    xx = np.sqrt(f/(1-f**2))*np.arcsinh(np.sqrt(1-f**2)*np.cos(phi)/f)   \n",
    "    yy = np.sqrt(f/(1-f**2))*np.arcsin(np.sqrt(1-f**2)*np.sin(phi))\n",
    "    \n",
    "    return (xx,yy) \n",
    "\n",
    "\n",
    "def delta(phi,ff):\n",
    "    return np.sqrt((np.cos(phi))**2+(ff**2)*(np.sin(phi))**2)\n",
    "\n",
    "#the random positions of all the points in multipoint\n",
    "cent_x = np.random.uniform(low=-4.0, high=4.0, size=100)\n",
    "cent_y = np.random.uniform(low=-2.0, high=2.0, size=100)\n",
    "peaks = np.random.uniform(low=0.0, high=0.1, size=100)\n",
    "\n",
    "\n",
    "#x and y coordinates for plotting the Einstein radius\n",
    "xcircle = np.linspace(-1,1,100)\n",
    "ycircle = np.sqrt(1-xcircle**2)\n",
    "ycircle2 = -np.sqrt(1-xcircle**2)\n",
    "\n",
    "\n",
    "#plotting an interactive graph\n",
    "def graph(fineness=100, profile='rad',lens='point mass',lens_visibility='opaque',s_parameter=2,f_lens=0.5,f_source=0.5,angle_source=0,centre_x=0.0,centre_y=0.0):\n",
    "    \n",
    "    f = f_lens\n",
    "    \n",
    "    if profile == 'rad':\n",
    "        prof = rad\n",
    "    elif profile == 'radsqr':\n",
    "        prof = radsqr\n",
    "    elif profile == 'exp':\n",
    "        prof = exp\n",
    "    elif profile =='two points':\n",
    "        prof = twopoints\n",
    "    elif profile=='multiple points':\n",
    "        prof = multipoint\n",
    "    elif profile=='point':\n",
    "        prof = point\n",
    "    elif profile=='ellipse':\n",
    "        prof = ellipse\n",
    "        \n",
    "    if lens == 'point mass':\n",
    "        alpha = alpha_point\n",
    "        lens_profile = point\n",
    "        \n",
    "    elif lens == 'SIS':\n",
    "        alpha = alpha_SIS\n",
    "        lens_profile = radsqr\n",
    "        \n",
    "    elif lens == 'SIE':\n",
    "        alpha = alpha_SIE\n",
    "        lens_profile = ellipse\n",
    "    \n",
    "    #max X and Y values out to which we plot the brightness distribution \n",
    "    maxx = 3\n",
    "    \n",
    "    #the x and y coordinates of all points in the source\n",
    "    x = np.linspace(-maxx,maxx,fineness)\n",
    "    y = np.linspace(-maxx,maxx,fineness)\n",
    "    \n",
    "    #we need to turn this into a grid, and so\n",
    "    X,Y  = np.meshgrid(x,y)\n",
    "    \n",
    "    #creating an array to hold the values of brightness\n",
    "    source_brightnesses = np.zeros(X.shape)\n",
    "    source_brightnesses = np.zeros(X.shape)\n",
    "    image_brightnesses = np.zeros(X.shape)\n",
    "    lensb = np.zeros(X.shape)\n",
    "    \n",
    "    #calculating the brightnesses for the choice of profile\n",
    "    if profile == 'multiple points':\n",
    "    \n",
    "        n = int(round(20*s_parameter))\n",
    "\n",
    "        for i in range(len(x)):\n",
    "            for j in range(len(y)):\n",
    "                xs = X[i][j]-centre_x\n",
    "                ys = Y[i][j]-centre_y\n",
    "                source_brightnesses[i][j] = prof(xs,ys,n,cent_x,cent_y,peaks)\n",
    "                image_brightnesses[i][j] = prof(xs-alpha(X[i][j],Y[i][j],f)[0],ys-alpha(X[i][j],Y[i][j],f)[1],n,cent_x,cent_y,peaks)\n",
    "    \n",
    "    elif profile == 'ellipse':\n",
    "        for i in range(len(x)):\n",
    "            for j in range(len(y)):\n",
    "                xs = X[i][j]-centre_x\n",
    "                ys = Y[i][j]-centre_y\n",
    "                source_brightnesses[i][j] = ellipse(xs,ys,0.5*s_parameter,f_source,angle_source)            \n",
    "                image_brightnesses[i][j] = prof(xs-alpha(X[i][j],Y[i][j],f)[0],ys-alpha(X[i][j],Y[i][j],f)[1],0.5*s_parameter,f_source,angle_source)         \n",
    "    \n",
    "    else:\n",
    "        for i in range(len(x)):\n",
    "            for j in range(len(y)):\n",
    "                xs = X[i][j]-centre_x\n",
    "                ys = Y[i][j]-centre_y\n",
    "                source_brightnesses[i][j] = prof(xs,ys,0.5*s_parameter,f)            \n",
    "                image_brightnesses[i][j] = prof(xs-alpha(X[i][j],Y[i][j],f)[0],ys-alpha(X[i][j],Y[i][j],f)[1],0.5*s_parameter,f) \n",
    "    \n",
    "    if lens=='SIE':\n",
    "        for i in range(len(x)):\n",
    "            for j in range(len(y)):\n",
    "                lensb[i][j] = lens_profile(X[i][j],Y[i][j],0.5,f,0)        \n",
    "    else:\n",
    "        for i in range(len(x)):\n",
    "            for j in range(len(y)):\n",
    "                lensb[i][j] = lens_profile(X[i][j],Y[i][j],0.5,f)\n",
    "    \n",
    "    #calculating the critical curve\n",
    "    if lens == 'SIE':\n",
    "        phis = np.linspace(0,2*np.pi,1000)\n",
    "        r = np.zeros(len(phis))\n",
    "        crit_x = np.zeros(len(phis))\n",
    "        crit_y = np.zeros(len(phis))      \n",
    "        caust_x = np.zeros(len(phis))\n",
    "        caust_y = np.zeros(len(phis))  \n",
    "        for i in range(len(phis)):\n",
    "            r[i] = np.sqrt(f)/np.sqrt((np.cos(phis[i]))**2+(f**2)*(np.sin(phis[i]))**2)\n",
    "            crit_x[i] = r[i]*np.cos(phis[i])\n",
    "            crit_y[i] = r[i]*np.sin(phis[i])\n",
    "            caust_x[i] = crit_x[i] - alpha(crit_x[i],crit_y[i],f)[0]\n",
    "            caust_y[i] = crit_y[i] - alpha(crit_x[i],crit_y[i],f)[1]\n",
    "    \n",
    "\n",
    "    #sets the colour gradients\n",
    "    levlist = np.arange(0,11,0.2)\n",
    "    lenslev1 = np.arange(8,18,1)\n",
    "    lenslev2 = np.arange(3,18,1)\n",
    "    \n",
    "    plt.figure(1)\n",
    "    gs = gridspec.GridSpec(2, 1,height_ratios=[1,1])\n",
    "\n",
    "    ax1=plt.subplot(gs[0])\n",
    "    plt.title('Source Plane')\n",
    "    line1 = plt.contourf(X,Y,source_brightnesses,levels=levlist,cmap=plt.get_cmap('hot'))\n",
    "    line2 = plt.plot(0,0,'bx')\n",
    "    if lens == 'SIE':\n",
    "        line4 = plt.plot(caust_x,caust_y,'g--')    \n",
    "    elif lens == 'point mass' or 'SIS':\n",
    "        line4 = plt.plot(xcircle,ycircle,'b--')\n",
    "        line5 = plt.plot(xcircle,ycircle2,'b--')\n",
    "    plt.xlim(-3,3)\n",
    "    plt.ylim(-1.5,1.5)\n",
    "    plt.gca().set_aspect('equal')\n",
    "    plt.colorbar()\n",
    "    \n",
    "    #X_edges, Y_edges = np.meshgrid(edges, edges)\n",
    "    \n",
    "    ax2=plt.subplot(gs[1])\n",
    "    plt.title('Image Plane')\n",
    "    line1 = plt.contourf(X,Y,image_brightnesses,levels=levlist, cmap=plt.get_cmap('hot'))\n",
    "    line3 = plt.plot(0,0,'bx')\n",
    "    if lens == 'SIE':\n",
    "        line4 = plt.plot(crit_x,crit_y,'g--')    \n",
    "    elif lens == 'point mass' or 'SIS':\n",
    "        line4 = plt.plot(xcircle,ycircle,'b--')\n",
    "        line5 = plt.plot(xcircle,ycircle2,'b--')\n",
    "    plt.colorbar()\n",
    "    if lens_visibility=='opaque':\n",
    "        line6 = plt.contourf(X,Y,lensb,levels=lenslev1, cmap=plt.get_cmap('Blues_r'),alpha = 0.9,extend='max')  \n",
    "        line7 = plt.contourf(X,Y,lensb,levels=lenslev2, cmap=plt.get_cmap('Blues_r'),alpha = 0.5,extend='max')\n",
    "    plt.xlim(-3,3)\n",
    "    plt.ylim(-1.5,1.5)\n",
    "    plt.gca().set_aspect('equal')\n",
    "\n",
    "\n",
    "\n",
    "interact(graph, fineness = [10,20,50,70,100,200,500,1000],profile=['rad','radsqr','exp','two points','multiple points','point','ellipse'],lens=['point mass','SIS','SIE'],lens_visibility=['opaque','transparent'], s_parameter = (0,5,0.2), f_lens=(0.1,0.99,0.05), f_source=(0.1,0.99,0.05), angle_source=(0.0,np.pi,0.05), centre_x=(-3,3,0.05),centre_y=(-3,3,0.05))\n",
    "plt.show()"
   ]
  },
  {
   "cell_type": "markdown",
   "metadata": {},
   "source": [
    "Standard imports"
   ]
  },
  {
   "cell_type": "code",
   "execution_count": 1,
   "metadata": {
    "scrolled": false
   },
   "outputs": [],
   "source": [
    "# some standard python imports #\n",
    "import numpy as np\n",
    "import copy\n",
    "import matplotlib.pyplot as plt\n",
    "%matplotlib inline\n",
    "\n",
    "# import the LensModel class #\n",
    "from lenstronomy.LensModel.lens_model import LensModel"
   ]
  },
  {
   "cell_type": "markdown",
   "metadata": {},
   "source": [
    "LensModel\n",
    "\n",
    "The LensModel package executes everything which is purely lensing related. Ray-shooting, solving the lens equation, arrival time computation and non-linear solers to optimize lens models for specific image configuration.\n",
    "\n",
    "LensModel is a class. When setting up a lens model, we define an item of that class, which is classified according to a list of lens models.\n",
    "\n",
    "The default setting for LensModel is single plane lensing. Any lens models entered into the list will be super-imposed on one another.\n",
    "\n",
    "The lens models can be found at: https://lenstronomy.readthedocs.io/en/latest/lenstronomy.LensModel.Profiles.html\n",
    "\n",
    "The base_profile class \"acts as the base class of all lens model functions and indicates raise statements and default outputs if these functions are not defined in the specific lens model class\"\n",
    "\n",
    "There's also an explanation for flexion, F flexion and G flexion, the Hessian distortion, and the numerical deflections module, which allows any lens profile to be incorporated into lenstronomy, and calculated numerically\n",
    "\n",
    "the rest of it just lists the module, presumably the inputs are the same as for the base_profile class\n",
    "\n",
    "Note, for LensModel, you specify the type of lens model which you are working with, but must then further specify the keyword arguments when using attributes of LensModel.\n",
    "\n",
    "*note, while a redshift for the lens or source is not specified, this kind of information is contained within the specification of the Einstein radius"
   ]
  },
  {
   "cell_type": "code",
   "execution_count": 2,
   "metadata": {},
   "outputs": [],
   "source": [
    "#firstly, we stick all the lens models we're going to use in a list, as follows\n",
    "\n",
    "lens_model_list = ['EPL', 'SHEAR']   \n",
    "\n",
    "#the lens model class is then set up by entering in this list\n",
    "lensModel = LensModel(lens_model_list=lens_model_list)\n",
    "\n",
    "#each of the lens models needs key word arguments, which we define as separate lists\n",
    "kwargs_epl = {'theta_E': 1.1, 'e1': 0.1, 'e2': 0.1, 'gamma': 2., 'center_x': 0.1, 'center_y': 0}\n",
    "kwargs_shear = {'gamma1': -0.01, 'gamma2': .03}\n",
    "\n",
    "#these lists then get combined into a master list of keywords, which is fed into the calculations\n",
    "kwargs_lens = [kwargs_epl, kwargs_shear]\n",
    "\n",
    "# these are the (angular) coordinates at which the image is observed\n",
    "#presumably this would normally be a whole set of values\n",
    "theta_ra, theta_dec = 1., .5\n",
    "\n",
    "## and this uses the lens equation to trace this image back to the source which produced it\n",
    "beta_ra, beta_dec = lensModel.ray_shooting(theta_ra, theta_dec, kwargs_lens)\n",
    "\n",
    "## the Fermat potential is calculated using the image positions, source positions and lens properties. \n",
    "fermat_pot = lensModel.fermat_potential(x_image=theta_ra, y_image=theta_dec, x_source=beta_ra, y_source=beta_dec, kwargs_lens=kwargs_lens)\n",
    "\n",
    "## the magnification, calculated at specific image coordinates\n",
    "mag = lensModel.magnification(theta_ra, theta_dec, kwargs_lens)\n",
    "\n"
   ]
  },
  {
   "cell_type": "markdown",
   "metadata": {},
   "source": [
    "Multi-Plane Lensing\n",
    "\n",
    "Instead of having all the lenses in a single plane, they can instead be separated out by specifying different redshifts\n",
    "\n",
    "*now, we have to specify the redshift of all the planes, including the source\n",
    "\n",
    "Notice that the lensModel class which is defined then has e.g. .ray_shooting or .magnification put at the end to get those values from the model. These things take right ascension and declinations as "
   ]
  },
  {
   "cell_type": "code",
   "execution_count": 3,
   "metadata": {},
   "outputs": [],
   "source": [
    "#the source redshift\n",
    "z_source = 1.5\n",
    "\n",
    "#the redshifts of the planes. Note that the external shear is given the same redshift as the primary lens \n",
    "redshift_list = [0.5, 0.5, .1]\n",
    "\n",
    "#Once again, we put in a list of lens models, but this time, we feed the redshifts into the lensmodel function as well\n",
    "#you also need to set multi_plane to be true\n",
    "lens_model_list_mp = ['EPL', 'SHEAR', 'SIS']\n",
    "lensModel_mp = LensModel(lens_model_list=lens_model_list_mp, z_source=z_source, lens_redshift_list=redshift_list, multi_plane=True)\n",
    "\n",
    "#we use the same parameters for EPL and SHEAR, but now add SIS parameters\n",
    "kwargs_sis = {'theta_E': 0.1, 'center_x': 1., 'center_y': -0.1}\n",
    "kwargs_lens_mp = [kwargs_epl, kwargs_shear, kwargs_sis]\n",
    "\n",
    "# source plane coordinate\n",
    "beta_ra, beta_dec = lensModel_mp.ray_shooting(theta_ra, theta_dec, kwargs_lens_mp)\n",
    "\n",
    "# Magnification\n",
    "mag = lensModel_mp.magnification(theta_ra, theta_dec, kwargs_lens_mp)\n",
    "\n",
    "# arrival time relative to a straight path through (0,0) \n",
    "dt = lensModel_mp.arrival_time(theta_ra, theta_dec, kwargs_lens_mp)\n"
   ]
  },
  {
   "cell_type": "markdown",
   "metadata": {},
   "source": [
    "Lens Equation Solver\n",
    "\n",
    "Instead of solving for the source positions given the image positions (\"ray tracing\"), we can determine which images would be produced by a certain source using LensEquationSolver"
   ]
  },
  {
   "cell_type": "code",
   "execution_count": 4,
   "metadata": {},
   "outputs": [],
   "source": [
    "# import the lens equation solver class \n",
    "from lenstronomy.LensModel.Solver.lens_equation_solver import LensEquationSolver\n",
    "\n",
    "# specifiy the lens model class to deal with #\n",
    "solver = LensEquationSolver(lensModel)\n",
    "\n",
    "# solve for image positions provided a lens model and the source position #\n",
    "theta_ra, theta_dec = solver.image_position_from_source(beta_ra, beta_dec, kwargs_lens)\n",
    "\n",
    "# the magnification of the point source images #\n",
    "mag = lensModel.magnification(theta_ra, theta_dec, kwargs_lens)\n",
    "\n",
    "##trying the same with multi-plane lensing\n",
    "\n",
    "# specifiy the lens model class to deal with #\n",
    "solver_mp = LensEquationSolver(lensModel_mp)\n",
    "\n",
    "# solve for image positions provided a lens model and the source position #\n",
    "theta_ra, theta_dec = solver.image_position_from_source(beta_ra, beta_dec, kwargs_lens_mp)\n",
    "\n",
    "# the magnification of the point source images #\n",
    "mag = lensModel.magnification(theta_ra, theta_dec, kwargs_lens_mp)\n",
    "\n"
   ]
  },
  {
   "cell_type": "markdown",
   "metadata": {},
   "source": [
    "Illustration of lens models\n",
    "\n",
    "In gray-scale is the convergence map of the lens models,\n",
    "\n",
    "Red lines correspond to the critical curve,\n",
    "\n",
    "Green lines correspond to the caustics,\n",
    "\n",
    "The star is the source position,\n",
    "\n",
    "The diamonds are the corresponding image positions"
   ]
  },
  {
   "cell_type": "code",
   "execution_count": 36,
   "metadata": {
    "scrolled": false
   },
   "outputs": [
    {
     "data": {
      "application/vnd.jupyter.widget-view+json": {
       "model_id": "e7e159c11a7943259ec8f7b584641046",
       "version_major": 2,
       "version_minor": 0
      },
      "text/plain": [
       "interactive(children=(FloatSlider(value=0.0, description='sourceposx', max=2.0, min=-2.0), FloatSlider(value=0…"
      ]
     },
     "metadata": {},
     "output_type": "display_data"
    },
    {
     "name": "stderr",
     "output_type": "stream",
     "text": [
      "c:\\users\\daniel johnson\\appdata\\local\\programs\\python\\python37\\lib\\site-packages\\ipykernel_launcher.py:13: UserWarning: Matplotlib is currently using module://ipykernel.pylab.backend_inline, which is a non-GUI backend, so cannot show the figure.\n",
      "  del sys.path[0]\n"
     ]
    }
   ],
   "source": [
    "\n",
    "from ipywidgets import interact\n",
    "from lenstronomy.Plots import lens_plot\n",
    "\n",
    "#plotting an interactive graph\n",
    "def graph(sourceposx=0,sourceposy=0,thetaE=0.1,centrex=0.5,centrey=0.5):\n",
    "    kwargs_sis_int = {'theta_E': thetaE, 'center_x': centrex, 'center_y': centrey}\n",
    "    kwargs_lens_mp_int = [kwargs_epl, kwargs_shear, kwargs_sis_int]\n",
    "    f, axex = plt.subplots(1, 2, figsize=(10, 5), sharex=False, sharey=False)\n",
    "    lens_plot.lens_model_plot(axex[0], lensModel=lensModel, kwargs_lens=kwargs_lens, sourcePos_x=sourceposx, sourcePos_y=sourceposy, point_source=True, with_caustics=True, fast_caustic=True, coord_inverse=False)\n",
    "    lens_plot.lens_model_plot(axex[1], lensModel=lensModel_mp, kwargs_lens=kwargs_lens_mp_int, sourcePos_x=sourceposx, sourcePos_y=sourceposy, point_source=True, with_caustics=True, fast_caustic=True, coord_inverse=False)\n",
    "\n",
    "interact(graph,sourceposx=(-2,2,0.1),sourceposy=(-2,2,0.1),thetaE=(0.1,2,0.1),centrex=(-2,2,0.1),centrey=(-2,2,0.1)) \n",
    "f.show()\n",
    "\n",
    "#does the convergence map of the background lens change because the foreground lens is changing?"
   ]
  },
  {
   "cell_type": "markdown",
   "metadata": {},
   "source": [
    "LightModel Module\n",
    "\n",
    "This one also has some info: https://lenstronomy.readthedocs.io/en/latest/lenstronomy.LightModel.Profiles.html\n",
    "\n",
    "It basically allows galaxy surface brightnesses to be described. Up to this point, what we have been plotting is just the convergence maps etc of a lens, and what happens to a point source. We now want to plot what happens to a distribution of light, and so we use this module. Note this allows us to determine the light of the lens and the source.\n",
    "\n",
    "flux then determines the surface brightness at a specific position"
   ]
  },
  {
   "cell_type": "code",
   "execution_count": 44,
   "metadata": {},
   "outputs": [
    {
     "data": {
      "text/plain": [
       "<matplotlib.colorbar.Colorbar at 0x2170661e648>"
      ]
     },
     "execution_count": 44,
     "metadata": {},
     "output_type": "execute_result"
    },
    {
     "data": {
      "image/png": "[encoded data removed]",
      "text/plain": [
       "<Figure size 432x288 with 2 Axes>"
      ]
     },
     "metadata": {
      "needs_background": "light"
     },
     "output_type": "display_data"
    },
    {
     "data": {
      "image/png": "[encoded data removed]",
      "text/plain": [
       "<Figure size 432x288 with 2 Axes>"
      ]
     },
     "metadata": {
      "needs_background": "light"
     },
     "output_type": "display_data"
    }
   ],
   "source": [
    "# import the LightModel class\n",
    "from lenstronomy.LightModel.light_model import LightModel\n",
    "\n",
    "# set up the list of light models to be used \n",
    "\n",
    "# this is saying that the source has a sersic light model\n",
    "source_light_model_list = ['SERSIC']\n",
    "#this feeds the source light model into LightModel, to create the lightModel_source object\n",
    "lightModel_source = LightModel(light_model_list=source_light_model_list)\n",
    "\n",
    "#this is saying that the lens has a sersic ellipse light model\n",
    "lens_light_model_list = ['SERSIC_ELLIPSE']\n",
    "#this feeds the lens light model into LightModel, to create the lightModel_lens object\n",
    "lightModel_lens = LightModel(light_model_list=lens_light_model_list)\n",
    "\n",
    "#this defines the keyword arguments of the light source, and centers it where the source is located from previous \n",
    "kwargs_light_source = [{'amp': 100, 'R_sersic': 0.1, 'n_sersic': 1.5, 'center_x': beta_ra, 'center_y': beta_dec}]\n",
    "\n",
    "#this stuff is to do with handling the parameters which are fed into the lens light, though not sure how it works yet\n",
    "import lenstronomy.Util.param_util as param_util\n",
    "e1, e2 = param_util.phi_q2_ellipticity(phi=0.5, q=0.7)\n",
    "kwargs_light_lens = [{'amp': 1000, 'R_sersic': 0.1, 'n_sersic': 2.5, 'e1': e1, 'e2': e2, 'center_x': 0.1, 'center_y': 0}]\n",
    "\n",
    "# evaluate surface brightness at a specific position\n",
    "flux = lightModel_lens.surface_brightness(x=1, y=1, kwargs_list=kwargs_light_lens)\n",
    "\n",
    "#so this seems to only be evaluating the flux from the lens. Not sure what the point is of all this then. \n",
    "#I guess it happens with image simulation? Mass distribution and light distribution aren't the same\n",
    "\n",
    "\n",
    "#my own thing\n",
    "\n",
    "levlist = np.arange(0,20,1)\n",
    "maxx = 5\n",
    "fineness = 100\n",
    "\n",
    "#the x and y coordinates of all points in the source\n",
    "x = np.linspace(-maxx,maxx,fineness)\n",
    "y = np.linspace(-maxx,maxx,fineness)\n",
    "    \n",
    "#we need to turn this into a grid, and so\n",
    "X,Y  = np.meshgrid(x,y)\n",
    "source_brightnesses = np.zeros(X.shape)\n",
    "lens_brightnesses = np.zeros(X.shape)\n",
    "\n",
    "for i in range(len(x)):\n",
    "    for j in range(len(y)):\n",
    "            xs = X[i][j]\n",
    "            ys = Y[i][j]\n",
    "            source_brightnesses[i][j] = lightModel_source.surface_brightness(x=xs,y=ys,kwargs_list=kwargs_light_source)\n",
    "            lens_brightnesses[i][j] = lightModel_lens.surface_brightness(x=xs,y=ys,kwargs_list=kwargs_light_lens)\n",
    "            \n",
    "plt.figure(1)\n",
    "plt.title('Source Plane')\n",
    "line1 = plt.contourf(X,Y,source_brightnesses,levels=levlist,cmap=plt.get_cmap('hot'))\n",
    "line2 = plt.plot(0,0,'bx')\n",
    "plt.xlim(-3,3)\n",
    "plt.ylim(-1.5,1.5)\n",
    "plt.gca().set_aspect('equal')\n",
    "plt.colorbar()\n",
    "\n",
    "plt.figure(2)\n",
    "plt.title('Lens Plane')\n",
    "line1 = plt.contourf(X,Y,lens_brightnesses,levels=levlist,cmap=plt.get_cmap('hot'))\n",
    "line2 = plt.plot(0,0,'bx')\n",
    "plt.xlim(-3,3)\n",
    "plt.ylim(-1.5,1.5)\n",
    "plt.gca().set_aspect('equal')\n",
    "plt.colorbar()"
   ]
  },
  {
   "cell_type": "markdown",
   "metadata": {},
   "source": [
    "Point Source Module\n",
    "\n",
    "Also contains info at: https://lenstronomy.readthedocs.io/en/latest/lenstronomy.PointSource.html"
   ]
  },
  {
   "cell_type": "code",
   "execution_count": 46,
   "metadata": {},
   "outputs": [
    {
     "name": "stdout",
     "output_type": "stream",
     "text": [
      "fixed =  [array([ 516.4097919 , 2726.64360902, 2578.23121318,  384.72860026])]\n",
      "not fixed =  [array([154.92293757, 817.99308271, 773.46936396, 115.41858008])]\n"
     ]
    }
   ],
   "source": [
    "# import the PointSource class #\n",
    "from lenstronomy.PointSource.point_source import PointSource\n",
    "\n",
    "# unlensed source positon #\n",
    "point_source_model_list = ['SOURCE_POSITION']\n",
    "pointSource = PointSource(point_source_type_list=point_source_model_list, lensModel=lensModel, fixed_magnification_list=[True])\n",
    "kwargs_ps = [{'ra_source': beta_ra, 'dec_source': beta_dec, 'source_amp': 100}]\n",
    "# return image positions and amplitudes #\n",
    "x_pos, y_pos = pointSource.image_position(kwargs_ps=kwargs_ps, kwargs_lens=kwargs_lens)\n",
    "point_amp = pointSource.image_amplitude(kwargs_ps=kwargs_ps, kwargs_lens=kwargs_lens)\n",
    "print(\"fixed = \", point_amp)\n",
    "\n",
    "\n",
    "#I don't yet fully understand the thing about fixed_magnification list\n",
    "\n",
    "# lensed image positions (solution of the lens equation) #\n",
    "point_source_model_list = ['LENSED_POSITION']\n",
    "pointSource = PointSource(point_source_type_list=point_source_model_list, lensModel=lensModel, fixed_magnification_list=[False])\n",
    "kwargs_ps = [{'ra_image': theta_ra, 'dec_image': theta_dec, 'point_amp': np.abs(mag)*30}]\n",
    "# return image positions and amplitudes #\n",
    "x_pos, y_pos = pointSource.image_position(kwargs_ps=kwargs_ps, kwargs_lens=kwargs_lens)\n",
    "point_amp = pointSource.image_amplitude(kwargs_ps=kwargs_ps, kwargs_lens=kwargs_lens)\n",
    "\n",
    "print(\"not fixed = \", point_amp)"
   ]
  },
  {
   "cell_type": "markdown",
   "metadata": {},
   "source": [
    "Data module\n",
    "\n",
    "This basically manages the coordinate frame and coordinate-to-pixel transformation necessary for image simulation. \n",
    "\n",
    "PSF handles the point spread function convolution\n",
    "\n",
    "Also possible to manage data specific quantities like pixel values and noise properties that are required when fitting models to data to estimate the likelihood of the data given a model.\n",
    "\n",
    "*note that what is called Data in the guide should actually be ImageData"
   ]
  },
  {
   "cell_type": "code",
   "execution_count": 47,
   "metadata": {
    "scrolled": true
   },
   "outputs": [
    {
     "ename": "ValueError",
     "evalue": "not enough values to unpack (expected 2, got 0)",
     "output_type": "error",
     "traceback": [
      "\u001b[1;31m---------------------------------------------------------------------------\u001b[0m",
      "\u001b[1;31mValueError\u001b[0m                                Traceback (most recent call last)",
      "\u001b[1;32m<ipython-input-47-fa5b39507689>\u001b[0m in \u001b[0;36m<module>\u001b[1;34m\u001b[0m\n\u001b[0;32m     14\u001b[0m                 'transform_pix2angle': transform_pix2angle} \n\u001b[0;32m     15\u001b[0m \u001b[1;33m\u001b[0m\u001b[0m\n\u001b[1;32m---> 16\u001b[1;33m \u001b[0mdata\u001b[0m \u001b[1;33m=\u001b[0m \u001b[0mImageData\u001b[0m\u001b[1;33m(\u001b[0m\u001b[0mkwargs_data\u001b[0m\u001b[1;33m)\u001b[0m\u001b[1;33m\u001b[0m\u001b[1;33m\u001b[0m\u001b[0m\n\u001b[0m\u001b[0;32m     17\u001b[0m \u001b[1;33m\u001b[0m\u001b[0m\n\u001b[0;32m     18\u001b[0m \u001b[0mpixel_grid\u001b[0m \u001b[1;33m=\u001b[0m \u001b[0mPixelGrid\u001b[0m\u001b[1;33m(\u001b[0m\u001b[1;33m**\u001b[0m\u001b[0mkwargs_pixel\u001b[0m\u001b[1;33m)\u001b[0m\u001b[1;33m\u001b[0m\u001b[1;33m\u001b[0m\u001b[0m\n",
      "\u001b[1;32m~\\AppData\\Roaming\\Python\\Python37\\site-packages\\lenstronomy\\Data\\imaging_data.py\u001b[0m in \u001b[0;36m__init__\u001b[1;34m(self, image_data, exposure_time, background_rms, noise_map, gradient_boost_factor, ra_at_xy_0, dec_at_xy_0, transform_pix2angle, ra_shift, dec_shift)\u001b[0m\n\u001b[0;32m     55\u001b[0m         \u001b[1;33m:\u001b[0m\u001b[0mparam\u001b[0m \u001b[0mdec_shift\u001b[0m\u001b[1;33m:\u001b[0m \u001b[0mDEC\u001b[0m \u001b[0mshift\u001b[0m \u001b[0mof\u001b[0m \u001b[0mpixel\u001b[0m \u001b[0mgrid\u001b[0m\u001b[1;33m\u001b[0m\u001b[1;33m\u001b[0m\u001b[0m\n\u001b[0;32m     56\u001b[0m         \"\"\"\n\u001b[1;32m---> 57\u001b[1;33m         \u001b[0mnx\u001b[0m\u001b[1;33m,\u001b[0m \u001b[0mny\u001b[0m \u001b[1;33m=\u001b[0m \u001b[0mnp\u001b[0m\u001b[1;33m.\u001b[0m\u001b[0mshape\u001b[0m\u001b[1;33m(\u001b[0m\u001b[0mimage_data\u001b[0m\u001b[1;33m)\u001b[0m\u001b[1;33m\u001b[0m\u001b[1;33m\u001b[0m\u001b[0m\n\u001b[0m\u001b[0;32m     58\u001b[0m         \u001b[1;32mif\u001b[0m \u001b[0mtransform_pix2angle\u001b[0m \u001b[1;32mis\u001b[0m \u001b[1;32mNone\u001b[0m\u001b[1;33m:\u001b[0m\u001b[1;33m\u001b[0m\u001b[1;33m\u001b[0m\u001b[0m\n\u001b[0;32m     59\u001b[0m             \u001b[0mtransform_pix2angle\u001b[0m \u001b[1;33m=\u001b[0m \u001b[0mnp\u001b[0m\u001b[1;33m.\u001b[0m\u001b[0marray\u001b[0m\u001b[1;33m(\u001b[0m\u001b[1;33m[\u001b[0m\u001b[1;33m[\u001b[0m\u001b[1;36m1\u001b[0m\u001b[1;33m,\u001b[0m \u001b[1;36m0\u001b[0m\u001b[1;33m]\u001b[0m\u001b[1;33m,\u001b[0m \u001b[1;33m[\u001b[0m\u001b[1;36m0\u001b[0m\u001b[1;33m,\u001b[0m \u001b[1;36m1\u001b[0m\u001b[1;33m]\u001b[0m\u001b[1;33m]\u001b[0m\u001b[1;33m)\u001b[0m\u001b[1;33m\u001b[0m\u001b[1;33m\u001b[0m\u001b[0m\n",
      "\u001b[1;31mValueError\u001b[0m: not enough values to unpack (expected 2, got 0)"
     ]
    }
   ],
   "source": [
    "# import the Data() class #\n",
    "from lenstronomy.Data.imaging_data import ImageData\n",
    "\n",
    "deltaPix = 0.05 # size of pixel in angular coordinates #\n",
    "\n",
    "# setup the keyword arguments to create the Data() class\n",
    "\n",
    "# setup the keyword arguments to create the Data() class #\n",
    "ra_at_xy_0, dec_at_xy_0 = -2.5, -2.5 # coordinate in angles (RA/DEC) at the position of the pixel edge (0,0)\n",
    "transform_pix2angle = np.array([[1, 0], [0, 1]]) * deltaPix  # linear translation matrix of a shift in pixel in a shift in coordinates\n",
    "kwargs_pixel = {'nx': 100, 'ny': 100,  # number of pixels per axis\n",
    "                'ra_at_xy_0': ra_at_xy_0,  # RA at pixel (0,0)\n",
    "                'dec_at_xy_0': dec_at_xy_0,  # DEC at pixel (0,0)\n",
    "                'transform_pix2angle': transform_pix2angle} \n",
    "\n",
    "data = ImageData(kwargs_data)\n",
    "\n",
    "pixel_grid = PixelGrid(**kwargs_pixel)\n",
    "# return the list of pixel coordinates #\n",
    "x_coords, y_coords = pixel_grid.pixel_coordinates\n",
    "# compute pixel value of a coordinate position #\n",
    "x_pos, y_pos = pixel_grid.map_coord2pix(ra=0, dec=0)\n",
    "# compute the coordinate value of a pixel position #\n",
    "ra_pos, dec_pos = pixel_grid.map_pix2coord(x=20, y=10)\n",
    "\n",
    "# import the PSF() class #\n",
    "from lenstronomy.Data.psf import PSF\n",
    "kwargs_psf = {'psf_type': 'GAUSSIAN',  # type of PSF model (supports 'GAUSSIAN' and 'PIXEL')\n",
    "              'fwhm': 0.1,  # full width at half maximum of the Gaussian PSF (in angular units)\n",
    "              'pixel_size': deltaPix  # angular scale of a pixel (required for a Gaussian PSF to translate the FWHM into a pixel scale)\n",
    "             }\n",
    "psf = PSF(**kwargs_psf)\n",
    "# return the pixel kernel corresponding to a point source # \n",
    "kernel = psf.kernel_point_source"
   ]
  },
  {
   "cell_type": "markdown",
   "metadata": {},
   "source": [
    "Image Simulation\n",
    "\n",
    "Here, we combine LensModel, LightModel, PointSource and Data to model images.\n",
    "\n",
    "LightModel can model both the lens light, which is unlensed, and the source light, which is lensed (test whether lens light can be lensed in multi-plane lensing). It says ImSim supports all the functionalities of those components, so I guess it would?\n",
    "\n"
   ]
  },
  {
   "cell_type": "code",
   "execution_count": 25,
   "metadata": {},
   "outputs": [
    {
     "ename": "NameError",
     "evalue": "name 'data' is not defined",
     "output_type": "error",
     "traceback": [
      "\u001b[1;31m---------------------------------------------------------------------------\u001b[0m",
      "\u001b[1;31mNameError\u001b[0m                                 Traceback (most recent call last)",
      "\u001b[1;32m<ipython-input-25-770d1c1c23b6>\u001b[0m in \u001b[0;36m<module>\u001b[1;34m\u001b[0m\n\u001b[0;32m      5\u001b[0m                   'supersampling_convolution': False}\n\u001b[0;32m      6\u001b[0m \u001b[1;33m\u001b[0m\u001b[0m\n\u001b[1;32m----> 7\u001b[1;33m imageModel = ImageModel(data_class=data,psf_class=psf, lens_model_class=lensModel, source_model_class=lightModel_source,\n\u001b[0m\u001b[0;32m      8\u001b[0m                            lens_light_model_class=lightModel_lens,point_source_class=pointSource, kwargs_numerics=kwargs_numerics)\n\u001b[0;32m      9\u001b[0m \u001b[1;33m\u001b[0m\u001b[0m\n",
      "\u001b[1;31mNameError\u001b[0m: name 'data' is not defined"
     ]
    }
   ],
   "source": [
    "# import the ImageModel class #\n",
    "from lenstronomy.ImSim.image_model import ImageModel\n",
    "# define the numerics #\n",
    "kwargs_numerics = {'supersampling_factor': 1, # each pixel gets super-sampled (in each axis direction) \n",
    "                  'supersampling_convolution': False}\n",
    "\n",
    "imageModel = ImageModel(data_class=data,psf_class=psf, lens_model_class=lensModel, source_model_class=lightModel_source,\n",
    "                           lens_light_model_class=lightModel_lens,point_source_class=pointSource, kwargs_numerics=kwargs_numerics)\n",
    "\n",
    "# using the parameters defined above, an image can be simulated\n",
    "\n",
    "image = imageModel.image(kwargs_lens=kwargs_lens, kwargs_source=kwargs_light_source,\n",
    "                        kwargs_lens_light=kwargs_light_lens,kwargs_ps=kwargs_ps)\n",
    "\n",
    "# we can also add noise #\n",
    "import lenstronomy.Util.image_util as image_util\n",
    "exp_time = 100  # exposure time to quantify the Poisson noise level\n",
    "background_rms = 0.1  # background rms value\n",
    "poisson = image_util.add_poisson(image, exp_time=exp_time)\n",
    "bkg = image_util.add_background(image, sigma_bkd=background_rms)\n",
    "image_noisy = image + bkg + poisson\n",
    "\n",
    "f, axes = plt.subplots(1, 2, figsize=(8, 4), sharex=False, sharey=False)\n",
    "axes[0].matshow(np.log10(image), origin='lower')\n",
    "axes[1].matshow(np.log10(image_noisy), origin='lower')\n",
    "f.tight_layout()\n",
    "plt.show()"
   ]
  },
  {
   "cell_type": "markdown",
   "metadata": {},
   "source": [
    "Sampling: https://lenstronomy.readthedocs.io/en/latest/lenstronomy.Sampling.html"
   ]
  },
  {
   "cell_type": "code",
   "execution_count": null,
   "metadata": {},
   "outputs": [],
   "source": []
  }
 ],
 "metadata": {
  "kernelspec": {
   "display_name": "Python 3",
   "language": "python",
   "name": "python3"
  },
  "language_info": {
   "codemirror_mode": {
    "name": "ipython",
    "version": 3
   },
   "file_extension": ".py",
   "mimetype": "text/x-python",
   "name": "python",
   "nbconvert_exporter": "python",
   "pygments_lexer": "ipython3",
   "version": "3.7.4"
  }
 },
 "nbformat": 4,
 "nbformat_minor": 2
}
