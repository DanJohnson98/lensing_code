{
 "cells": [
  {
   "cell_type": "markdown",
   "metadata": {
    "button": false,
    "new_sheet": false,
    "run_control": {
     "read_only": false
    }
   },
   "source": [
    "# Testing the SinglePlaneLOS() class"
   ]
  },
  {
   "cell_type": "markdown",
   "metadata": {},
   "source": [
    "This notebook aims to test the features of the line-of-sight branch of lenstronomy, which includes the SinglePlaneLOS() class and the two line-of-sight models: 'LOS' and 'LOS_MINIMAL'. In particular, we check that a lens with line-of-sight corrections is equivalent to a multi-plane lens setting."
   ]
  },
  {
   "cell_type": "markdown",
   "metadata": {},
   "source": [
    "## 1. Shared components of model setup"
   ]
  },
  {
   "cell_type": "code",
   "execution_count": 18,
   "metadata": {
    "button": false,
    "new_sheet": false,
    "run_control": {
     "read_only": false
    }
   },
   "outputs": [],
   "source": [
    "# Import of standard python libraries\n",
    "import numpy as np\n",
    "import os\n",
    "import time\n",
    "import corner\n",
    "import matplotlib.pyplot as plt\n",
    "from mpl_toolkits.axes_grid1 import make_axes_locatable\n",
    "%matplotlib inline"
   ]
  },
  {
   "cell_type": "markdown",
   "metadata": {},
   "source": [
    "### Data Parameters\n",
    "\n",
    "Here, we are setting the properties of the data and the point spread function. This characterises things which are specific to the telescope and its location (background, exposure time, number of pixels, pixel size etc), as well as the point spread function (PSF).\n",
    "\n",
    "The point spread function describes how the telescope responds to a point source. Light reaching the telescope as a single point will be spread out into an extended blob."
   ]
  },
  {
   "cell_type": "code",
   "execution_count": 19,
   "metadata": {},
   "outputs": [],
   "source": [
    "import lenstronomy.Util.simulation_util as sim_util\n",
    "from lenstronomy.Data.imaging_data import ImageData\n",
    "from lenstronomy.Data.psf import PSF\n",
    "\n",
    "# properties of the data and PSF\n",
    "\n",
    "background_rms = .00  # background noise per pixel\n",
    "exp_time = 100.  # exposure time (arbitrary units, flux per pixel is in units #photons/exp_time unit)\n",
    "numPix = 100  # cutout pixel size\n",
    "deltaPix = 0.05  # pixel size in arcsec (area per pixel = deltaPix**2)\n",
    "fwhm = 0.1  # full width half max of PSF\n",
    "\n",
    "kwargs_data = sim_util.data_configure_simple(numPix, deltaPix, exp_time, background_rms)\n",
    "\n",
    "data_class_los = ImageData(**kwargs_data)\n",
    "data_class_shears = ImageData(**kwargs_data)\n",
    "\n",
    "kwargs_psf = {'psf_type': 'GAUSSIAN', 'fwhm': fwhm, 'pixel_size': deltaPix, 'truncation': 5}\n",
    "psf_class = PSF(**kwargs_psf)"
   ]
  },
  {
   "cell_type": "markdown",
   "metadata": {},
   "source": [
    "### The Light Model\n",
    "\n",
    "Defining the light profiles for both the lens and the source. The lens is described by a spherical sersic profile, while the source is described by an elliptical sersic profile.\n",
    "\n",
    "A spherical sersic profile has the form\n",
    "\n",
    "ln I(R) = ln I_0 - kR^(1/n)\n",
    "\n",
    "the amp is the surface brightness/amplitude value at the half light radius\n",
    "\n",
    "R_sersic is the semi-major axis of the half light radius n_sersic is the Sersic index\n",
    "\n",
    "As before, we are specifying the profiles with which we want to model the light from both lens and source, and then their keyword argument\n",
    "\n",
    "*quick aside: a useful way to define ellipticities\n",
    "\n",
    "from lenstronomy.Util import param_util\n",
    "phi_G, q = 0.5, 0.8\n",
    "e1, e2 = param_util.phi_q2_ellipticity(phi_G, q)"
   ]
  },
  {
   "cell_type": "code",
   "execution_count": 20,
   "metadata": {},
   "outputs": [],
   "source": [
    "from lenstronomy.LightModel.light_model import LightModel\n",
    "\n",
    "# list of light profiles (for lens and source)\n",
    "# 'SERSIC': spherical Sersic profile\n",
    "lens_light_model_list = ['SERSIC_ELLIPSE']\n",
    "kwargs_sersic = {'amp': 3000, 'R_sersic': 1., 'n_sersic': 2, 'center_x': 0, 'center_y': 0, 'e1': -0.15, 'e2': 0.04}\n",
    "kwargs_lens_light = [kwargs_sersic]\n",
    "lens_light_model_class = LightModel(light_model_list=lens_light_model_list)\n",
    "\n",
    "# 'SERSIC_ELLIPSE': elliptical Sersic profile\n",
    "source_model_list = ['SERSIC_ELLIPSE']\n",
    "ra_source, dec_source = 0.05, 0.02\n",
    "kwargs_sersic_ellipse = {'amp': 8000., 'R_sersic': .1, 'n_sersic': 3, 'center_x': ra_source,\n",
    "                         'center_y': dec_source, 'e1': -0.1, 'e2': 0.01}\n",
    "kwargs_source = [kwargs_sersic_ellipse]\n",
    "source_model_class = LightModel(light_model_list=source_model_list)"
   ]
  },
  {
   "cell_type": "markdown",
   "metadata": {},
   "source": [
    "## 2. Setting up the lens models"
   ]
  },
  {
   "cell_type": "markdown",
   "metadata": {
    "button": false,
    "new_sheet": false,
    "run_control": {
     "read_only": false
    }
   },
   "source": [
    "### Shears Model\n",
    "\n",
    "Define a lens with line-of-sight shear using the standard approach of lenstronomy, i.e. add 3 shear planes to the main lens, here modelled as an elliptical power law (EPL)."
   ]
  },
  {
   "cell_type": "code",
   "execution_count": 21,
   "metadata": {},
   "outputs": [],
   "source": [
    "lens_model_list_shears = ['EPL', 'SHEAR', 'SHEAR', 'SHEAR']\n",
    "\n",
    "# Parameters of the main lens\n",
    "# We define its centre as the line of sight\n",
    "kwargs_epl = {'theta_E': 0.8,\n",
    "               'gamma': 1.95,\n",
    "               'center_x': 0,\n",
    "               'center_y': 0,\n",
    "               'e1': .07,\n",
    "               'e2': -0.03}\n",
    "\n",
    "# LOS (linear) shears\n",
    "gamma_od = np.array([0.05, -0.1])\n",
    "gamma_os = np.array([0.02, 0.1])\n",
    "gamma_ds = np.array([0., 0.03])\n",
    "\n",
    "# Cosmology (we need it for the distances that are involved in the relations between shears above)\n",
    "from astropy.cosmology import default_cosmology\n",
    "cosmo = default_cosmology.get()\n",
    "\n",
    "# Lensing setup to generate the 'true' (mock) image:\n",
    "# a main lens (EPL) and three shear planes\n",
    "z_s = 2\n",
    "z_d = 0.5 # redshift of dominant lens\n",
    "z_f = z_d/2 # redshift of foreground shear plane\n",
    "z_b = (z_s + z_d)/2 # redshift of background shear plane\n",
    "lens_redshift_list_shear = [z_d, z_f, z_d, z_b]\n",
    "\n",
    "# Convert line-of-sight shears into lenstronomy shears\n",
    "gamma_f = gamma_od*(\n",
    "    cosmo.angular_diameter_distance_z1z2(0, z_d)\n",
    "    * cosmo.angular_diameter_distance_z1z2(z_f, z_s)\n",
    "    / cosmo.angular_diameter_distance_z1z2(0, z_s)\n",
    "    / cosmo.angular_diameter_distance_z1z2(z_f, z_d))\n",
    "gamma_b = gamma_ds*(\n",
    "    cosmo.angular_diameter_distance_z1z2(0, z_b)\n",
    "    * cosmo.angular_diameter_distance_z1z2(z_d, z_s)\n",
    "    / cosmo.angular_diameter_distance_z1z2(0, z_s)\n",
    "    / cosmo.angular_diameter_distance_z1z2(z_d, z_b))\n",
    "gamma_d = gamma_os - gamma_f - gamma_b\n",
    "           \n",
    "kwargs_gamma_f = {'gamma1': float(gamma_f[0]), 'gamma2': float(gamma_f[1])}\n",
    "kwargs_gamma_d = {'gamma1': float(gamma_d[0]), 'gamma2': float(gamma_d[1])}\n",
    "kwargs_gamma_b = {'gamma1': float(gamma_b[0]), 'gamma2': float(gamma_b[1])}\n",
    "# I used float() here because otherwise astropy complains about units\n",
    "\n",
    "# Generate the complete lens model\n",
    "kwargs_lens_shears = [kwargs_epl,\n",
    "                      kwargs_gamma_f,\n",
    "                      kwargs_gamma_d,\n",
    "                      kwargs_gamma_b]\n",
    "from lenstronomy.LensModel.lens_model import LensModel\n",
    "lens_model_class_shears = LensModel(\n",
    "    lens_model_list_shears,\n",
    "    lens_redshift_list=lens_redshift_list_shear,\n",
    "    z_lens=z_d,\n",
    "    z_source=z_s,\n",
    "    multi_plane=True)"
   ]
  },
  {
   "cell_type": "markdown",
   "metadata": {
    "button": false,
    "new_sheet": false,
    "run_control": {
     "read_only": false
    }
   },
   "source": [
    "### LOS Model\n",
    "\n",
    "Define an EPL with line-of-sight shear corrections."
   ]
  },
  {
   "cell_type": "markdown",
   "metadata": {},
   "source": [
    "<div class=\"alert alert-block alert-info\">\n",
    "    \n",
    "Importantly, in the EPL + 3 shear planes defined above, there are non-linear couplings between the shear planes which lead effectively to second-order convergence and rotation terms in the line-of-sight corrections. These must be taken into account.\n",
    "    \n",
    "Let's call $\\boldsymbol{\\Gamma}_f, \\boldsymbol{\\Gamma}_d, \\boldsymbol{\\Gamma}_b$ the three shear matrices in the foreground, dominant, and background planes. The exact displacement angle in that case reads\n",
    "$$\n",
    "\\boldsymbol{\\alpha}(\\boldsymbol{\\theta})\n",
    "=\n",
    "\\boldsymbol{\\Gamma}_{os}\\boldsymbol{\\theta}\n",
    "+ (1-\\boldsymbol{\\Gamma}_{ds})\n",
    "    \\boldsymbol{\\alpha}_{ods}[(1-\\boldsymbol{\\Gamma}_{od})\\boldsymbol{\\theta}]\n",
    "$$\n",
    "with\n",
    "\\begin{align}\n",
    "\\boldsymbol{\\Gamma}_{od}\n",
    "&= \\boldsymbol{\\Gamma}_{ofd}\n",
    "= \\frac{D_{fd}D_{os}}{D_{od}D_{fs}} \\boldsymbol{\\Gamma}_{f}\n",
    "\\\\\n",
    "\\boldsymbol{\\Gamma}_{ds}\n",
    "&= \\boldsymbol{\\Gamma}_{dbs}\n",
    "= \\frac{D_{os}D_{db}}{D_{ob}D_{ds}} \\boldsymbol{\\Gamma}_{b}\n",
    "\\\\\n",
    "\\boldsymbol{\\Gamma}_{os}\n",
    "&= \\boldsymbol{\\Gamma}_{f} + \\boldsymbol{\\Gamma}_{d} + \\boldsymbol{\\Gamma}_{b}\n",
    "    - \\left[\n",
    "        \\boldsymbol{\\Gamma}_{d} \\boldsymbol{\\Gamma}_{od}\n",
    "        + \\boldsymbol{\\Gamma}_{b} \\boldsymbol{\\Gamma}_{ofb}\n",
    "        + \\boldsymbol{\\Gamma}_{b} \\boldsymbol{\\Gamma}_{odb} (1-\\boldsymbol{\\Gamma}_{od})\n",
    "        \\right]\n",
    "\\end{align}"
   ]
  },
  {
   "cell_type": "code",
   "execution_count": 22,
   "metadata": {
    "button": false,
    "new_sheet": false,
    "run_control": {
     "read_only": false
    }
   },
   "outputs": [
    {
     "name": "stdout",
     "output_type": "stream",
     "text": [
      "------\n",
      "For reference, the non-linear convergence and rotation are:\n",
      "kappa_os = 0.02571553336450699\n",
      "omega_os = -0.006100000000000001\n",
      "while the non-linear corrections to the shear are:\n",
      "gamma_os - (gamma_f + gamma_d + gamma_b) = [ 0.00015415 -0.00080625]\n",
      "------\n",
      "Adding LOS to the main lens.\n"
     ]
    }
   ],
   "source": [
    "lens_model_list_los = ['EPL', 'LOS']\n",
    "\n",
    "# The (od) and (ds) corrections are the ones that we have entered first:\n",
    "kwargs_los = {\n",
    "    'kappa_od': 0, 'kappa_ds': 0,\n",
    "    'omega_od': 0, 'omega_ds': 0,\n",
    "    'gamma1_od': gamma_od[0], 'gamma2_od': gamma_od[1],\n",
    "    'gamma1_ds': gamma_ds[0], 'gamma2_ds': gamma_ds[1]}\n",
    "\n",
    "# but the (os) perturbations are affected by non-linear couplings\n",
    "Id = np.array([[1, 0],\n",
    "               [0, 1]])\n",
    "Gamma_f = np.array([[float(gamma_f[0]), float(gamma_f[1])],\n",
    "                    [float(gamma_f[1]), -float(gamma_f[0])]])\n",
    "Gamma_d = np.array([[float(gamma_d[0]), float(gamma_d[1])],\n",
    "                    [float(gamma_d[1]), -float(gamma_d[0])]])\n",
    "Gamma_b = np.array([[float(gamma_b[0]), float(gamma_b[1])],\n",
    "                    [float(gamma_b[1]), -float(gamma_b[0])]])\n",
    "Gamma_od = np.array([[gamma_od[0], gamma_od[1]],\n",
    "                     [gamma_od[1], -gamma_od[0]]])\n",
    "Gamma_ofb = float(cosmo.angular_diameter_distance_z1z2(0, z_s)\n",
    "                 * cosmo.angular_diameter_distance_z1z2(z_f, z_b)\n",
    "                 / cosmo.angular_diameter_distance_z1z2(0, z_b)\n",
    "                 / cosmo.angular_diameter_distance_z1z2(z_f, z_s)) * np.array(Gamma_f)\n",
    "Gamma_odb = float(cosmo.angular_diameter_distance_z1z2(0, z_s)\n",
    "                 * cosmo.angular_diameter_distance_z1z2(z_d, z_b)\n",
    "                 / cosmo.angular_diameter_distance_z1z2(0, z_b)\n",
    "                 / cosmo.angular_diameter_distance_z1z2(z_d, z_s)) * np.array(Gamma_d)\n",
    "\n",
    "Gamma_os = (Gamma_f + Gamma_d + Gamma_b\n",
    "            - np.matmul(Gamma_d, Gamma_od)\n",
    "            - np.matmul(Gamma_b, Gamma_ofb + np.matmul(Gamma_odb, Id - Gamma_od))\n",
    "           )\n",
    "\n",
    "kappa_os = (Gamma_os[0,0] + Gamma_os[1,1]) / 2\n",
    "gamma1_os = (Gamma_os[0,0] - Gamma_os[1,1]) / 2\n",
    "gamma2_os = (Gamma_os[0,1] + Gamma_os[1,0]) / 2\n",
    "omega_os = (Gamma_os[1,0] - Gamma_os[0,1]) / 2\n",
    "\n",
    "kwargs_los.update({'kappa_os': 0, 'omega_os': 0,\n",
    "                   'gamma1_os': float(gamma_os[0]), 'gamma2_os': float(gamma_os[1])})\n",
    "\n",
    "kwargs_los.update({'kappa_os': kappa_os, 'omega_os': omega_os,\n",
    "                   'gamma1_os': gamma1_os, 'gamma2_os': gamma2_os})\n",
    "\n",
    "print(\"\"\"------\n",
    "For reference, the non-linear convergence and rotation are:\n",
    "kappa_os = {}\n",
    "omega_os = {}\n",
    "while the non-linear corrections to the shear are:\n",
    "gamma_os - (gamma_f + gamma_d + gamma_b) = {}\n",
    "------\"\"\".format(\n",
    "    kappa_os, omega_os,\n",
    "    np.array([gamma1_os, gamma2_os]) - gamma_f - gamma_d - gamma_b))\n",
    "\n",
    "# Generate the full model\n",
    "kwargs_lens_los = [kwargs_epl, kwargs_los]\n",
    "from lenstronomy.LensModel.lens_model import LensModel\n",
    "lens_model_class_los = LensModel(lens_model_list_los,\n",
    "    z_lens=z_d,\n",
    "    z_source=z_s)"
   ]
  },
  {
   "cell_type": "markdown",
   "metadata": {},
   "source": [
    "## 3. Test of the ray-shooting function\n",
    "\n",
    "I've kept the ray-shooting and Hessian tests just as confirmation that my lens models are in fact initialised correctly"
   ]
  },
  {
   "cell_type": "code",
   "execution_count": 23,
   "metadata": {
    "button": false,
    "new_sheet": false,
    "run_control": {
     "read_only": false
    }
   },
   "outputs": [
    {
     "name": "stdout",
     "output_type": "stream",
     "text": [
      "\n",
      "For a list of images with coordinates:\n",
      "x = [3]\n",
      "y = [2]\n",
      "The sources computed with multi-plane lensing are:\n",
      "beta_x = [2.01372567]\n",
      "beta_y = [1.15719699]\n",
      "and the ones from a single plane with LOS corrections are:\n",
      "beta_x = [2.01372567]\n",
      "beta_y = [1.15719699]\n",
      "\n",
      "The difference is:\n",
      "delta beta_x = [-4.4408921e-16]\n",
      "delta beta_y = [-2.22044605e-16]\n",
      "\n"
     ]
    }
   ],
   "source": [
    "# List of positions in the image plane\n",
    "x, y = np.array([3,4,5]), np.array([2,1,0])\n",
    "x, y = np.array([3]), np.array([2])\n",
    "\n",
    "# Apply ray shooting to get the associated sources\n",
    "beta_x_shears, beta_y_shears = lens_model_class_shears.ray_shooting(x, y, kwargs_lens_shears)\n",
    "beta_x_los, beta_y_los = lens_model_class_los.ray_shooting(x, y, kwargs_lens_los)\n",
    "\n",
    "print(\"\"\"\n",
    "For a list of images with coordinates:\n",
    "x = {}\n",
    "y = {}\n",
    "The sources computed with multi-plane lensing are:\n",
    "beta_x = {}\n",
    "beta_y = {}\n",
    "and the ones from a single plane with LOS corrections are:\n",
    "beta_x = {}\n",
    "beta_y = {}\n",
    "\n",
    "The difference is:\n",
    "delta beta_x = {}\n",
    "delta beta_y = {}\n",
    "\"\"\".format(x, y, beta_x_shears, beta_y_shears, beta_x_los, beta_y_los,\n",
    "           beta_x_shears - beta_x_los, beta_y_shears - beta_y_los\n",
    "))"
   ]
  },
  {
   "cell_type": "markdown",
   "metadata": {},
   "source": [
    "The difference is thus machine-precision level."
   ]
  },
  {
   "cell_type": "markdown",
   "metadata": {},
   "source": [
    "## 4. Test of the Hessian matrix function"
   ]
  },
  {
   "cell_type": "code",
   "execution_count": 24,
   "metadata": {
    "button": false,
    "new_sheet": false,
    "run_control": {
     "read_only": false
    }
   },
   "outputs": [
    {
     "name": "stdout",
     "output_type": "stream",
     "text": [
      "\n",
      "For a list of images with coordinates:\n",
      "x = [3 4 5]\n",
      "y = [2 1 0]\n",
      "The Hessian matrices computed with multi-plane lensing are:\n",
      "H_xx = [0.12383605 0.07363234 0.05429661]\n",
      "H_xy = [0.00429612 0.03318208 0.08036052]\n",
      "H_yx = [0.00902487 0.0481959  0.09400629]\n",
      "H_yy = [0.14547454 0.20085891 0.20657697]\n",
      "and the ones from a single plane with LOS corrections are:\n",
      "H_xx = [0.12383607 0.07363238 0.05429655]\n",
      "H_xy = [0.00429611 0.0331821  0.08036043]\n",
      "H_yx = [0.00902492 0.04819587 0.0940063 ]\n",
      "H_yy = [0.14547461 0.2008589  0.20657696]\n",
      "\n",
      "The difference is:\n",
      "delta H_xx = [-1.63872994e-08 -3.39644950e-08  5.69407330e-08]\n",
      "delta H_xy = [ 5.17911217e-09 -1.58417897e-08  9.10747397e-08]\n",
      "delta H_yx = [-5.02853696e-08  3.67822338e-08 -4.05713098e-09]\n",
      "delta H_yy = [-6.63006960e-08  1.19082240e-08  7.69328762e-09]\n",
      "\n"
     ]
    }
   ],
   "source": [
    "# List of positions in the image plane\n",
    "x, y = np.array([3,4,5]), np.array([2,1,0])\n",
    "\n",
    "# Apply the Hessian matrix\n",
    "H_xx_shears, H_xy_shears, H_yx_shears, H_yy_shears = lens_model_class_shears.hessian(x, y, kwargs_lens_shears)\n",
    "H_xx_los, H_xy_los, H_yx_los, H_yy_los = lens_model_class_los.hessian(x, y, kwargs_lens_los)\n",
    "\n",
    "print(\"\"\"\n",
    "For a list of images with coordinates:\n",
    "x = {}\n",
    "y = {}\n",
    "The Hessian matrices computed with multi-plane lensing are:\n",
    "H_xx = {}\n",
    "H_xy = {}\n",
    "H_yx = {}\n",
    "H_yy = {}\n",
    "and the ones from a single plane with LOS corrections are:\n",
    "H_xx = {}\n",
    "H_xy = {}\n",
    "H_yx = {}\n",
    "H_yy = {}\n",
    "\n",
    "The difference is:\n",
    "delta H_xx = {}\n",
    "delta H_xy = {}\n",
    "delta H_yx = {}\n",
    "delta H_yy = {}\n",
    "\"\"\".format(x, y,\n",
    "           H_xx_shears, H_xy_shears, H_yx_shears, H_yy_shears,\n",
    "           H_xx_los, H_xy_los, H_yx_los, H_yy_los,\n",
    "           H_xx_shears - H_xx_los, H_xy_shears - H_xy_los,\n",
    "           H_yx_shears - H_yx_los, H_yy_shears - H_yy_los\n",
    "))"
   ]
  },
  {
   "cell_type": "markdown",
   "metadata": {},
   "source": [
    "The difference is slightly larger than in the ray-shooting case, but still very small."
   ]
  },
  {
   "cell_type": "markdown",
   "metadata": {},
   "source": [
    "## 5. Test of the Fermat Potential and Time Delays"
   ]
  },
  {
   "cell_type": "markdown",
   "metadata": {},
   "source": [
    "### Solving the Lens Equation\n",
    "\n",
    "The LensEquationSolver class allows image positions to be determined from a given lens model and source position. \n",
    "\n",
    "Here, we specifically use the \"**FindBrightImage**\" function. This follows the \"image_position_from_source\", which finds the image positions in the lens plane that are mapped to a given source position. \n",
    "\n",
    "**image_position_from_source** takes in the source position, lens keywords and the type of solver as arguments. In this case, this is left to the default which is described as follows\n",
    "\n",
    "*The solver first samples does a grid search in the lens plane, and the grid points that are closest to the supplied source position are fed to a specialized gradient-based root finder that finds the exact solutions. Works with all lens models.\n",
    "\n",
    "What **FindBrightImage** does, however, is to carry out this calculation to determine the angular positions of the (potentially multiple) images. The magniications of these images are then calculated and used to rank the images by decreasing images. The selectBest function from util is then used to identify the specified number of images with the highest magnifications. \n",
    "\n",
    "*Note, FindBrightImage could also be used to select images with the highest Fermat potential\n",
    "\n",
    "In this case, we want to identify the 4 images with the highest magnifications"
   ]
  },
  {
   "cell_type": "code",
   "execution_count": 27,
   "metadata": {},
   "outputs": [
    {
     "name": "stdout",
     "output_type": "stream",
     "text": [
      "\n",
      "For a source with coordinates:\n",
      "beta_x = 0.05\n",
      "beta_y = 0.02\n",
      "The image positions computed with multi-plane lensing are:\n",
      "theta_x = [ 0.62566472 -0.41057627  0.58696047 -0.65282766]\n",
      "theta_y = [ 0.73020599 -0.73823951 -0.50705019  0.31286012]\n",
      "and the ones from a single plane with LOS corrections are:\n",
      "theta_x = [ 0.62566472 -0.41057627  0.58696047 -0.65282766]\n",
      "theta_y = [ 0.73020599 -0.73823951 -0.50705019  0.31286012]\n",
      "\n",
      "The difference is:\n",
      "delta theta_x = [ 2.22044605e-16 -4.99600361e-16  1.11022302e-16 -3.33066907e-16]\n",
      "delta theta_y = [3.33066907e-16 1.11022302e-16 0.00000000e+00 1.66533454e-16]\n",
      "\n"
     ]
    }
   ],
   "source": [
    "from lenstronomy.LensModel.Solver.lens_equation_solver import LensEquationSolver\n",
    "\n",
    "lensEquationSolver_shears = LensEquationSolver(lens_model_class_shears)\n",
    "x_image_shears, y_image_shears = lensEquationSolver_shears.findBrightImage(ra_source, dec_source, kwargs_lens_shears, numImages=4,\n",
    "                                                      min_distance=deltaPix, search_window=numPix * deltaPix)\n",
    "\n",
    "lensEquationSolver_los = LensEquationSolver(lens_model_class_los)\n",
    "x_image_los, y_image_los = lensEquationSolver_los.findBrightImage(ra_source, dec_source, kwargs_lens_los, numImages=4,\n",
    "                                                      min_distance=deltaPix, search_window=numPix * deltaPix)\n",
    "\n",
    "print(\"\"\"\n",
    "For a source with coordinates:\n",
    "beta_x = {}\n",
    "beta_y = {}\n",
    "The image positions computed with multi-plane lensing are:\n",
    "theta_x = {}\n",
    "theta_y = {}\n",
    "and the ones from a single plane with LOS corrections are:\n",
    "theta_x = {}\n",
    "theta_y = {}\n",
    "\n",
    "The difference is:\n",
    "delta theta_x = {}\n",
    "delta theta_y = {}\n",
    "\"\"\".format(ra_source, dec_source,\n",
    "           x_image_shears, y_image_shears,\n",
    "           x_image_los, y_image_los,\n",
    "           x_image_shears - x_image_los, y_image_shears - y_image_los\n",
    "))"
   ]
  },
  {
   "cell_type": "markdown",
   "metadata": {},
   "source": [
    "### Computing Magnifications\n",
    "\n",
    "To calculate the magnifications of the images, we use lens_model_class.magnification, and input the 4 image positions as arguments, as well as the lens keyword arguments. \n",
    "\n",
    "Normally, we would then take the absolute values of these, and perturb them using np.random.normal. These perturbations could result from micro-lensing effects, for example. The first input is the centre of the normal distribution, the second is the standard deviation, and the third is the output shape (we want as many outputs as there are inputs here).\n",
    "\n",
    "However, in this case, because I want an exact comparison, I don't perturb the magnifications\n"
   ]
  },
  {
   "cell_type": "code",
   "execution_count": 28,
   "metadata": {},
   "outputs": [
    {
     "name": "stdout",
     "output_type": "stream",
     "text": [
      "\n",
      "For a list of images with coordinates:\n",
      "x = [ 0.62566472 -0.41057627  0.58696047 -0.65282766]\n",
      "y = [ 0.73020599 -0.73823951 -0.50705019  0.31286012]\n",
      "\n",
      "The magnitudes computed with multi-plane lensing are:\n",
      "mag_shears = [2.979512   3.77817564 2.54237915 1.97333665]\n",
      "\n",
      "and the ones from a single plane with LOS corrections are:\n",
      "mag_los = [2.97951179 3.77817552 2.54237913 1.97333664]\n",
      "\n",
      "The differences are:\n",
      "delta_mag = [2.09177726e-07 1.15335019e-07 2.34974875e-08 1.51575925e-08]\n",
      "\n"
     ]
    }
   ],
   "source": [
    "# compute lensing magnification at image positions\n",
    "\n",
    "mag_shears = lens_model_class_shears.magnification(x_image_shears, y_image_shears, kwargs=kwargs_lens_shears)\n",
    "mag_shears = np.abs(mag_shears)  # ignore the sign of the magnification\n",
    "\n",
    "mag_los = lens_model_class_los.magnification(x_image_los, y_image_los, kwargs=kwargs_lens_los)\n",
    "mag_los = np.abs(mag_los)  # ignore the sign of the magnification\n",
    "\n",
    "print(\"\"\"\n",
    "For a list of images with coordinates:\n",
    "x = {}\n",
    "y = {}\n",
    "\n",
    "The magnitudes computed with multi-plane lensing are:\n",
    "mag_shears = {}\n",
    "\n",
    "and the ones from a single plane with LOS corrections are:\n",
    "mag_los = {}\n",
    "\n",
    "The differences are:\n",
    "delta_mag = {}\n",
    "\"\"\".format(x_image_shears, y_image_shears,\n",
    "           mag_shears,\n",
    "           mag_los,\n",
    "           mag_shears - mag_los\n",
    "))"
   ]
  },
  {
   "cell_type": "markdown",
   "metadata": {},
   "source": [
    "The differences are slightly larger than in the case of the Hessian matrices, but still close agreement"
   ]
  },
  {
   "cell_type": "markdown",
   "metadata": {},
   "source": [
    "### Setting up the PointSource class\n",
    "\n",
    "The magnitudes outputted from lens_model_class.magnification must be multiplied by the intrinsic quasar brightness in counts per second (which is taken to be 100) to give the point source amplitude.\n",
    "\n",
    "We use the lensed positions as the inputs for point source, as well as the point_amp.\n",
    "\n",
    "As we have the positions of our 4 lensed objects, we use 'Lensed_Position' as the point source type. Because of this, we set the fixed magnification list to false."
   ]
  },
  {
   "cell_type": "code",
   "execution_count": 29,
   "metadata": {},
   "outputs": [],
   "source": [
    "from lenstronomy.PointSource.point_source import PointSource\n",
    "\n",
    "point_amp_shears = mag_shears * 100  # multiply by intrinsic quasar brightness (in counts/s)\n",
    "kwargs_ps_shears = [{'ra_image': x_image_shears, 'dec_image': y_image_shears,\n",
    "                           'point_amp': point_amp_shears}]  # quasar point source position in the lens plane and intrinsic brightness\n",
    "\n",
    "\n",
    "point_amp_los = mag_los * 100  # multiply by intrinsic quasar brightness (in counts/s)\n",
    "kwargs_ps_los = [{'ra_image': x_image_los, 'dec_image': y_image_los,\n",
    "                           'point_amp': point_amp_los}]  # quasar point source position in the lens plane and intrinsic brightness\n",
    "\n",
    "point_source_list = ['LENSED_POSITION']\n",
    "point_source_class = PointSource(point_source_type_list=point_source_list, fixed_magnification_list=[False])"
   ]
  },
  {
   "cell_type": "markdown",
   "metadata": {},
   "source": [
    "## Creating the Image\n",
    "\n",
    "We now have all the ingredients we need to simulate and plot the actual image. \n",
    "\n",
    "Firstly, we must define the numerics keyword arguments. These choices seem to be pretty standard.\n",
    "\n",
    "The image model must be given all of the classes (data, psf, lens_model, source_model, lens_light_model, point_source), and the numerics kwargs.  Then the image is found by calling imageModel.image, and giving the lens, source, lens_light and point source kwargs,\n",
    "\n",
    "After this has been done, add_poisson from image_util is used to add a Poissonian distributed noise. All the arguments that this needs is the simulated image and the exposure time as arguments. This gives noise values for each pixel, which is calculated as a randomly-sampled value from the normal value, multiplied by the square root of the image value over the exposure time. \n",
    "\n",
    "A background is also added using add_background from image_util, which adds background noise. Essentially, each pixel gains a background value, drawn from the normal distribution with centre 0, and multiplied by the rms value of the background (inputted earlier when defining the data).\n",
    "\n",
    "The final image is then created by adding the background and poisson noise of each pixel to the simulated image.\n",
    "\n",
    "*However, once again I omit these step, so that an exact comparison can be done.*\n",
    "\n",
    "The image_data component of the data class kwargs is then updated to be this simulated image. Previously, it was simply np.zeros((numPix,numPix)).\n",
    "\n",
    "The image is then plotted."
   ]
  },
  {
   "cell_type": "code",
   "execution_count": 30,
   "metadata": {},
   "outputs": [
    {
     "name": "stdout",
     "output_type": "stream",
     "text": [
      "\n",
      "shears\n"
     ]
    },
    {
     "data": {
      "image/png": "[encoded data removed]",
      "text/plain": [
       "<Figure size 432x432 with 1 Axes>"
      ]
     },
     "metadata": {
      "needs_background": "light"
     },
     "output_type": "display_data"
    },
    {
     "name": "stdout",
     "output_type": "stream",
     "text": [
      "\n",
      "los\n"
     ]
    },
    {
     "data": {
      "image/png": "[encoded data removed]",
      "text/plain": [
       "<Figure size 432x432 with 1 Axes>"
      ]
     },
     "metadata": {
      "needs_background": "light"
     },
     "output_type": "display_data"
    }
   ],
   "source": [
    "from lenstronomy.ImSim.image_model import ImageModel\n",
    "\n",
    "kwargs_numerics = {'supersampling_factor': 1, 'supersampling_convolution': False}\n",
    "\n",
    "cmap_string = 'gray'\n",
    "cmap = plt.get_cmap(cmap_string)\n",
    "cmap.set_bad(color='k', alpha=1.)\n",
    "cmap.set_under('k')\n",
    "\n",
    "v_min = -4\n",
    "v_max = 2\n",
    "\n",
    "print('')\n",
    "print('shears')\n",
    "\n",
    "imageModel_shears = ImageModel(data_class_shears, psf_class, lens_model_class_shears, source_model_class,\n",
    "                                lens_light_model_class,\n",
    "                                point_source_class, kwargs_numerics=kwargs_numerics)\n",
    "image_sim_shears = imageModel_shears.image(kwargs_lens_shears, kwargs_source, kwargs_lens_light, kwargs_ps_shears)\n",
    "kwargs_data['image_data'] = image_sim_shears\n",
    "data_class_shears.update_data(image_sim_shears)\n",
    "\n",
    "kwargs_model_shears = {'lens_model_list': lens_model_list_shears, \n",
    "                 'lens_light_model_list': lens_light_model_list,\n",
    "                 'source_light_model_list': source_model_list,\n",
    "                'point_source_model_list': point_source_list\n",
    "                 }\n",
    "\n",
    "f, axes = plt.subplots(1, 1, figsize=(6, 6), sharex=False, sharey=False)\n",
    "ax = axes\n",
    "im = ax.matshow(np.log10(image_sim_shears), origin='lower', vmin=v_min, vmax=v_max, cmap=cmap, extent=[0, 0.2, 0, 0.2])\n",
    "plt.show()\n",
    "\n",
    "print('')\n",
    "print('los')\n",
    "\n",
    "imageModel_los = ImageModel(data_class_los, psf_class, lens_model_class_los, source_model_class,\n",
    "                                lens_light_model_class,\n",
    "                                point_source_class, kwargs_numerics=kwargs_numerics)\n",
    "image_sim_los = imageModel_los.image(kwargs_lens_los, kwargs_source, kwargs_lens_light, kwargs_ps_los)\n",
    "kwargs_data['image_data'] = image_sim_los\n",
    "data_class_los.update_data(image_sim_los)\n",
    "\n",
    "kwargs_model_los = {'lens_model_list': lens_model_list_los, \n",
    "                 'lens_light_model_list': lens_light_model_list,\n",
    "                 'source_light_model_list': source_model_list,\n",
    "                'point_source_model_list': point_source_list\n",
    "                 }\n",
    "\n",
    "f, axes = plt.subplots(1, 1, figsize=(6, 6), sharex=False, sharey=False)\n",
    "ax = axes\n",
    "im = ax.matshow(np.log10(image_sim_los), origin='lower', vmin=v_min, vmax=v_max, cmap=cmap, extent=[0, 0.2, 0, 0.2])\n",
    "plt.show()"
   ]
  },
  {
   "cell_type": "markdown",
   "metadata": {},
   "source": [
    "If I additionally plot the top image - the bottom image, there are no visible differences"
   ]
  },
  {
   "cell_type": "markdown",
   "metadata": {},
   "source": [
    "# Fermat Potential and Time Delays\n",
    "\n",
    "## Time Delays\n",
    "\n",
    "time delays are defined in lenstronomy as the difference in light travel path relative to a straight line. Negative values correspond to earlier arrival times. \n",
    "\n",
    "There are two quantities relevant for time delays. The first is the Fermat potential in arcsec^2, which is independent of the cosmology. Lens_model will look for either the fermat_potential function of the specific lens model, which usually falls to the single_plane class for single plane lensing, or multi_plane for multi_plane lensing, or alternatively is calculated from the arrival time by dividing this by the time delay distance. If the lens model has neither a fermat potential or an arrival time, lens model will return an error.\n",
    "\n",
    "### Fermat Potential\n",
    "\n",
    "The fermat potential can also be calculated using the TDCosmography class. It seems the main difference is that the lens_model calculation takes specific image plane coordinates and returns the fermat potential at that point, while TD cosmography instead takes the point source kwargs as input, and then calculates the fermat potential of each of these point sources. \n",
    "\n",
    "tdcosmo.fermat_potential works as follows: \n",
    "\n",
    "1. Firstly, it obtains the image positions from the point source class. if the point source class uses 'LENSED_POSITIONS', then the point source class will already have the image positions, and so these are returned. If, however, the source position/s are used, then the point source class will use the model to map this to the image plane.\n",
    "\n",
    "2. Next, it uses the ray_shooting function from the lens model to trace the positions of these images back to their source. If they don't trace back to the same source, then an error is returned. If, however, they trace back to a point which is sufficiently close, then the source position is taken to be the mean value of these calculated source positions\n",
    "\n",
    "3. The image positions, source position and lens kwargs are then inputted into the lens model fermat potential, which calculates and returns the fermat potential as normal\n",
    "\n",
    "**An important note. Usually, the Fermat potential is calculated as a geometric term (related to alpha) minus a potential term. The reason the source position is needed is that alpha is not calculated using the lens model, but instead as the image position minus the source position. In the case of LOS, alpha instead comes from the lens model, as it's the effective displacement angle and a shear matrix which combine to give the geometric term. However, in order for things to work smoothly, I have left the source position inputs in my Fermat potential function, even though they don't go into the calculations at all.**\n",
    "\n",
    "Now, what I have edited is the Fermat potential in single_plane_los, which is then used by either the lens model or TD Cosmo to obtain the potential. Since all of the relevant calculations make use of the lens model, both classes return the desired Fermat potential.\n",
    "\n",
    "### Arrival Times\n",
    "\n",
    "The Fermat Potential is calculated in units of arcsec^2, and requires no knowledge of the redshifts or cosmology. However, these quantities become relevant when calculating the arrival times (once again, relative to a straight line) in units of days.\n",
    "\n",
    "When this done using lens_model, the arrival_time function will first check if the lens model itself has a function for calculating the arrival time. If it does, then this will be prioritised. If not, the fermat potential will be calculated, and then the code will check if a cosmology has been specified (and return an error if it has not). The arrival time is then calculated by converting the fermat potential from units of arcsec^2 to units of days, using the lensCosmo.time_delay_units function. This function essentially just multiplies the fermat potential by the time delay distance, which depends on the cosmology via the angular diameter distances, and also features the redshift of the lens (see eq. 2.47). \n",
    "\n",
    "When this is done using TD Cosmography, the fermat potential is first calculated (using tdcosmo.fermat_potential), and then the same lensCosmo.time_delay_units function is used to convert this into days. \n",
    "\n",
    "### TD Cosmo vs Lens Model\n",
    "\n",
    "The main difference between TD Cosmo and Lens Model is that TD Cosmo allows for the use of velocity dispersion information to constrain the time delay fitting, while Lens Model does not. However, TD Cosmo does not seem to be well-designed to handle multi plane lensing.\n",
    "\n",
    "Since the time delay constant is the same with LOS effects, the arrival time function need not be changed.\n"
   ]
  },
  {
   "cell_type": "markdown",
   "metadata": {},
   "source": [
    "## How my function works\n",
    "\n",
    "I've made edits in single_plane_los\n",
    "\n",
    "### Edits to single_plane_los\n",
    "\n",
    "Within the single_plane_los code, I introduced the **fermat_potential** function\n",
    "\n",
    "This takes a lens-plane position $\\boldsymbol{\\theta}$ as an input, and calculates the Fermat potential at this point, according to\n",
    "\n",
    "$T(\\boldsymbol{\\theta})=\\frac{1}{2}\\boldsymbol{\\alpha}'(\\boldsymbol{\\theta})\\cdot\\mathcal{A}_{{\\rm LOS}}\\boldsymbol{\\alpha}'(\\boldsymbol{\\theta})-\\psi_{{\\rm eff}}(\\boldsymbol{\\theta})$\n",
    "\n",
    "with\n",
    "\n",
    "$\\boldsymbol{\\alpha}'(\\boldsymbol{\\theta}) = \\boldsymbol{\\theta}-\\mathcal{A}_{os}^{-1}\\boldsymbol{\\beta}$\n",
    "\n",
    "$\\psi_{{\\rm eff}}(\\boldsymbol{\\theta}) \\equiv \\psi_{ods}[(1-\\boldsymbol{\\Gamma}_{od})\\boldsymbol{\\theta}]$  \n",
    "\n",
    "$\\mathcal{A}_{{\\rm LOS}} = \\mathcal{A}_{od}^{T}\\mathcal{A}_{ds}^{-1}\\mathcal{A}_{os}$\n",
    "\n",
    "1. The `kwargs` are split according to \n",
    "\n",
    "`kwargs_dominant, kwargs_los = self.split_lens_los(kwargs_lens)`\n",
    "\n",
    "2. the amplification matrices are determined according to \n",
    "\n",
    "`A_od = np.array([[1-kwargs_los['kappa_od']-kwargs_los['gamma1_od'],-kwargs_los['gamma2_od']+kwargs_los['omega_od']],[-kwargs_los['gamma2_od']-kwargs_los['omega_od'],1-kwargs_los['kappa_od']+kwargs_los['gamma1_od']]])`\n",
    "\n",
    "`A_os = np.array([[1-kwargs_los['kappa_os']-kwargs_los['gamma1_os'],-kwargs_los['gamma2_os']+kwargs_los['omega_os']],[-kwargs_los['gamma2_os']-kwargs_los['omega_os'],1-kwargs_los['kappa_os']+kwargs_los['gamma1_os']]])`\n",
    "\n",
    "`A_ds = np.array([[1-kwargs_los['kappa_ds']-kwargs_los['gamma1_ds'],-kwargs_los['gamma2_ds']+kwargs_los['omega_ds']],[-kwargs_los['gamma2_ds']-kwargs_los['omega_ds'],1-kwargs_los['kappa_ds']+kwargs_los['gamma1_ds']]])`\n",
    "\n",
    "3. the transformed versions of these matrices which are necessary for subsequent calculations are then determined, according to\n",
    "\n",
    "`A_od_tsp = np.transpose(A_od)\n",
    "A_ds_inv = np.linalg.inv(A_ds)\n",
    "A_os_inv = np.linalg.inv(A_os)`\n",
    "\n",
    "4. The composite amplification matrices needed for subsequent calculations are determined, according to\n",
    "\n",
    "`A_LOS = np.dot(np.dot(A_od_tsp,A_ds_inv),A_os)\n",
    "A_prime = np.dot(A_os_inv,A_ds)`\n",
    "        \n",
    "5. The angular position where the ray hits the deflector plane, $(1-\\boldsymbol{\\Gamma}_{od})\\boldsymbol{\\theta}$, is calculated by inputting x and y into `self.los.distort_vector`, using the \"od\" parameters\n",
    "\n",
    "`x_d, y_d = self.los.distort_vector(x_image, y_image,\n",
    "                                    kappa=kwargs_los['kappa_od'],\n",
    "                                    omega=kwargs_los['omega_od'],\n",
    "                                    gamma1=kwargs_los['gamma1_od'],\n",
    "                                    gamma2=kwargs_los['gamma2_od'])`\n",
    "\n",
    "\n",
    "6. The potential of the dominant lens is evaluated at these updated positions x_d and y_d, using \n",
    "\n",
    "`effective_potential = super().potential(x_d, y_d, kwargs=kwargs_dominant, k=k)`\n",
    "\n",
    "7. If source positions haven't already been calculated, these are calculated using the ray_shooting function as\n",
    "\n",
    "`if x_source is None or y_source is None:\n",
    "    x_source, y_source = self.ray_shooting(x_image, y_image, kwargs_lens, k=k)`\n",
    "\n",
    "8. The source position is then modified by $\\mathcal{A}_{os}^{-1}$\n",
    "\n",
    "`b_x = A_os_inv[0][0]*x_source + A_os_inv[0][1]*y_source\n",
    "b_y = A_os_inv[1][0]*x_source + A_os_inv[1][1]*y_source`  \n",
    "\n",
    "9. and $\\boldsymbol{\\alpha}'(\\boldsymbol{\\theta})$ is calculated as the difference between the image position and this modified source position\n",
    "\n",
    "`f_x = x_image - b_x\n",
    "f_y = y_image - b_y`\n",
    "\n",
    "10. $\\boldsymbol{\\alpha}'(\\boldsymbol{\\theta})$ is then further distorted by $\\mathcal{A}_{{\\rm LOS}}$\n",
    "\n",
    "`a_x = A_LOS[0][0]*f_x + A_LOS[0][1]*f_y\n",
    "a_y = A_LOS[1][0]*f_x + A_LOS[1][1]*f_y`\n",
    "\n",
    "11. The geometrical term, $\\frac{1}{2}\\boldsymbol{\\alpha}'(\\boldsymbol{\\theta})\\cdot\\mathcal{A}_{{\\rm LOS}}\\boldsymbol{\\alpha}'(\\boldsymbol{\\theta})$, is determined as\n",
    "\n",
    "`geometry = (f_x*a_x + f_y*a_y) / 2`\n",
    "\n",
    "12. Finally, the Fermat potential is returned as the geometric term minus the effective potential\n",
    "\n",
    "`return geometry - effective_potential`"
   ]
  },
  {
   "cell_type": "code",
   "execution_count": 31,
   "metadata": {},
   "outputs": [
    {
     "name": "stdout",
     "output_type": "stream",
     "text": [
      "Lens Model Class Time Delays\n",
      "\n",
      "Shears Fermat Potential =  [-0.42100607 -0.32773298 -0.25228824 -0.211407  ]\n",
      "los Fermat Potential =  [-0.4205894  -0.32731631 -0.25187157 -0.21099032]\n",
      "\n",
      "Shears Arrival Time =  [-36.19163946 -28.17345093 -21.6878705  -18.17352852]\n",
      "los Arrival Time =  [-36.15582033 -28.1376318  -21.65205137 -18.13770939]\n",
      "\n",
      "No line-of-sight effects being added.\n",
      "No line-of-sight effects being added.\n",
      "Adding LOS to the main lens.\n",
      "Adding LOS to the main lens.\n",
      "\n",
      "TD Cosmo Time Delays\n",
      "\n",
      "Shear Fermat Potential =  [-0.36410109 -0.30239215 -0.26706583 -0.23270915]\n",
      "los Fermat Potential =  [-0.4205894  -0.32731631 -0.25187157 -0.21099032]\n",
      "\n",
      "Shear Arrival Time =  [-31.29982283 -25.99503555 -22.9582204  -20.00476042]\n",
      "los Arrival Time =  [-36.15582033 -28.1376318  -21.65205137 -18.13770938]\n",
      "\n",
      "Alternative method of calculating Fermat Potential\n",
      "\n",
      "los Fermat Potential =  [-0.41645692 -0.32289694 -0.25132702 -0.2112214 ]\n",
      "los Arrival Time =  [-35.80057338 -27.75772274 -21.60523941 -18.1575741 ]\n"
     ]
    }
   ],
   "source": [
    "#Testing time delays\n",
    "from lenstronomy.Analysis.td_cosmography import TDCosmography\n",
    "\n",
    "from lenstronomy.Cosmo.lens_cosmo import LensCosmo\n",
    "lensCosmo = LensCosmo(z_lens=z_d, z_source=z_s, cosmo=cosmo)\n",
    "\n",
    "\n",
    "#firstly, using the lens model class\n",
    "\n",
    "fermat_pot_lens_shears = lens_model_class_shears.fermat_potential(kwargs_ps_shears[0]['ra_image'],kwargs_ps_shears[0]['dec_image'],kwargs_lens_shears)\n",
    "t_days_lens_shears = lens_model_class_shears.arrival_time(kwargs_ps_shears[0]['ra_image'],kwargs_ps_shears[0]['dec_image'],kwargs_lens_shears,kappa_ext=0)\n",
    "\n",
    "fermat_pot_lens_los = lens_model_class_los.fermat_potential(kwargs_ps_los[0]['ra_image'],kwargs_ps_los[0]['dec_image'],kwargs_lens_los)\n",
    "t_days_lens_los = lens_model_class_los.arrival_time(kwargs_ps_los[0]['ra_image'],kwargs_ps_los[0]['dec_image'],kwargs_lens_los,kappa_ext=0)\n",
    "\n",
    "print('Lens Model Class Time Delays')\n",
    "print('')\n",
    "print('Shears Fermat Potential = ', fermat_pot_lens_shears)\n",
    "print('los Fermat Potential = ', fermat_pot_lens_los)\n",
    "print('')\n",
    "print('Shears Arrival Time = ', t_days_lens_shears)\n",
    "print('los Arrival Time = ', t_days_lens_los)\n",
    "print('')\n",
    "\n",
    "#then, using TDCosmography\n",
    "\n",
    "td_cosmo_shears = TDCosmography(z_d, z_s, kwargs_model_shears, cosmo_fiducial=cosmo)\n",
    "t_days_shears = td_cosmo_shears.time_delays(kwargs_lens_shears, kwargs_ps_shears, kappa_ext=0)\n",
    "fermat_pot_shears = td_cosmo_shears.fermat_potential(kwargs_lens_shears, kwargs_ps_shears)\n",
    "\n",
    "td_cosmo_los = TDCosmography(z_d, z_s, kwargs_model_los, cosmo_fiducial=cosmo)\n",
    "t_days_los = td_cosmo_los.time_delays(kwargs_lens_los, kwargs_ps_los, kappa_ext=0)\n",
    "fermat_pot_los = td_cosmo_los.fermat_potential(kwargs_lens_los, kwargs_ps_los)\n",
    "\n",
    "print('')\n",
    "print('TD Cosmo Time Delays')\n",
    "print('')\n",
    "print('Shear Fermat Potential = ', fermat_pot_shears)\n",
    "print('los Fermat Potential = ', fermat_pot_los)\n",
    "print('')\n",
    "print('Shear Arrival Time = ', t_days_shears)\n",
    "print('los Arrival Time = ', t_days_los)\n",
    "\n",
    "#A quick test of the alternative method of calculating quantities\n",
    "\n",
    "fermat_pot_alt_los = lens_model_class_los.lens_model.fermat_potential2(kwargs_ps_los[0]['ra_image'],kwargs_ps_los[0]['dec_image'],kwargs_lens_los)\n",
    "t_days_alt_los = lensCosmo.time_delay_units(fermat_pot_alt_los)\n",
    "\n",
    "print('')\n",
    "print('Alternative method of calculating Fermat Potential')\n",
    "print('')\n",
    "print('los Fermat Potential = ', fermat_pot_alt_los)\n",
    "print('los Arrival Time = ', t_days_alt_los)\n",
    "\n"
   ]
  },
  {
   "cell_type": "markdown",
   "metadata": {},
   "source": [
    "### TD Cosmo vs Lens Model for Multi Plane Lensing (avoid running this again)\n",
    "\n",
    "The Fermat potential from TD Cosmo appears to give different results to that from lens model:"
   ]
  },
  {
   "cell_type": "code",
   "execution_count": 33,
   "metadata": {},
   "outputs": [
    {
     "name": "stdout",
     "output_type": "stream",
     "text": [
      "[ 0.62566472 -0.41057627  0.58696047 -0.65282766] [ 0.73020599 -0.73823951 -0.50705019  0.31286012]\n",
      "[{'theta_E': 0.8, 'gamma': 1.95, 'center_x': 0, 'center_y': 0, 'e1': 0.07, 'e2': -0.03}, {'gamma1': 0.08639387320085122, 'gamma2': -0.17278774640170244}, {'gamma1': -0.06639387320085122, 'gamma2': 0.23555224425856308}, {'gamma1': 0.0, 'gamma2': 0.03723550214313938}]\n",
      "[0.03444333 0.04921041 0.05480963 0.01937511] [ 0.03820026  0.01512471 -0.03431315  0.03091485]\n",
      "COMPARING LENS MODEL TO TD COSMO FERMAT POTENTIAL\n",
      "Fermat Potential TD Cosmo =  [-0.36410109 -0.30239215 -0.26706583 -0.23270915]\n",
      "Fermat Potential Lens Model =  [-0.42100607 -0.32773298 -0.25228824 -0.211407  ]\n",
      "\n"
     ]
    }
   ],
   "source": [
    "fermat_pot_td2 = td_cosmo_shears.fermat_potential(kwargs_lens_shears, kwargs_ps_shears)\n",
    "fermat_pot_lm = lens_model_class_shears.fermat_potential(kwargs_ps_shears[0]['ra_image'],kwargs_ps_shears[0]['dec_image'],kwargs_lens_shears)\n",
    "\n",
    "print('COMPARING LENS MODEL TO TD COSMO FERMAT POTENTIAL')\n",
    "print('Fermat Potential TD Cosmo = ', fermat_pot_td2[0])\n",
    "print('Fermat Potential Lens Model = ', fermat_pot_lm)\n",
    "print('')"
   ]
  },
  {
   "cell_type": "markdown",
   "metadata": {},
   "source": [
    "to try to identify the source of this discrepancy, I firstly wanted to check that they were being evaluated at the same image position"
   ]
  },
  {
   "cell_type": "code",
   "execution_count": 34,
   "metadata": {},
   "outputs": [
    {
     "name": "stdout",
     "output_type": "stream",
     "text": [
      "CHECKING THAT IMAGE POSITIONS ARE THE SAME\n",
      "Image Position Lens Model =  [ 0.62566472 -0.41057627  0.58696047 -0.65282766] [ 0.73020599 -0.73823951 -0.50705019  0.31286012]\n",
      "Image Posiion TD Cosmo (deconstructed) =  [ 0.62566472 -0.41057627  0.58696047 -0.65282766] [ 0.73020599 -0.73823951 -0.50705019  0.31286012]\n",
      "Image Position TD Cosmo =  (array([ 0.62566472, -0.41057627,  0.58696047, -0.65282766]), array([ 0.73020599, -0.73823951, -0.50705019,  0.31286012]))\n",
      "\n"
     ]
    }
   ],
   "source": [
    "ra_pos, dec_pos = point_source_class.image_position(kwargs_ps_shears, kwargs_lens_shears)\n",
    "\n",
    "print('CHECKING THAT IMAGE POSITIONS ARE THE SAME')\n",
    "print('Image Position Lens Model = ', kwargs_ps_shears[0]['ra_image'],kwargs_ps_shears[0]['dec_image'])\n",
    "print('Image Posiion TD Cosmo (deconstructed) = ', ra_pos[0],dec_pos[0])\n",
    "print('Image Position TD Cosmo = ', fermat_pot_td2[1:3])\n",
    "print('')"
   ]
  },
  {
   "cell_type": "markdown",
   "metadata": {},
   "source": [
    "These are clearly the same, and so I wanted to next consider whether the source positions calculated using ray tracing in each case are a match"
   ]
  },
  {
   "cell_type": "code",
   "execution_count": 35,
   "metadata": {},
   "outputs": [
    {
     "name": "stdout",
     "output_type": "stream",
     "text": [
      "CHECKING THAT THE SOURCE POSITIONS ARE THE SAME\n",
      "Source Position Lens Model =  0.05 0.02\n",
      "Source Position TD Cosmo (deconstructed) =  0.05000000001021612 0.019999999998086528\n",
      "Source Position TD Cosmo =  (0.03945962082147195, 0.012481666489458379)\n",
      "\n"
     ]
    }
   ],
   "source": [
    "#these are clearly the same, so I next wanted to check whether the source positions used were the same\n",
    "ra_sourcetd, dec_sourcetd = lens_model_class_shears.ray_shooting(fermat_pot_td2[1], fermat_pot_td2[2], fermat_pot_td2[5])\n",
    "sigma_sourcetd = np.sqrt(np.var(ra_sourcetd) + np.var(dec_sourcetd))\n",
    "ra_sourcetd = np.mean(ra_sourcetd)\n",
    "dec_sourcetd = np.mean(dec_sourcetd)\n",
    "\n",
    "print('CHECKING THAT THE SOURCE POSITIONS ARE THE SAME')\n",
    "print('Source Position Lens Model = ', ra_source, dec_source)\n",
    "print('Source Position TD Cosmo (deconstructed) = ', ra_sourcetd, dec_sourcetd)\n",
    "print('Source Position TD Cosmo = ', fermat_pot_td2[3:5])\n",
    "print('')\n"
   ]
  },
  {
   "cell_type": "markdown",
   "metadata": {},
   "source": [
    "It seems that the way I've calculated the source position is identical to how it's calculated in the code itself, and yet the code itself clearly gets it wrong. I then tested that the kwargs being used in each case are indeed the same"
   ]
  },
  {
   "cell_type": "code",
   "execution_count": 36,
   "metadata": {},
   "outputs": [
    {
     "name": "stdout",
     "output_type": "stream",
     "text": [
      "\n",
      "My Kwargs =  [{'theta_E': 0.8, 'gamma': 1.95, 'center_x': 0, 'center_y': 0, 'e1': 0.07, 'e2': -0.03}, {'gamma1': 0.08639387320085122, 'gamma2': -0.17278774640170244}, {'gamma1': -0.06639387320085122, 'gamma2': 0.23555224425856308}, {'gamma1': 0.0, 'gamma2': 0.03723550214313938}]\n",
      "Kwargs in TDCosmo =  [{'theta_E': 0.8, 'gamma': 1.95, 'center_x': 0, 'center_y': 0, 'e1': 0.07, 'e2': -0.03}, {'gamma1': 0.08639387320085122, 'gamma2': -0.17278774640170244}, {'gamma1': -0.06639387320085122, 'gamma2': 0.23555224425856308}, {'gamma1': 0.0, 'gamma2': 0.03723550214313938}]\n"
     ]
    }
   ],
   "source": [
    "print('')\n",
    "print('My Kwargs = ', kwargs_lens_shears)\n",
    "print('Kwargs in TDCosmo = ', fermat_pot_td2[5])"
   ]
  },
  {
   "cell_type": "markdown",
   "metadata": {},
   "source": [
    "And it seems like they are. My conclusion is that the lens model itself is different. This might be because TD Cosmography doesn't handle multi-plane lensing properly, which is further evidenced by the fact that the lens redshift is an argument when initialising the TDCosmo class (which doesn't really make sense for multiple lenses).\n",
    "\n",
    "In the below, we see once again that the functions and arguments used in TD Cosmo should result in an identical Fermat Potential as Lens Model. The fact that it doesn't can only result from the LensModel being different."
   ]
  },
  {
   "cell_type": "code",
   "execution_count": 37,
   "metadata": {},
   "outputs": [
    {
     "name": "stdout",
     "output_type": "stream",
     "text": [
      "Fermat Potential Lens Model =  [-0.42100607 -0.32773298 -0.25228824 -0.211407  ]\n",
      "Fermat Potential TD Cosmo (deconstructed) =  [-0.42100607 -0.32773298 -0.25228824 -0.211407  ]\n",
      "Fermat Potential TD Cosmo (deconstructed,checked) =  [-0.42100607 -0.32773298 -0.25228824 -0.211407  ]\n",
      "Fermat Potential TD Cosmo =  [-0.36410109 -0.30239215 -0.26706583 -0.23270915]\n"
     ]
    }
   ],
   "source": [
    "fermat_pot_lm = lens_model_class_shears.fermat_potential(kwargs_ps_shears[0]['ra_image'],kwargs_ps_shears[0]['dec_image'],kwargs_lens_shears)\n",
    "fermat_pot_td = lens_model_class_shears.fermat_potential(ra_pos[0],dec_pos[0], kwargs_lens_shears, ra_source, dec_source)\n",
    "fermat_pot_td3 = lens_model_class_shears.fermat_potential(ra_pos[0],dec_pos[0], fermat_pot_td2[5], fermat_pot_td2[3], fermat_pot_td2[4])\n",
    "\n",
    "print('Fermat Potential Lens Model = ', fermat_pot_lm)\n",
    "print('Fermat Potential TD Cosmo (deconstructed) = ', fermat_pot_td)\n",
    "print('Fermat Potential TD Cosmo (deconstructed,checked) = ', fermat_pot_td3)\n",
    "print('Fermat Potential TD Cosmo = ', fermat_pot_td2[0])\n"
   ]
  },
  {
   "cell_type": "markdown",
   "metadata": {},
   "source": [
    "In the below functions, it becomes more obvious why these calculations break down, as I think TD Cosmo is simply not set up to handle multi-plane lensing. The create_class_instances within TDCosmo simply uses kwargs_model, and so it has no place in which it can inform create_class_instances to make use of multi-plane lensing. My suspicion is that these calculations are being done with each of the three shear planes at the same redshift.\n",
    "\n",
    "kwargs_model within TD Cosmo in this case is simply:\n",
    "\n",
    "{'lens_model_list': ['EPL', 'SHEAR', 'SHEAR', 'SHEAR'], 'lens_light_model_list': ['SERSIC_ELLIPSE'], 'source_light_model_list': ['SERSIC_ELLIPSE'], 'point_source_model_list': ['LENSED_POSITION']}"
   ]
  },
  {
   "cell_type": "code",
   "execution_count": null,
   "metadata": {},
   "outputs": [],
   "source": [
    "def __init__(self, z_lens, z_source, kwargs_model, cosmo_fiducial=None, lens_model_kinematics_bool=None,\n",
    "                light_model_kinematics_bool=None, kwargs_seeing={}, kwargs_aperture={}, anisotropy_model=None,\n",
    "                multi_observations=False):\n",
    "    \"\"\"\n",
    "\n",
    "    :param z_lens: redshift of deflector\n",
    "    :param z_source: redshift of source\n",
    "    :param kwargs_model: model configurations (according to FittingSequence)\n",
    "    :param cosmo_fiducial: fiducial cosmology used to compute angular diameter distances where required\n",
    "    :param lens_model_kinematics_bool: (optional) bool list, corresponding to lens models being included into the\n",
    "        kinematics modeling\n",
    "    :param light_model_kinematics_bool: (optional) bool list, corresponding to lens light models being included\n",
    "        into the kinematics modeling\n",
    "    :param kwargs_seeing: seeing conditions (see observation class in Galkin)\n",
    "    :param kwargs_aperture: aperture keyword arguments (see aperture class in Galkin)\n",
    "    :param anisotropy_model: string, anisotropy model type\n",
    "    :param multi_observations: bool, if True, interprets kwargs_aperture and kwargs_seeing as lists of multiple\n",
    "        observations\n",
    "    \"\"\"\n",
    "\n",
    "    if cosmo_fiducial is None:\n",
    "        cosmo_fiducial = default_cosmology.get()\n",
    "    self._z_lens = z_lens\n",
    "    self._z_source = z_source\n",
    "    self._cosmo_fiducial = cosmo_fiducial\n",
    "    self._lens_cosmo = LensCosmo(z_lens=z_lens, z_source=z_source, cosmo=self._cosmo_fiducial)\n",
    "    self.LensModel, self.SourceModel, self.LensLightModel, self.PointSource, extinction_class = class_creator.create_class_instances(all_models=True, **kwargs_model)\n",
    "    super(TDCosmography, self).__init__(z_lens=z_lens, z_source=z_source, kwargs_model=kwargs_model,\n",
    "                                        cosmo=cosmo_fiducial, lens_model_kinematics_bool=lens_model_kinematics_bool,\n",
    "                                        light_model_kinematics_bool=light_model_kinematics_bool,\n",
    "                                        kwargs_seeing=kwargs_seeing, kwargs_aperture=kwargs_aperture,\n",
    "                                        anisotropy_model=anisotropy_model, multi_observations=multi_observations)"
   ]
  },
  {
   "cell_type": "markdown",
   "metadata": {},
   "source": [
    "### Relative Time Delays\n",
    "\n",
    "The actual time delays are not observable, only the relative time delays between images. The convention is to measure these relative to the first image. We then add errors to these measured delays, and these will then be used as part of the fitting as observables.\n"
   ]
  },
  {
   "cell_type": "code",
   "execution_count": 15,
   "metadata": {},
   "outputs": [
    {
     "name": "stdout",
     "output_type": "stream",
     "text": [
      "Firstly, we use Lens_Model\n",
      "\n",
      "the measured relative delays with shears are:  [ 8.01818853 14.50376897 18.01811095]\n",
      "the measured relative delays with los are:  [ 8.01818853 14.50376897 18.01811095]\n",
      "the differences are [ 1.10453868e-11 -3.42375017e-11 -3.51541019e-11]\n",
      "\n",
      "Then TD Cosmography\n",
      "\n",
      "the measured relative delays with shears are:  [ 5.30478728  8.34160243 11.2950624 ]\n",
      "the measured relative delays with los are:  [ 8.01818853 14.50376897 18.01811095]\n",
      "the differences are [-2.71340125 -6.16216654 -6.72304855]\n",
      "\n",
      "The alternative method compared to Lens_Model\n",
      "\n",
      "the measured relative delays with shears are:  [ 8.01818853 14.50376897 18.01811095]\n",
      "the measured relative delays with los are:  [ 8.04285064 14.19533397 17.64299928]\n",
      "the differences are [-0.02466211  0.308435    0.37511167]\n",
      "\n",
      "the differences between lens_model and TDCosmo are  [2.71340125 6.16216653 6.72304854]\n"
     ]
    }
   ],
   "source": [
    "# relative delays (observable). The convention is relative to the first image\n",
    "\n",
    "print('Firstly, we use Lens_Model')\n",
    "print('')\n",
    "\n",
    "dt_days_shears_lm =  t_days_lens_shears[1:] - t_days_lens_shears[0]\n",
    "dt_days_los_lm =  t_days_lens_los[1:] - t_days_lens_los[0]\n",
    "\n",
    "print(\"the measured relative delays with shears are: \", dt_days_shears_lm)\n",
    "print('the measured relative delays with los are: ', dt_days_los_lm)\n",
    "print('the differences are', dt_days_shears_lm-dt_days_los_lm)\n",
    "print('')\n",
    "\n",
    "print('Then TD Cosmography')\n",
    "print('')\n",
    "\n",
    "dt_days_shears =  t_days_shears[1:] - t_days_shears[0]\n",
    "dt_days_los =  t_days_los[1:] - t_days_los[0]\n",
    "\n",
    "\n",
    "print(\"the measured relative delays with shears are: \", dt_days_shears)\n",
    "print('the measured relative delays with los are: ', dt_days_los)\n",
    "print('the differences are', dt_days_shears-dt_days_los)\n",
    "print('')\n",
    "\n",
    "print('The alternative method compared to Lens_Model')\n",
    "print('')\n",
    "\n",
    "dt_days_los_alt = t_days_alt_los[1:] - t_days_alt_los[0]\n",
    "\n",
    "print(\"the measured relative delays with shears are: \", dt_days_shears_lm)\n",
    "print('the measured relative delays with los are: ', dt_days_los_alt)\n",
    "print('the differences are', dt_days_shears_lm-dt_days_los_alt)\n",
    "print('')\n",
    "\n",
    "print('the differences between lens_model and TDCosmo are ', dt_days_shears_lm-dt_days_shears)"
   ]
  },
  {
   "cell_type": "markdown",
   "metadata": {},
   "source": [
    "## 6. Test of LOS_Minimal"
   ]
  },
  {
   "cell_type": "markdown",
   "metadata": {},
   "source": [
    "The line-of-sight model 'LOS_MINIMAL' inherits from 'LOS' with the following correspondance:\n",
    "\\begin{align}\n",
    "\\boldsymbol{\\Gamma}_{\\rm LOS} &= \\boldsymbol{\\Gamma}_{os}\n",
    "\\\\\n",
    "\\boldsymbol{\\Gamma}_{od} &= \\boldsymbol{\\Gamma}_{ds}\n",
    "\\end{align}\n",
    "Here we test whether 'LOS_MINIMAL' has the expected behaviour."
   ]
  },
  {
   "cell_type": "code",
   "execution_count": 35,
   "metadata": {},
   "outputs": [
    {
     "name": "stdout",
     "output_type": "stream",
     "text": [
      "Adding LOS to the main lens.\n",
      "Adding LOS_MINIMAL to the main lens.\n"
     ]
    }
   ],
   "source": [
    "# Define the two lens models, one with LOS_MINIMAL and one with LOS such that\n",
    "# Gamma_ds = Gamma_od\n",
    "\n",
    "kwargs_epl = {'theta_E': 0.8,\n",
    "               'gamma': 1.95,\n",
    "               'center_x': 0,\n",
    "               'center_y': 0,\n",
    "               'e1': .07,\n",
    "               'e2': -0.03}\n",
    "\n",
    "kappa_od = -0.05\n",
    "omega_od = 0.02\n",
    "gamma_od = np.array([0.05, 0])\n",
    "kappa_los = 0.1\n",
    "omega_los = 0.03\n",
    "gamma_los = np.array([0.02, 0.1])\n",
    "kappa_os, omega_os, gamma_os = kappa_los, omega_los, gamma_los\n",
    "kappa_ds, omega_ds, gamma_ds = kappa_od, omega_od, gamma_od\n",
    "\n",
    "kwargs_los = {\n",
    "    'kappa_od': kappa_od, 'kappa_os': kappa_os, 'kappa_ds': kappa_ds,\n",
    "    'omega_od': omega_od, 'omega_os': omega_os, 'omega_ds': omega_ds,\n",
    "    'gamma1_od': gamma_od[0], 'gamma2_od': gamma_od[1],\n",
    "    'gamma1_os': gamma_os[0], 'gamma2_os': gamma_os[1],\n",
    "    'gamma1_ds': gamma_ds[0], 'gamma2_ds': gamma_ds[1]}\n",
    "\n",
    "kwargs_minimal = {\n",
    "    'kappa_od': kappa_od, 'kappa_los': kappa_los,\n",
    "    'omega_od': omega_od, 'omega_los': omega_los,\n",
    "    'gamma1_od': gamma_od[0], 'gamma2_od': gamma_od[1],\n",
    "    'gamma1_los': gamma_os[0], 'gamma2_los': gamma_os[1]}\n",
    "\n",
    "kwargs_lens_los = [kwargs_epl, kwargs_los]\n",
    "kwargs_lens_minimal = [kwargs_epl, kwargs_minimal]\n",
    "\n",
    "from lenstronomy.LensModel.lens_model import LensModel\n",
    "lens_model_class_los = LensModel(['EPL', 'LOS'])\n",
    "lens_model_class_minimal = LensModel(['EPL', 'LOS_MINIMAL'],\n",
    "    z_source=z_s)"
   ]
  },
  {
   "cell_type": "markdown",
   "metadata": {},
   "source": [
    "### Testing ray shooting, Hessian and Fermat potential"
   ]
  },
  {
   "cell_type": "code",
   "execution_count": 38,
   "metadata": {
    "scrolled": false
   },
   "outputs": [
    {
     "name": "stdout",
     "output_type": "stream",
     "text": [
      "\n",
      "For a list of images with coordinates:\n",
      "x = [3 4 5]\n",
      "y = [2 1 0]\n",
      "\n",
      "The sources computed with 'LOS' are:\n",
      "beta_x = [1.80846439 2.62770739 3.54705468]\n",
      "beta_y = [ 0.87584129  0.14657496 -0.63299205]\n",
      "and the ones from a 'LOS_MINIMAL' are:\n",
      "beta_x = [1.80846439 2.62770739 3.54705468]\n",
      "beta_y = [ 0.87584129  0.14657496 -0.63299205]\n",
      "The difference is:\n",
      "delta beta_x = [0. 0. 0.]\n",
      "delta beta_y = [0. 0. 0.]\n",
      "\n",
      "The Hessian matrix computed with 'LOS' is\n",
      "H_xx = [0.20333813 0.14260435 0.12852945]\n",
      "H_xy = [-0.03771881  0.02069722  0.07845606]\n",
      "H_yx = [0.01198476 0.07070373 0.12982992]\n",
      "H_yy = [0.27137682 0.32985634 0.30775012]\n",
      "while the Hessian matrix computed with 'LOS_MINIMAL is':\n",
      "H_xx = [0.20333813 0.14260435 0.12852945]\n",
      "H_xy = [-0.03771881  0.02069722  0.07845606]\n",
      "H_yx = [0.01198476 0.07070373 0.12982992]\n",
      "H_yy = [0.27137682 0.32985634 0.30775012]\n",
      "The difference is:\n",
      "delta H_xx = [0. 0. 0.]\n",
      "delta H_xy = [0. 0. 0.]\n",
      "delta H_yx = [0. 0. 0.]\n",
      "delta H_yy = [0. 0. 0.]\n",
      "\n",
      "The Fermat potentials computed with 'LOS' are:\n",
      "T = [-2.5535596  -2.91578877 -3.64318544]\n",
      "and the ones from a 'LOS_MINIMAL' are:\n",
      "T = [-2.5535596  -2.91578877 -3.64318544]\n",
      "The difference is:\n",
      "delta T = [0. 0. 0.]\n",
      "\n",
      "\n",
      "\n",
      "\n"
     ]
    }
   ],
   "source": [
    "# List of positions in the image plane\n",
    "x, y = np.array([3,4,5]), np.array([2,1,0])\n",
    "\n",
    "# Apply ray shooting to get the associated sources\n",
    "beta_x_los, beta_y_los = lens_model_class_los.ray_shooting(x, y, kwargs_lens_los)\n",
    "beta_x_minimal, beta_y_minimal = lens_model_class_minimal.ray_shooting(x, y, kwargs_lens_minimal)\n",
    "\n",
    "# Hessian matrices\n",
    "H_xx_los, H_xy_los, H_yx_los, H_yy_los = lens_model_class_los.hessian(x, y, kwargs_lens_los)\n",
    "H_xx_minimal, H_xy_minimal, H_yx_minimal, H_yy_minimal = lens_model_class_minimal.hessian(x, y, kwargs_lens_minimal)\n",
    "\n",
    "#time delays\n",
    "fermat_pot_los = lens_model_class_los.fermat_potential(x, y, kwargs_lens_los)\n",
    "fermat_pot_minimal = lens_model_class_minimal.fermat_potential(x, y, kwargs_lens_minimal)\n",
    "\n",
    "print(\"\"\"\n",
    "For a list of images with coordinates:\n",
    "x = {}\n",
    "y = {}\n",
    "\n",
    "The sources computed with 'LOS' are:\n",
    "beta_x = {}\n",
    "beta_y = {}\n",
    "and the ones from a 'LOS_MINIMAL' are:\n",
    "beta_x = {}\n",
    "beta_y = {}\n",
    "The difference is:\n",
    "delta beta_x = {}\n",
    "delta beta_y = {}\n",
    "\n",
    "The Hessian matrix computed with 'LOS' is\n",
    "H_xx = {}\n",
    "H_xy = {}\n",
    "H_yx = {}\n",
    "H_yy = {}\n",
    "while the Hessian matrix computed with 'LOS_MINIMAL is':\n",
    "H_xx = {}\n",
    "H_xy = {}\n",
    "H_yx = {}\n",
    "H_yy = {}\n",
    "The difference is:\n",
    "delta H_xx = {}\n",
    "delta H_xy = {}\n",
    "delta H_yx = {}\n",
    "delta H_yy = {}\n",
    "\n",
    "The Fermat potentials computed with 'LOS' are:\n",
    "T = {}\n",
    "and the ones from a 'LOS_MINIMAL' are:\n",
    "T = {}\n",
    "The difference is:\n",
    "delta T = {}\n",
    "\n",
    "\n",
    "\n",
    "\"\"\".format(x, y, beta_x_los, beta_y_los, beta_x_minimal, beta_y_minimal,\n",
    "           beta_x_los - beta_x_minimal, beta_y_los - beta_y_minimal,\n",
    "           H_xx_los, H_xy_los, H_yx_los, H_yy_los,\n",
    "           H_xx_minimal, H_xy_minimal, H_yx_minimal, H_yy_minimal,\n",
    "           H_xx_los - H_xx_minimal, H_xy_los - H_xy_minimal,\n",
    "           H_yx_los - H_yx_minimal, H_yy_los - H_yy_minimal, \n",
    "           fermat_pot_los, fermat_pot_minimal,\n",
    "           fermat_pot_los - fermat_pot_minimal\n",
    "))"
   ]
  },
  {
   "cell_type": "markdown",
   "metadata": {},
   "source": []
  },
  {
   "cell_type": "code",
   "execution_count": null,
   "metadata": {},
   "outputs": [],
   "source": []
  }
 ],
 "metadata": {
  "kernelspec": {
   "display_name": "Python 3",
   "language": "python",
   "name": "python3"
  },
  "language_info": {
   "codemirror_mode": {
    "name": "ipython",
    "version": 3
   },
   "file_extension": ".py",
   "mimetype": "text/x-python",
   "name": "python",
   "nbconvert_exporter": "python",
   "pygments_lexer": "ipython3",
   "version": "3.7.4"
  }
 },
 "nbformat": 4,
 "nbformat_minor": 5
}
