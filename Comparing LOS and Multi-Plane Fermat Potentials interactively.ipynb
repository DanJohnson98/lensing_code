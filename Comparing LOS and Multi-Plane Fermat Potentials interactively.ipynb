{
 "cells": [
  {
   "cell_type": "markdown",
   "metadata": {
    "button": false,
    "new_sheet": false,
    "run_control": {
     "read_only": false
    }
   },
   "source": [
    "# Trying to find the source of my error"
   ]
  },
  {
   "cell_type": "markdown",
   "metadata": {},
   "source": [
    "This notebook aims to test the features of the line-of-sight branch of lenstronomy, which includes the SinglePlaneLOS() class and the two line-of-sight models: 'LOS' and 'LOS_MINIMAL'. In particular, we check that a lens with line-of-sight corrections is equivalent to a multi-plane lens setting."
   ]
  },
  {
   "cell_type": "markdown",
   "metadata": {},
   "source": [
    "<div class=\"alert alert-block alert-info\">\n",
    "    \n",
    "Importantly, in the EPL + 3 shear planes defined above, there are non-linear couplings between the shear planes which lead effectively to second-order convergence and rotation terms in the line-of-sight corrections. These must be taken into account.\n",
    "    \n",
    "Let's call $\\boldsymbol{\\Gamma}_f, \\boldsymbol{\\Gamma}_d, \\boldsymbol{\\Gamma}_b$ the three shear matrices in the foreground, dominant, and background planes. The exact displacement angle in that case reads\n",
    "$$\n",
    "\\boldsymbol{\\alpha}(\\boldsymbol{\\theta})\n",
    "=\n",
    "\\boldsymbol{\\Gamma}_{os}\\boldsymbol{\\theta}\n",
    "+ (1-\\boldsymbol{\\Gamma}_{ds})\n",
    "    \\boldsymbol{\\alpha}_{ods}[(1-\\boldsymbol{\\Gamma}_{od})\\boldsymbol{\\theta}]\n",
    "$$\n",
    "with\n",
    "\\begin{align}\n",
    "\\boldsymbol{\\Gamma}_{od}\n",
    "&= \\boldsymbol{\\Gamma}_{ofd}\n",
    "= \\frac{D_{fd}D_{os}}{D_{od}D_{fs}} \\boldsymbol{\\Gamma}_{f}\n",
    "\\\\\n",
    "\\boldsymbol{\\Gamma}_{ds}\n",
    "&= \\boldsymbol{\\Gamma}_{dbs}\n",
    "= \\frac{D_{os}D_{db}}{D_{ob}D_{ds}} \\boldsymbol{\\Gamma}_{f}\n",
    "\\\\\n",
    "\\boldsymbol{\\Gamma}_{os}\n",
    "&= \\boldsymbol{\\Gamma}_{f} + \\boldsymbol{\\Gamma}_{d} + \\boldsymbol{\\Gamma}_{b}\n",
    "    - \\left[\n",
    "        \\boldsymbol{\\Gamma}_{d} \\boldsymbol{\\Gamma}_{od}\n",
    "        + \\boldsymbol{\\Gamma}_{b} \\boldsymbol{\\Gamma}_{ofb}\n",
    "        + \\boldsymbol{\\Gamma}_{b} \\boldsymbol{\\Gamma}_{ofb} (1-\\boldsymbol{\\Gamma}_{od})\n",
    "        \\right]\n",
    "\\end{align}"
   ]
  },
  {
   "cell_type": "markdown",
   "metadata": {},
   "source": [
    "## 1. Define the lens models"
   ]
  },
  {
   "cell_type": "code",
   "execution_count": 3,
   "metadata": {
    "button": false,
    "new_sheet": false,
    "run_control": {
     "read_only": false
    }
   },
   "outputs": [],
   "source": [
    "# Import of standard python libraries\n",
    "import numpy as np\n",
    "import os\n",
    "import time\n",
    "import corner\n",
    "import matplotlib.pyplot as plt\n",
    "from mpl_toolkits.axes_grid1 import make_axes_locatable\n",
    "from ipywidgets import interact\n",
    "%matplotlib inline"
   ]
  },
  {
   "cell_type": "markdown",
   "metadata": {
    "button": false,
    "new_sheet": false,
    "run_control": {
     "read_only": false
    }
   },
   "source": [
    "Define a lens with line-of-sight shear using the standard approach of lenstronomy, i.e. add 3 shear planes to the main lens, here modelled as an elliptical power law (EPL)."
   ]
  },
  {
   "cell_type": "code",
   "execution_count": 10,
   "metadata": {},
   "outputs": [
    {
     "data": {
      "application/vnd.jupyter.widget-view+json": {
       "model_id": "6533b6bb65a34c1e9f2dc74de94c1e60",
       "version_major": 2,
       "version_minor": 0
      },
      "text/plain": [
       "interactive(children=(FloatSlider(value=0.0, description='gamma_od_1', max=0.9, min=-0.9, step=0.02), FloatSli…"
      ]
     },
     "metadata": {},
     "output_type": "display_data"
    },
    {
     "data": {
      "text/plain": [
       "<function __main__.function(gamma_od_1, gamma_od_2, gamma_os_1, gamma_os_2, gamma_ds_1, gamma_ds_2, x)>"
      ]
     },
     "execution_count": 10,
     "metadata": {},
     "output_type": "execute_result"
    }
   ],
   "source": [
    "lens_model_list_shears = ['EPL', 'SHEAR', 'SHEAR', 'SHEAR']\n",
    "lens_model_list_los = ['EPL', 'LOS']\n",
    "\n",
    "# Parameters of the main lens\n",
    "# We define its centre as the line of sight\n",
    "kwargs_epl = {'theta_E': 0.8,\n",
    "               'gamma': 1.95,\n",
    "               'center_x': 0,\n",
    "               'center_y': 0,\n",
    "               'e1': .07,\n",
    "               'e2': -0.03}\n",
    "\n",
    "# Cosmology (we need it for the distances that are involved in the relations between shears above)\n",
    "from astropy.cosmology import default_cosmology\n",
    "cosmo = default_cosmology.get()\n",
    "\n",
    "# Lensing setup to generate the 'true' (mock) image:\n",
    "# a main lens (EPL) and three shear planes\n",
    "z_s = 2\n",
    "z_d = 0.5 # redshift of dominant lens\n",
    "z_f = z_d/2 # redshift of foreground shear plane\n",
    "z_b = (z_s + z_d)/2 # redshift of background shear plane\n",
    "lens_redshift_list_shear = [z_d, z_f, z_d, z_b]\n",
    "\n",
    "def function(gamma_od_1,gamma_od_2,gamma_os_1,gamma_os_2,gamma_ds_1,gamma_ds_2,x):\n",
    "    ##Shear Model\n",
    "\n",
    "    # LOS (linear) shears\n",
    "    gamma_od = np.array([gamma_od_1, gamma_od_2])\n",
    "    gamma_os = np.array([gamma_os_1, gamma_os_2])\n",
    "    gamma_ds = np.array([gamma_ds_1, gamma_ds_2])\n",
    "\n",
    "    # Convert line-of-sight shears into lenstronomy shears\n",
    "    gamma_f = gamma_od*(\n",
    "        cosmo.angular_diameter_distance_z1z2(0, z_d)\n",
    "        * cosmo.angular_diameter_distance_z1z2(z_f, z_s)\n",
    "        / cosmo.angular_diameter_distance_z1z2(0, z_s)\n",
    "        / cosmo.angular_diameter_distance_z1z2(z_f, z_d))\n",
    "    gamma_b = gamma_ds*(\n",
    "        cosmo.angular_diameter_distance_z1z2(0, z_b)\n",
    "        * cosmo.angular_diameter_distance_z1z2(z_d, z_s)\n",
    "        / cosmo.angular_diameter_distance_z1z2(0, z_s)\n",
    "        / cosmo.angular_diameter_distance_z1z2(z_d, z_b))\n",
    "    gamma_d = gamma_os - gamma_f - gamma_b\n",
    "           \n",
    "    kwargs_gamma_f = {'gamma1': float(gamma_f[0]), 'gamma2': float(gamma_f[1])}\n",
    "    kwargs_gamma_d = {'gamma1': float(gamma_d[0]), 'gamma2': float(gamma_d[1])}\n",
    "    kwargs_gamma_b = {'gamma1': float(gamma_b[0]), 'gamma2': float(gamma_b[1])}\n",
    "    # I used float() here because otherwise astropy complains about units\n",
    "\n",
    "    # Generate the complete lens model\n",
    "    kwargs_lens_shears = [kwargs_epl,\n",
    "                          kwargs_gamma_f,\n",
    "                          kwargs_gamma_d,\n",
    "                          kwargs_gamma_b]\n",
    "    from lenstronomy.LensModel.lens_model import LensModel\n",
    "    lens_model_class_shears = LensModel(\n",
    "        lens_model_list_shears,\n",
    "        lens_redshift_list=lens_redshift_list_shear,\n",
    "        z_lens=z_d,\n",
    "        z_source=z_s,\n",
    "        multi_plane=True)\n",
    "    \n",
    "    ##LOS model\n",
    "    \n",
    "    # The (od) and (ds) corrections are the ones that we have entered first:\n",
    "    kwargs_los = {\n",
    "        'kappa_od': 0, 'kappa_ds': 0,\n",
    "        'omega_od': 0, 'omega_ds': 0,\n",
    "        'gamma1_od': gamma_od[0], 'gamma2_od': gamma_od[1],\n",
    "        'gamma1_ds': gamma_ds[0], 'gamma2_ds': gamma_ds[1]}\n",
    "\n",
    "    # but the (os) perturbations are affected by non-linear couplings\n",
    "    Id = np.array([[1, 0],\n",
    "                   [0, 1]])\n",
    "    Gamma_f = np.array([[float(gamma_f[0]), float(gamma_f[1])],\n",
    "                        [float(gamma_f[1]), -float(gamma_f[0])]])\n",
    "    Gamma_d = np.array([[float(gamma_d[0]), float(gamma_d[1])],\n",
    "                        [float(gamma_d[1]), -float(gamma_d[0])]])\n",
    "    Gamma_b = np.array([[float(gamma_b[0]), float(gamma_b[1])],\n",
    "                        [float(gamma_b[1]), -float(gamma_b[0])]])\n",
    "    Gamma_od = np.array([[gamma_od[0], gamma_od[1]],\n",
    "                         [gamma_od[1], -gamma_od[0]]])\n",
    "    Gamma_ofb = float(cosmo.angular_diameter_distance_z1z2(0, z_s)\n",
    "                     * cosmo.angular_diameter_distance_z1z2(z_f, z_b)\n",
    "                     / cosmo.angular_diameter_distance_z1z2(0, z_b)\n",
    "                     / cosmo.angular_diameter_distance_z1z2(z_f, z_s)) * np.array(Gamma_f)\n",
    "    Gamma_odb = float(cosmo.angular_diameter_distance_z1z2(0, z_s)\n",
    "                     * cosmo.angular_diameter_distance_z1z2(z_d, z_b)\n",
    "                     / cosmo.angular_diameter_distance_z1z2(0, z_b)\n",
    "                     / cosmo.angular_diameter_distance_z1z2(z_d, z_s)) * np.array(Gamma_d)\n",
    "\n",
    "    Gamma_os = (Gamma_f + Gamma_d + Gamma_b\n",
    "                - np.matmul(Gamma_d, Gamma_od)\n",
    "                - np.matmul(Gamma_b, Gamma_ofb + np.matmul(Gamma_odb, Id - Gamma_od))\n",
    "               )\n",
    "\n",
    "    kappa_os = (Gamma_os[0,0] + Gamma_os[1,1]) / 2\n",
    "    gamma1_os = (Gamma_os[0,0] - Gamma_os[1,1]) / 2\n",
    "    gamma2_os = (Gamma_os[0,1] + Gamma_os[1,0]) / 2\n",
    "    omega_os = (Gamma_os[1,0] - Gamma_os[0,1]) / 2\n",
    "\n",
    "    kwargs_los.update({'kappa_os': 0, 'omega_os': 0,\n",
    "                       'gamma1_os': float(gamma_os[0]), 'gamma2_os': float(gamma_os[1])})\n",
    "\n",
    "    kwargs_los.update({'kappa_os': kappa_os, 'omega_os': omega_os,\n",
    "                       'gamma1_os': gamma1_os, 'gamma2_os': gamma2_os})\n",
    "\n",
    "    # Generate the full model\n",
    "    kwargs_lens_los = [kwargs_epl, kwargs_los]\n",
    "    from lenstronomy.LensModel.lens_model import LensModel\n",
    "    lens_model_class_los = LensModel(lens_model_list_los,\n",
    "        z_lens=z_d,\n",
    "        z_source=z_s)    \n",
    "                         \n",
    "    y = np.linspace(-5,5,100)\n",
    "    xx = x*np.ones(100)\n",
    "                         \n",
    "    phi_shears = lens_model_class_shears.fermat_potential(xx, y, kwargs_lens_shears)\n",
    "    phi_los = lens_model_class_los.fermat_potential(xx, y, kwargs_lens_los)\n",
    "    \n",
    "    plt.figure()\n",
    "    line1=plt.plot(y,phi_los,label='LOS Fermat Potential')\n",
    "    line2=plt.plot(y,phi_shears,label='Multi-Plane Fermat Potential')      \n",
    "    plt.legend()\n",
    "    plt.xlabel(\"y\")\n",
    "    plt.ylabel(\"Fermat Potential\")\n",
    "    \n",
    "interact(function, gamma_od_1=(-0.9,0.9,0.02),gamma_od_2=(-0.9,0.9,0.02),gamma_os_1=(-0.9,0.9,0.02),gamma_os_2=(-0.9,0.9,0.02),gamma_ds_1=(-0.9,0.9,0.02),gamma_ds_2=(-0.9,0.9,0.02),x=(-5,5,0.2))     "
   ]
  },
  {
   "cell_type": "code",
   "execution_count": null,
   "metadata": {},
   "outputs": [],
   "source": []
  }
 ],
 "metadata": {
  "kernelspec": {
   "display_name": "Python 3",
   "language": "python",
   "name": "python3"
  },
  "language_info": {
   "codemirror_mode": {
    "name": "ipython",
    "version": 3
   },
   "file_extension": ".py",
   "mimetype": "text/x-python",
   "name": "python",
   "nbconvert_exporter": "python",
   "pygments_lexer": "ipython3",
   "version": "3.7.4"
  }
 },
 "nbformat": 4,
 "nbformat_minor": 5
}
